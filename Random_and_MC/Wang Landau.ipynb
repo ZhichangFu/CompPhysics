{
 "cells": [
  {
   "cell_type": "markdown",
   "metadata": {},
   "source": [
    "# Wang Landau algorithm"
   ]
  },
  {
   "cell_type": "code",
   "execution_count": 1,
   "metadata": {},
   "outputs": [],
   "source": [
    "from numpy import *\n",
    "from numpy import random\n",
    "from numba import jit\n",
    "\n",
    "@jit(nopython=True)\n",
    "def CEnergy(latt):\n",
    "    \"Energy of configuration for the 2D Ising model\"\n",
    "    N = shape(latt)[0]\n",
    "    Ene = 0\n",
    "    for i in range(len(latt)):\n",
    "        for j in range(len(latt)):\n",
    "            S = latt[i,j]   # Spin, can be either +1 or -1\n",
    "            WF = latt[(i+1)%N,j]+latt[i,(j+1)%N]+latt[(i-1)%N,j]+latt[i,(j-1)%N]\n",
    "            Ene += -S * WF\n",
    "    return Ene/2.\n",
    "\n",
    "def RandomL(N):\n",
    "    \"Random lattice corresponding to infinite temperature\"\n",
    "    return array(sign(2*random.random((N,N))-1),dtype=int) "
   ]
  },
  {
   "cell_type": "code",
   "execution_count": 6,
   "metadata": {},
   "outputs": [],
   "source": [
    "def PrepareEnergies(N):\n",
    "    Energies = (array(4*arange(-int(N*N/2),int(N*N/2)+1),dtype=int)).tolist() # -2 N^2...2N^2 in steps of 4\n",
    "    Energies.pop(1)  # take out E[1]\n",
    "    Energies.pop(-2) # take out E[-2]\n",
    "    Energies = array(Energies) # make array of energies again\n",
    "    Emin, Emax = Energies[0],Energies[-1]\n",
    "    #index array to energies\n",
    "    indE = -ones(Emax+1-Emin, dtype=int) # index table to get index to particular energy g(E)~g[indE[E]]\n",
    "    for i,E in enumerate(Energies):\n",
    "        indE[E-Emin]=i\n",
    "    # Ising lattice at infinite T\n",
    "    return (Energies, indE, Emin)"
   ]
  },
  {
   "cell_type": "code",
   "execution_count": 8,
   "metadata": {},
   "outputs": [
    {
     "name": "stdout",
     "output_type": "stream",
     "text": [
      "Emin= -200\n",
      "[-200 -192 -188 -184 -180 -176 -172 -168 -164 -160 -156 -152 -148 -144\n",
      " -140 -136 -132 -128 -124 -120 -116 -112 -108 -104 -100  -96  -92  -88\n",
      "  -84  -80  -76  -72  -68  -64  -60  -56  -52  -48  -44  -40  -36  -32\n",
      "  -28  -24  -20  -16  -12   -8   -4    0    4    8   12   16   20   24\n",
      "   28   32   36   40   44   48   52   56   60   64   68   72   76   80\n",
      "   84   88   92   96  100  104  108  112  116  120  124  128  132  136\n",
      "  140  144  148  152  156  160  164  168  172  176  180  184  188  192\n",
      "  200]\n",
      "[ 0 -1 -1 -1 -1 -1 -1 -1  1 -1 -1 -1  2 -1 -1 -1  3 -1 -1 -1  4 -1 -1 -1\n",
      "  5 -1 -1 -1  6 -1 -1 -1  7 -1 -1 -1  8 -1 -1 -1  9 -1 -1 -1 10 -1 -1 -1\n",
      " 11 -1 -1 -1 12 -1 -1 -1 13 -1 -1 -1 14 -1 -1 -1 15 -1 -1 -1 16 -1 -1 -1\n",
      " 17 -1 -1 -1 18 -1 -1 -1 19 -1 -1 -1 20 -1 -1 -1 21 -1 -1 -1 22 -1 -1 -1\n",
      " 23 -1 -1 -1 24 -1 -1 -1 25 -1 -1 -1 26 -1 -1 -1 27 -1 -1 -1 28 -1 -1 -1\n",
      " 29 -1 -1 -1 30 -1 -1 -1 31 -1 -1 -1 32 -1 -1 -1 33 -1 -1 -1 34 -1 -1 -1\n",
      " 35 -1 -1 -1 36 -1 -1 -1 37 -1 -1 -1 38 -1 -1 -1 39 -1 -1 -1 40 -1 -1 -1\n",
      " 41 -1 -1 -1 42 -1 -1 -1 43 -1 -1 -1 44 -1 -1 -1 45 -1 -1 -1 46 -1 -1 -1\n",
      " 47 -1 -1 -1 48 -1 -1 -1 49 -1 -1 -1 50 -1 -1 -1 51 -1 -1 -1 52 -1 -1 -1\n",
      " 53 -1 -1 -1 54 -1 -1 -1 55 -1 -1 -1 56 -1 -1 -1 57 -1 -1 -1 58 -1 -1 -1\n",
      " 59 -1 -1 -1 60 -1 -1 -1 61 -1 -1 -1 62 -1 -1 -1 63 -1 -1 -1 64 -1 -1 -1\n",
      " 65 -1 -1 -1 66 -1 -1 -1 67 -1 -1 -1 68 -1 -1 -1 69 -1 -1 -1 70 -1 -1 -1\n",
      " 71 -1 -1 -1 72 -1 -1 -1 73 -1 -1 -1 74 -1 -1 -1 75 -1 -1 -1 76 -1 -1 -1\n",
      " 77 -1 -1 -1 78 -1 -1 -1 79 -1 -1 -1 80 -1 -1 -1 81 -1 -1 -1 82 -1 -1 -1\n",
      " 83 -1 -1 -1 84 -1 -1 -1 85 -1 -1 -1 86 -1 -1 -1 87 -1 -1 -1 88 -1 -1 -1\n",
      " 89 -1 -1 -1 90 -1 -1 -1 91 -1 -1 -1 92 -1 -1 -1 93 -1 -1 -1 94 -1 -1 -1\n",
      " 95 -1 -1 -1 96 -1 -1 -1 97 -1 -1 -1 -1 -1 -1 -1 98]\n"
     ]
    }
   ],
   "source": [
    "Ene,indE,Emin = PrepareEnergies(10)\n",
    "print('Emin=',Emin)\n",
    "print(Ene)\n",
    "print(indE)"
   ]
  },
  {
   "cell_type": "code",
   "execution_count": 4,
   "metadata": {},
   "outputs": [],
   "source": [
    "from numpy import random\n",
    "def WangLandau(Nitt, N, flatness):\n",
    "    \"Wang Landau in Python\"\n",
    "    (Energies, indE, Emin) = PrepareEnergies(N)\n",
    "    latt = RandomL(N)\n",
    "    return RunWangLandau(Nitt,Energies,latt,indE)"
   ]
  },
  {
   "cell_type": "code",
   "execution_count": 9,
   "metadata": {},
   "outputs": [],
   "source": [
    "@jit(nopython=True)\n",
    "def RunWangLandau(Nitt,Energies,latt,indE):\n",
    "    N   = len(latt)\n",
    "    Ene = int(CEnergy(latt))\n",
    "    #min,maximum energy\n",
    "    Emin, Emax = Energies[0],Energies[-1]\n",
    "    # Logarithm of the density of states\n",
    "    lngE = zeros(len(Energies))\n",
    "    # Histogram\n",
    "    Hist = zeros(len(Energies))\n",
    "    # modification factor\n",
    "    lnf = 1.0   # f = exp(lnf)=e\n",
    "    N2 = N*N\n",
    "    for itt in range(Nitt):\n",
    "        t = int(random.rand()*N2)\n",
    "        (i, j) = (int(t/N), t%N)\n",
    "        S = latt[i,j]\n",
    "        WF = latt[(i+1)%N,j]+latt[i,(j+1)%N]+latt[(i-1)%N,j]+latt[i,(j-1)%N]\n",
    "        Enew = Ene + int(2*S*WF) # the energy change if we flip the spin\n",
    "        # P = g(E)/g(Enew) = exp(log(g(E))-log(g(Enew)))\n",
    "        # P = exp(lngE(E)-lngE(Enew))\n",
    "        lgnew = lngE[indE[Enew-Emin]]\n",
    "        lgold = lngE[indE[Ene-Emin]]\n",
    "        P = 1.0\n",
    "        if lgold-lgnew < 0 : P=exp(lgold-lgnew) # P = g_old/g_new = exp(log(g_old)-log(g_new))\n",
    "        if P > random.rand():\n",
    "            # accept the step\n",
    "            latt[i,j] = -S\n",
    "            Ene = Enew\n",
    "        Hist[indE[Ene-Emin]] += 1\n",
    "        lngE[indE[Ene-Emin]] += lnf\n",
    "        \n",
    "        if (itt+1) % 1000 == 0: # checking for flatness of the histogram\n",
    "            aH = sum(Hist)/N2 # average\n",
    "            mH = min(Hist)\n",
    "            if mH > aH*flatness:  # histogram is flat\n",
    "                Hist[:] = 0\n",
    "                lnf /= 2.\n",
    "                print(itt, 'histogram is flat', mH, aH, 'f=', exp(lnf))\n",
    "    return (lngE, Hist, Energies)"
   ]
  },
  {
   "cell_type": "code",
   "execution_count": 10,
   "metadata": {},
   "outputs": [
    {
     "name": "stdout",
     "output_type": "stream",
     "text": [
      "10649999 histogram is flat 24269.0 26625.0 f= 1.6487212707001282\n",
      "13240999 histogram is flat 5840.0 6477.5 f= 1.2840254166877414\n",
      "15756999 histogram is flat 5673.0 6290.0 f= 1.1331484530668263\n",
      "18197999 histogram is flat 5495.0 6102.5 f= 1.0644944589178593\n",
      "20460999 histogram is flat 5104.0 5657.5 f= 1.0317434074991028\n",
      "22623999 histogram is flat 4874.0 5407.5 f= 1.0157477085866857\n",
      "25381999 histogram is flat 6222.0 6895.0 f= 1.007843097206448\n",
      "28732999 histogram is flat 7571.0 8377.5 f= 1.0039138893383475\n",
      "33813999 histogram is flat 11457.0 12702.5 f= 1.0019550335910028\n",
      "41300999 histogram is flat 16862.0 18717.5 f= 1.0009770394924165\n",
      "49078999 histogram is flat 17505.0 19445.0 f= 1.0004884004786945\n",
      "60349999 histogram is flat 25418.0 28177.5 f= 1.0002441704297478\n",
      "70789999 histogram is flat 23491.0 26100.0 f= 1.0001220777633837\n",
      "92226999 histogram is flat 48270.0 53592.5 f= 1.0000610370189331\n"
     ]
    }
   ],
   "source": [
    "from numpy import random\n",
    "\n",
    "flatness = 0.9\n",
    "N = 20\n",
    "Nitt = int(100e6)\n",
    "\n",
    "#N=10\n",
    "#Nitt = int(10e6)\n",
    "\n",
    "(lngE, Hist, Energies) = WangLandau(Nitt, N, flatness)"
   ]
  },
  {
   "cell_type": "code",
   "execution_count": 12,
   "metadata": {},
   "outputs": [],
   "source": [
    "# Proper normalization of the Density of states\n",
    "# g *= 4/(g[0]+g[-1])\n",
    "# log(g) += log(4)-log(g[-1])-log(1+exp(log(g[0])-log(g[-1])))\n",
    "# \n",
    "if lngE[-1]>lngE[0]:\n",
    "    lgC = log(4)-lngE[-1]-log(1+exp(lngE[0]-lngE[-1]))\n",
    "else:\n",
    "    lgC = log(4)-lngE[0]-log(1+exp(lngE[-1]-lngE[0]))\n",
    "    \n",
    "lngE += lgC"
   ]
  },
  {
   "cell_type": "code",
   "execution_count": 13,
   "metadata": {},
   "outputs": [
    {
     "data": {
      "text/plain": [
       "4.0"
      ]
     },
     "execution_count": 13,
     "metadata": {},
     "output_type": "execute_result"
    }
   ],
   "source": [
    "exp(lngE[0])+exp(lngE[-1])"
   ]
  },
  {
   "cell_type": "code",
   "execution_count": 14,
   "metadata": {},
   "outputs": [
    {
     "data": {
      "text/plain": [
       "[<matplotlib.lines.Line2D at 0x7fda096c9fd0>]"
      ]
     },
     "execution_count": 14,
     "metadata": {},
     "output_type": "execute_result"
    },
    {
     "data": {
      "image/png": "[encoded data removed]",
      "text/plain": [
       "<Figure size 432x288 with 1 Axes>"
      ]
     },
     "metadata": {
      "needs_background": "light"
     },
     "output_type": "display_data"
    }
   ],
   "source": [
    "from pylab import *\n",
    "%matplotlib inline\n",
    "\n",
    "plot(lngE)"
   ]
  },
  {
   "cell_type": "code",
   "execution_count": 17,
   "metadata": {},
   "outputs": [],
   "source": [
    "def Thermod(T, lngE, Energies, N):\n",
    "    Z = 0.\n",
    "    Ev = 0.  # <E>\n",
    "    E2v = 0. # <E^2>\n",
    "    for i,E in enumerate(Energies):\n",
    "        w = exp(lngE[i]-lngE[0]-(E-Energies[0])/T) # g(E)/g0 Exp(-(E-E0)/T)\n",
    "        Z += w\n",
    "        Ev += w*E\n",
    "        E2v += w*E**2\n",
    "    Ev *= 1./Z\n",
    "    E2v *= 1./Z\n",
    "    cv = (E2v-Ev**2)/T**2\n",
    "    return (Ev/(N**2), cv/(N**2))"
   ]
  },
  {
   "cell_type": "code",
   "execution_count": 18,
   "metadata": {},
   "outputs": [],
   "source": [
    "Te = linspace(0.5,4.,300)\n",
    "\n",
    "Thm=[]\n",
    "for T in Te:\n",
    "    Thm.append(Thermod(T, lngE, Energies, N))\n",
    "Thm = array(Thm)"
   ]
  },
  {
   "cell_type": "code",
   "execution_count": 19,
   "metadata": {},
   "outputs": [
    {
     "data": {
      "image/png": "[encoded data removed]",
      "text/plain": [
       "<Figure size 432x288 with 1 Axes>"
      ]
     },
     "metadata": {
      "needs_background": "light"
     },
     "output_type": "display_data"
    }
   ],
   "source": [
    "from pylab import *\n",
    "%matplotlib inline\n",
    "\n",
    "plot(Te, Thm[:,0], label='E(T)')\n",
    "plot(Te, Thm[:,1], label='cv(T)')\n",
    "xlabel('T')\n",
    "legend(loc='best')\n",
    "show()"
   ]
  },
  {
   "cell_type": "markdown",
   "metadata": {},
   "source": [
    "## Homework\n",
    "\n",
    "* Estimate the error of the density of states $log(g(E))==S(E)$ for 32x32 Ising model. \n",
    "\n",
    "To do that, you can use five independent runs of WL agorithm, which will produce $S_i(E)$ for i=1..5. \n",
    "In each WL run use $10^9$ Monte Carlo steps. From the series of $S_i(E)$ you can calculate \n",
    "\\begin{eqnarray}\n",
    "&& <S(E)> = \\frac{1}{n} \\sum_{i=1}^n S_i(E) \\\\\n",
    "&& \\sigma_E = \\sqrt{\\frac{<S^2(E)>-<S(E)>^2}{n}} = \\sqrt{\\frac{1}{n^2} \\sum_{i=1}^n (S_i(E)-<S(E)>)^2}\n",
    "\\end{eqnarray}\n",
    "\n",
    "Plot $S_i(E)-<S(E)>$ and $\\sigma_E$. \n",
    "\n",
    "* According to the publication \"Exact Distribution of Energies in the Two-Dimensional Ising Model\", PRL 76, 78 (1995), the first 10 values for the density of states in 32x32 Ising model is:\n",
    "$g_{Exact}=[2,2048,4096,1057792,4218880,371621888,2191790080,100903637504,768629792768,22748079183872]$\n",
    "\n",
    "Plot $<S(E)>$ and $log(g_{exact})$ for the first 10 coefficients, as well as their difference.\n",
    "\n",
    "Verify if your estimated $<S(E)>$ is approximately $\\sigma_E$ from exact result. To do that, plot $<S(E)>-S_{exact}$ and $\\sigma_E$ for the first 10 energies.\n",
    "\n",
    "* Calculate thermodynamics from your best estimation of $g(E)$."
   ]
  },
  {
   "cell_type": "code",
   "execution_count": null,
   "metadata": {},
   "outputs": [],
   "source": []
  }
 ],
 "metadata": {
  "kernelspec": {
   "display_name": "Python 3",
   "language": "python",
   "name": "python3"
  },
  "language_info": {
   "codemirror_mode": {
    "name": "ipython",
    "version": 3
   },
   "file_extension": ".py",
   "mimetype": "text/x-python",
   "name": "python",
   "nbconvert_exporter": "python",
   "pygments_lexer": "ipython3",
   "version": "3.8.5"
  }
 },
 "nbformat": 4,
 "nbformat_minor": 2
}
