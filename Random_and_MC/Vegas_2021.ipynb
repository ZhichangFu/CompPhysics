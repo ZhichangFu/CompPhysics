{
 "cells": [
  {
   "cell_type": "markdown",
   "metadata": {},
   "source": [
    "# Monte Carlo integration by Vegas"
   ]
  },
  {
   "cell_type": "markdown",
   "metadata": {},
   "source": [
    "## Brute force Monte Carlo"
   ]
  },
  {
   "cell_type": "markdown",
   "metadata": {},
   "source": [
    "First we will implement the simple Monte Carlo method."
   ]
  },
  {
   "cell_type": "code",
   "execution_count": 1,
   "metadata": {},
   "outputs": [],
   "source": [
    "# simple class to take care of statistically determined quantities\n",
    "class Cumulants:\n",
    "  def __init__(self):\n",
    "    self.sum=0.0    # f_0 + f_1 +.... + f_N\n",
    "    self.sqsum=0.0  # f_0^2 + f_1^2 +....+ f_N^2\n",
    "    self.avg = 0.0  # I_best when many iterations, otherwise <f> = 1/N\\sum_i f_i\n",
    "    self.err = 0.0  # sigma of I_best when many iterations, otherwise sqrt( <f^2>-<f>^2 )/sqrt(N)\n",
    "    self.chisq = 0.0\n",
    "    self.weightsum=0.0 # \\sum_i 1/sigma_i^2\n",
    "    self.avgsum=0.0    # \\sum_i <f>_i/sigma_i^2\n",
    "    self.avg2sum=0.0   # \\sum_i <f>_i^2/sigma_i^2\n",
    "\n",
    "def SimpleMC(integrant, ndim, unit, maxeval, cum):\n",
    "    nbatch=1000             # function will be evaluated in bacthes of 1000 evaluations at one time (for efficiency and storage issues)\n",
    "    neval=0\n",
    "    for nsamples in range(maxeval,0,-nbatch):  # loop over all_nsample evaluations in batches of nbatch\n",
    "        n = min(nbatch,nsamples)  # How many evaluations in this pass?\n",
    "        xr = unit*random.random((n,ndim)) # generates 2-d array of random numbers in the interval [0,1)\n",
    "        wfun = integrant(xr)  # n function evaluations required in single call\n",
    "        neval += n  # We just added so many fuction evaluations\n",
    "        cum.sum += sum(wfun)      # sum_i f_i*w_i = <fw>\n",
    "        cum.sqsum += sum(wfun*wfun)    # sum_i (f_i*w_i)^2 = <fw^2>/all_nsamples\n",
    "    \n",
    "    cum.avg = cum.sum/neval\n",
    "    w0 = sqrt(cum.sqsum/neval)  # sqrt(<f^2>)\n",
    "    cum.err = sqrt((w0-cum.avg)*(w0+cum.avg)/neval) # sqrt(sqsum-sum**2)\n",
    "    cum.avg *= unit**ndim  # adding units if not [0,1] interval\n",
    "    cum.err *= unit**ndim  # adding units if not [0,1] interval"
   ]
  },
  {
   "cell_type": "markdown",
   "metadata": {},
   "source": [
    "We used here a simple trick to avoid overflow, i.e.,\n",
    "\n",
    "\\begin{eqnarray}\n",
    "\\sqrt{\\frac{\\langle f^2\\rangle-\\langle f\\rangle^2}{N}} = \n",
    "\\sqrt{\\frac{(\\sqrt{\\langle f^2\\rangle}-\\langle f\\rangle)(\\sqrt{\\langle f^2\\rangle}+\\langle f\\rangle)}{N}}\n",
    "\\end{eqnarray}"
   ]
  },
  {
   "cell_type": "code",
   "execution_count": 2,
   "metadata": {},
   "outputs": [],
   "source": [
    "def my_integrant2(x):\n",
    "    \"\"\" For testing, we are integration the function\n",
    "       1/(1-cos(x)*cos(y)*cos(z))/pi^3\n",
    "       in the interval [0,pi]**3\n",
    "    \"\"\"\n",
    "    #nbatch,ndim = shape(x)\n",
    "    return 1.0/(1.0-cos(x[:,0])*cos(x[:,1])*cos(x[:,2]))/pi**3"
   ]
  },
  {
   "cell_type": "code",
   "execution_count": 5,
   "metadata": {},
   "outputs": [
    {
     "name": "stdout",
     "output_type": "stream",
     "text": [
      "1.3708722833046845 +- 0.015351159564106933 exact= 1.3932\n",
      "how many sigma away 1.454464504917317\n"
     ]
    }
   ],
   "source": [
    "from scipy import *\n",
    "from numpy import *\n",
    "unit=pi\n",
    "ndim=3\n",
    "maxeval=200000\n",
    "exact = 1.3932  # exact value of the integral\n",
    "    \n",
    "cum = Cumulants()\n",
    "    \n",
    "SimpleMC(my_integrant2, ndim, pi, maxeval, cum)\n",
    "print(cum.avg, '+-', cum.err, 'exact=', exact)\n",
    "print('how many sigma away', abs(cum.avg-exact)/cum.err)"
   ]
  },
  {
   "cell_type": "markdown",
   "metadata": {},
   "source": [
    "## Vegas"
   ]
  },
  {
   "cell_type": "markdown",
   "metadata": {},
   "source": [
    "First we define the grid points $g(x)$. At the beginning, we just set $g(x)=x$."
   ]
  },
  {
   "cell_type": "code",
   "execution_count": 6,
   "metadata": {},
   "outputs": [],
   "source": [
    "class Grid:\n",
    "    \"\"\"Contains the grid points g_n(x) with x=[0...1], and g=[0...1]\n",
    "       for Vegas integration. There are n-dim g_n functions.\n",
    "       Constraints : g(0)=0 and g(1)=1.\n",
    "    \"\"\"\n",
    "    def __init__(self, ndim, nbins):\n",
    "        self.g = zeros((ndim,nbins+1))  \n",
    "        # a bit dirty trick: We will later use also g[-1] in interpolation, which should be set to zero, hence\n",
    "        # we allocate dimension nbins+1, rather than nbinx\n",
    "        self.ndim=ndim\n",
    "        self.nbins=nbins\n",
    "        # At the beginning we set g(x)=x\n",
    "        # The grid-points are x_0 = 1/N, x_1 = 2/N, ... x_{N-1}=1.0. \n",
    "        # Note that g(0)=0, and we skip this point on the mesh.\n",
    "        for idim in range(ndim):\n",
    "            self.g[idim,:nbins] = arange(1,nbins+1)/float(nbins)"
   ]
  },
  {
   "cell_type": "code",
   "execution_count": 8,
   "metadata": {},
   "outputs": [],
   "source": [
    "def Vegas_step1(integrant, unit, maxeval, nstart, nincrease, grid, cum):\n",
    "    ndim, nbins = grid.ndim,grid.nbins  # dimension of the integral, size of the grid for binning in each direction\n",
    "    unit_dim = unit**ndim   # converts from unit cube integration to generalized cube with unit length\n",
    "    nbatch=1000             # function will be evaluated in bacthes of 1000 evaluations at one time (for efficiency and storage issues)\n",
    "    neval=0\n",
    "    print (\"\"\"Vegas parameters:\n",
    "       ndim = \"\"\"+str(ndim)+\"\"\"\n",
    "       unit = \"\"\"+str(unit)+\"\"\"\n",
    "       maxeval = \"\"\"+str(maxeval)+\"\"\"\n",
    "       nstart = \"\"\"+str(nstart)+\"\"\"\n",
    "       nincrease = \"\"\"+str(nincrease)+\"\"\"\n",
    "       nbins = \"\"\"+str(nbins)+\"\"\"\n",
    "       nbaths = \"\"\"+str(nbatch)+\"\\n\")\n",
    "\n",
    "    bins = zeros((nbatch,ndim),dtype=int) # in which sampled bin does this point fall?\n",
    "    \n",
    "    \n",
    "    all_nsamples = nstart\n",
    "    for nsamples in range(all_nsamples,0,-nbatch):  # loop over all_nsample evaluations in batches of nbatch\n",
    "        n = min(nbatch,nsamples)  # How many evaluations in this pass?\n",
    "        # We are integrating f(g_1(x),g_2(y),g_3(z))*dg_1/dx*dg_2/dy*dg_3/dz dx*dy*dz\n",
    "        # This is represented as  1/all_nsamples \\sum_{x_i,y_i,z_i} f(g_1(x_i),g_2(y_i),g_3(z_i))*dg_1/dx*dg_2/dy*dg_3/dz\n",
    "        #  where dg_1/dx = diff*NBINS\n",
    "        wgh = zeros(nbatch)          # weights for each random point in the batch\n",
    "        xr = random.random((n,ndim)) # generates 2-d array of random numbers in the interval [0,1)\n",
    "        for i in range(n):\n",
    "            weight = 1.0/all_nsamples\n",
    "            for dim in range(ndim):\n",
    "                # We want to evaluate the function f at point g(x), i.e, f(g_1(x),g_2(y),...)\n",
    "                # Here we transform the points x,y,z -> g_1(x), g_2(y), g_3(z)\n",
    "                # We hence want to evaluate g(x) ~ g(x[i]), where x is the random number and g is the grid function\n",
    "                # The discretized g(t) is defined on the grid :\n",
    "                #       t[-1]=0, t[0]=1/N, t[1]=2/N, t[2]=3/N ... t[N-1]=1.\n",
    "                # We know that g(0)=0 and g(1)=1, so that g[-1]=0.0 and g[N-1]=1.0\n",
    "                # To interpolate g at x, we first compute  i=int(x*N) and then we use linear interpolation\n",
    "                # g(x) = g[i-1] + (g[i]-g[i-1])*(x*N-i)  ;  if i>0\n",
    "                # g(x) =   0    + (g[0]-0)*(x*N-0)       ;  if i=0\n",
    "                #\n",
    "                pos = xr[i,dim]*nbins               # which grid would it fit ? (x*N)\n",
    "                ipos = int(pos)                     # the grid position is ipos : int(x*N)==i    \n",
    "                diff = grid.g[dim,ipos] - grid.g[dim,ipos-1]  # g[i]-g[i-1]\n",
    "                # linear interpolation for g(x) : \n",
    "                xr[i,dim] = (grid.g[dim,ipos-1] + (pos-ipos)*diff)*unit # g(xr) ~ ( g[i-1]+(g[i]-g[i-1])*(x*N-i) )*[units]\n",
    "                bins[i,dim]=ipos                    # remember in which bin this random number falls.\n",
    "                weight *= diff*nbins                #  weight for this dimension is dg/dx = (g[i]-g[i-1])*N\n",
    "                                                    # because dx = i/N - (i-1)/N = 1/N\n",
    "            wgh[i] = weight # total weight is  (df/dx)*(df/dy)*(df/dx).../N_{samples}\n",
    "        # Here we evaluate function f on all randomly generated x points above\n",
    "        fx = integrant(xr)  # n function evaluations required in single call\n",
    "        neval += n  # We just added so many fuction evaluations\n",
    "\n",
    "        # Now we compute the integral as weighted average, namely, f(g(x))*dg/dx\n",
    "        wfun = wgh * fx           # weight * function ~ f_i*w_i\n",
    "        cum.sum += sum(wfun)      # sum_i f_i*w_i = <fw>\n",
    "        wfun *= wfun              # carefull : this is like  (f_i * w_i/N)^2 hence  1/N (1/N (f_i*w_i)^2)\n",
    "        cum.sqsum += sum(wfun)    # sum_i (f_i*w_i)^2 = <fw^2>/all_nsamples\n",
    "                                  # \n",
    "    w0 = sqrt(cum.sqsum*all_nsamples)  # w0 = sqrt(<fw^2>)\n",
    "    w1 = (w0 + cum.sum)*(w0 - cum.sum) # w1 = (w0^2 - <fw>^2) = (<fw^2>-<fw>^2)\n",
    "    w = (all_nsamples-1)/w1            # w ~ 1/sigma_i^2 = (N-1)/(<fw^2>-<fw>^2)\n",
    "    # Note that variance of the MC sampling is Var(monte-f) = (<f^2>-<f>^2)/N == 1/sigma_i^2\n",
    "    cum.weightsum += w          # weightsum ~ \\sum_i 1/sigma_i^2\n",
    "    cum.avgsum += w*cum.sum     # avgsum    ~ \\sum_i <fw>_i / sigma_i^2\n",
    "    \n",
    "    cum.avg = cum.avgsum/cum.weightsum     # I_best = (\\sum_i <fw>_i/sigma_i^2 )/(\\sum_i 1/sigma_i^2)\n",
    "    cum.err = sqrt(1/cum.weightsum)        # err ~ sqrt(best sigma^2) = sqrt(1/(\\sum_i 1/sigma_i^2))\n",
    "     \n",
    "    cum.avg *= unit**ndim\n",
    "    cum.err *= unit**ndim"
   ]
  },
  {
   "cell_type": "code",
   "execution_count": 10,
   "metadata": {},
   "outputs": [
    {
     "name": "stdout",
     "output_type": "stream",
     "text": [
      "Vegas parameters:\n",
      "       ndim = 3\n",
      "       unit = 3.141592653589793\n",
      "       maxeval = 200000\n",
      "       nstart = 10000\n",
      "       nincrease = 5000\n",
      "       nbins = 128\n",
      "       nbaths = 1000\n",
      "\n",
      "1.3258378290394897 +- 0.02037303730823348 exact= 1.3932\n"
     ]
    }
   ],
   "source": [
    "from scipy import *\n",
    "from numpy import *\n",
    "\n",
    "unit=pi\n",
    "ndim=3\n",
    "maxeval=200000\n",
    "exact = 1.3932  # exact value of the integral\n",
    "    \n",
    "cum = Cumulants()\n",
    "    \n",
    "nbins=128\n",
    "nstart =10000\n",
    "nincrease=5000\n",
    "grid = Grid(ndim,nbins)\n",
    "random.seed(0)\n",
    "\n",
    "#SimpleMC(my_integrant2, ndim, pi, maxeval, cum)\n",
    "Vegas_step1(my_integrant2, pi, maxeval, nstart, nincrease, grid, cum)\n",
    "print (cum.avg, '+-', cum.err, 'exact=', exact)"
   ]
  },
  {
   "cell_type": "code",
   "execution_count": 11,
   "metadata": {},
   "outputs": [],
   "source": [
    "def Vegas_step2(integrant, unit, maxeval, nstart, nincrease, grid, cum):\n",
    "    ndim, nbins = grid.ndim,grid.nbins  # dimension of the integral, size of the grid for binning in each direction\n",
    "    unit_dim = unit**ndim   # converts from unit cube integration to generalized cube with unit length\n",
    "    nbatch=1000             # function will be evaluated in bacthes of 1000 evaluations at one time (for efficiency and storage issues)\n",
    "    neval=0\n",
    "    print (\"\"\"Vegas parameters:\n",
    "       ndim = \"\"\"+str(ndim)+\"\"\"\n",
    "       unit = \"\"\"+str(unit)+\"\"\"\n",
    "       maxeval = \"\"\"+str(maxeval)+\"\"\"\n",
    "       nstart = \"\"\"+str(nstart)+\"\"\"\n",
    "       nincrease = \"\"\"+str(nincrease)+\"\"\"\n",
    "       nbins = \"\"\"+str(nbins)+\"\"\"\n",
    "       nbaths = \"\"\"+str(nbatch)+\"\\n\")\n",
    "\n",
    "    bins = zeros((nbatch,ndim),dtype=int) # in which sampled bin does this point fall?\n",
    "    \n",
    "    \n",
    "    all_nsamples = nstart\n",
    "    fxbin = zeros((ndim,nbins))    #new2: after each iteration we reset the average function being binned\n",
    "    for nsamples in range(all_nsamples,0,-nbatch):  # loop over all_nsample evaluations in batches of nbatch\n",
    "        n = min(nbatch,nsamples)  # How many evaluations in this pass?\n",
    "        # We are integrating f(g_1(x),g_2(y),g_3(z))*dg_1/dx*dg_2/dy*dg_3/dz dx*dy*dz\n",
    "        # This is represented as  1/all_nsamples \\sum_{x_i,y_i,z_i} f(g_1(x_i),g_2(y_i),g_3(z_i))*dg_1/dx*dg_2/dy*dg_3/dz\n",
    "        #  where dg_1/dx = diff*NBINS\n",
    "        wgh = zeros(nbatch)          # weights for each random point in the batch\n",
    "        xr = random.random((n,ndim)) # generates 2-d array of random numbers in the interval [0,1)\n",
    "        for i in range(n):\n",
    "            weight = 1.0/all_nsamples\n",
    "            for dim in range(ndim):\n",
    "                # We want to evaluate the function f at point g(x), i.e, f(g_1(x),g_2(y),...)\n",
    "                # Here we transform the points x,y,z -> g_1(x), g_2(y), g_3(z)\n",
    "                # We hence want to evaluate g(x) ~ g(x[i]), where x is the random number and g is the grid function\n",
    "                # The discretized g(t) is defined on the grid :\n",
    "                #       t[-1]=0, t[0]=1/N, t[1]=2/N, t[2]=3/N ... t[N-1]=1.\n",
    "                # We know that g(0)=0 and g(1)=1, so that g[-1]=0.0 and g[N-1]=1.0\n",
    "                # To interpolate g at x, we first compute  i=int(x*N) and then we use linear interpolation\n",
    "                # g(x) = g[i-1] + (g[i]-g[i-1])*(x*N-i)  ;  if i>0\n",
    "                # g(x) =   0    + (g[0]-0)*(x*N-0)       ;  if i=0\n",
    "                #\n",
    "                pos = xr[i,dim]*nbins               # which grid would it fit ? (x*N)\n",
    "                ipos = int(pos)                     # the grid position is ipos : int(x*N)==i\n",
    "                diff = grid.g[dim,ipos] - grid.g[dim,ipos-1]  # g[i]-g[-1]\n",
    "                # linear interpolation for g(x) : \n",
    "                xr[i,dim] = (grid.g[dim,ipos-1] + (pos-ipos)*diff)*unit # g(xr) ~ ( g[i-1]+(g[i]-g[i-1])*(x*N-i) )*[units]\n",
    "                bins[i,dim]=ipos                    # remember in which bin this random number falls.\n",
    "                weight *= diff*nbins                #  weight for this dimension is dg/dx = (g[i]-g[i-1])*N\n",
    "                                                    # because dx = i/N - (i-1)/N = 1/N\n",
    "            wgh[i] = weight # total weight is  (df/dx)*(df/dy)*(df/dx).../N_{samples}\n",
    "        # Here we evaluate function f on all randomly generated x points above\n",
    "        fx = integrant(xr)  # n function evaluations required in single call\n",
    "        neval += n  # We just added so many fuction evaluations\n",
    "\n",
    "        # Now we compute the integral as weighted average, namely, f(g(x))*dg/dx\n",
    "        wfun = wgh * fx           # weight * function ~ f_i*w_i\n",
    "        cum.sum += sum(wfun)      # sum_i f_i*w_i = <fw>\n",
    "        wfun *= wfun              # carefull : this is like  (f_i * w_i/N)^2 hence  1/N (1/N (f_i*w_i)^2)\n",
    "        cum.sqsum += sum(wfun)    # sum_i (f_i*w_i)^2 = <fw^2>/all_nsamples\n",
    "                                  # \n",
    "        for dim in range(ndim):   #new2\n",
    "            # projection of the sampled function^2 to each dimension, which will be used to improve the grid.\n",
    "            for i in range(n):    #new2\n",
    "                fxbin[dim, bins[i,dim] ] += wfun[i] #new2: just bin the function f. We saved the bin position before.\n",
    "            \n",
    "    w0 = sqrt(cum.sqsum*all_nsamples)  # w0 = sqrt(<fw^2>)\n",
    "    w1 = (w0 + cum.sum)*(w0 - cum.sum) # w1 = (w0^2 - <fw>^2) = (<fw^2>-<fw>^2)\n",
    "    w = (all_nsamples-1)/w1            # w ~ 1/sigma_i^2 = (N-1)/(<fw^2>-<fw>^2)\n",
    "    # Note that variance of the MC sampling is Var(monte-f) = (<f^2>-<f>^2)/N == 1/sigma_i^2\n",
    "    cum.weightsum += w          # weightsum ~ \\sum_i 1/sigma_i^2\n",
    "    cum.avgsum += w*cum.sum     # avgsum    ~ \\sum_i <fw>_i / sigma_i^2\n",
    "    \n",
    "    cum.avg = cum.avgsum/cum.weightsum     # I_best = (\\sum_i <fw>_i/sigma_i^2 )/(\\sum_i 1/sigma_i^2)\n",
    "    cum.err = sqrt(1/cum.weightsum)        # err ~ sqrt(best sigma^2) = sqrt(1/(\\sum_i 1/sigma_i^2))\n",
    "     \n",
    "    cum.avg *= unit**ndim\n",
    "    cum.err *= unit**ndim\n",
    "    \n",
    "    return fxbin"
   ]
  },
  {
   "cell_type": "code",
   "execution_count": 13,
   "metadata": {},
   "outputs": [
    {
     "name": "stdout",
     "output_type": "stream",
     "text": [
      "Vegas parameters:\n",
      "       ndim = 3\n",
      "       unit = 3.141592653589793\n",
      "       maxeval = 200000\n",
      "       nstart = 10000\n",
      "       nincrease = 5000\n",
      "       nbins = 128\n",
      "       nbaths = 1000\n",
      "\n",
      "1.3309249724420185 +- 0.024495231851185392 exact= 1.3932\n"
     ]
    }
   ],
   "source": [
    "from scipy import *\n",
    "from numpy import *\n",
    "\n",
    "unit=pi\n",
    "ndim=3\n",
    "maxeval=200000\n",
    "exact = 1.3932  # exact value of the integral\n",
    "    \n",
    "cum = Cumulants()\n",
    "    \n",
    "nbins=128\n",
    "nstart =10000\n",
    "nincrease=5000\n",
    "grid = Grid(ndim,nbins)\n",
    "\n",
    "#SimpleMC(my_integrant2, ndim, pi, maxeval, cum)\n",
    "fxbin = Vegas_step2(my_integrant2, pi, maxeval, nstart, nincrease, grid, cum)\n",
    "print(cum.avg, '+-', cum.err, 'exact=', exact)"
   ]
  },
  {
   "cell_type": "code",
   "execution_count": 14,
   "metadata": {},
   "outputs": [
    {
     "data": {
      "image/png": "[encoded data removed]",
      "text/plain": [
       "<Figure size 432x288 with 1 Axes>"
      ]
     },
     "metadata": {
      "needs_background": "light"
     },
     "output_type": "display_data"
    }
   ],
   "source": [
    "from pylab import *\n",
    "%matplotlib inline\n",
    "\n",
    "plot(fxbin[0])\n",
    "plot(fxbin[1])\n",
    "plot(fxbin[2])\n",
    "xlim([0,128])\n",
    "ylim([0,1e-7])\n",
    "show()"
   ]
  },
  {
   "cell_type": "code",
   "execution_count": 16,
   "metadata": {},
   "outputs": [],
   "source": [
    "def smfun(x):\n",
    "    if (x>0):\n",
    "        return ((x-1.)/log(x))**(1.5)\n",
    "    else:\n",
    "        return 0.\n",
    "vsmfun = vectorize(smfun)\n",
    "\n",
    "def Smoothen(fxbin):\n",
    "    (ndim,nbins) = shape(fxbin)\n",
    "    final = zeros(shape(fxbin))\n",
    "    for idim in range(ndim):\n",
    "        fxb = copy(fxbin[idim,:])\n",
    "        #**** smooth the f^2 value stored for each bin ****\n",
    "        # f[i] <- (f[i+1]+f[i]+f[i-1])/3.\n",
    "        fxb[:nbins-1] += fxbin[idim,1:nbins]\n",
    "        fxb[1:nbins]  += fxbin[idim,:nbins-1]\n",
    "        fxb[1:nbins-1] *= 1/3.\n",
    "        fxb[0] *= 1/2.\n",
    "        fxb[nbins-1] *= 1/2.\n",
    "        norm = sum(fxb)\n",
    "        if( norm == 0 ):\n",
    "            print ('ERROR can not refine the grid with zero grid function')\n",
    "            return # can not refine the grid if the function is zero.\n",
    "        fxb *= 1.0/norm         # we normalize the function.\n",
    "        # Note that normalization is such that the sum is 1.\n",
    "        final[idim,:] = vsmfun(fxb)\n",
    "    return final"
   ]
  },
  {
   "cell_type": "code",
   "execution_count": 17,
   "metadata": {},
   "outputs": [
    {
     "data": {
      "image/png": "[encoded data removed]",
      "text/plain": [
       "<Figure size 432x288 with 1 Axes>"
      ]
     },
     "metadata": {
      "needs_background": "light"
     },
     "output_type": "display_data"
    }
   ],
   "source": [
    "from pylab import *\n",
    "%matplotlib inline\n",
    "\n",
    "imp = Smoothen(fxbin)\n",
    "\n",
    "plot(imp[0])\n",
    "plot(imp[1])\n",
    "plot(imp[2])\n",
    "xlim([0,128])\n",
    "show()"
   ]
  },
  {
   "cell_type": "code",
   "execution_count": 18,
   "metadata": {},
   "outputs": [],
   "source": [
    "class Grid:\n",
    "    \"\"\"Contains the grid points g_n(x) with x=[0...1], and g=[0...1]\n",
    "       for Vegas integration. There are n-dim g_n functions.\n",
    "       Constraints : g(0)=0 and g(1)=1.\n",
    "    \"\"\"\n",
    "    def __init__(self, ndim, nbins):\n",
    "        self.g = zeros((ndim,nbins+1))  \n",
    "        # a bit dirty trick: We will later use also g[-1] in interpolation, which should be set to zero, hence\n",
    "        # we allocate dimension nbins+1, rather than nbinx\n",
    "        self.ndim=ndim\n",
    "        self.nbins=nbins\n",
    "        # At the beginning we set g(x)=x\n",
    "        # The grid-points are x_0 = 1/N, x_1 = 2/N, ... x_{N-1}=1.0. \n",
    "        # Note that g(0)=0, and we skip this point on the mesh.\n",
    "        for idim in range(ndim):\n",
    "            self.g[idim,:nbins] = arange(1,nbins+1)/float(nbins)\n",
    "            \n",
    "    def RefineGrid(self, imp):\n",
    "        (ndim,nbins) = shape(imp)\n",
    "        gnew = zeros((ndim,nbins+1))\n",
    "        for idim in range(ndim):\n",
    "            avgperbin = sum(imp[idim,:])/nbins\n",
    "            #**** redefine the size of each bin  ****\n",
    "            newgrid = zeros(nbins)\n",
    "            cur=0.0\n",
    "            newcur=0.0\n",
    "            thisbin = 0.0\n",
    "            ibin = -1\n",
    "            # we are trying to determine\n",
    "            #   Int[ f(g) dg, {g, g_{i-1},g_i}] == I/N_g\n",
    "            #   where I == avgperbin\n",
    "            for newbin in range(nbins-1):  # all but the last bin, which is 1.0\n",
    "                while (thisbin < avgperbin) :\n",
    "                    ibin+=1\n",
    "                    thisbin += imp[idim,ibin]\n",
    "                    prev = cur\n",
    "                    cur = self.g[idim,ibin]\n",
    "                # Explanation is in order : \n",
    "                #   prev    -- g^{old}_{l-1}\n",
    "                #   cur     -- g^{old}_l\n",
    "                #   thisbin -- Sm = f_{l-k}+.... +f_{l-2}+f_{l-1}+f_l\n",
    "                #   we know that  Sm is just a bit more than we need, i.e., I/N_g, hence we need to compute how much more\n",
    "                #   using linear interpolation :\n",
    "                #   g^{new} = g_l - (g_l-g_{l-1}) * (f_{l-k}+....+f_{l-2}+f_{l-1}+f_l - I/N_g)/f_l\n",
    "                #    clearly\n",
    "                #         if I/N_g == f_{l-k}+....+f_{l-2}+f_{l-1}+f_l\n",
    "                #            we will get g^{new} = g_l\n",
    "                #     and if I/N_g == f_{l-k}+....+f_{l-2}+f_{l-1}\n",
    "                #            we will get g^{new} = g_{l-1}\n",
    "                #     and if I/N_g  is between the two possibilities, we will get linear interpolation between\n",
    "                #     g_{l-1} and g_l\n",
    "                #     \n",
    "                thisbin -= avgperbin   # thisbin <- (f_{l-k}+....+f_{l-2}+f_{l-1}+f_l - I/N_g)\n",
    "                delta = (cur - prev)*thisbin # delta <-  (g_l-g_{l-1})*(f_{l-k}+....+f_{l-2}+f_{l-1}+f_l - I/N_g)\n",
    "                # cur is the closest point from the old mesh, while delta/imp is the correction using linear interpolation.\n",
    "                newgrid[newbin] = cur - delta/imp[idim,ibin]  \n",
    "\n",
    "            newgrid[nbins-1]=1.0\n",
    "            gnew[idim,:nbins]= newgrid\n",
    "        self.g = gnew\n",
    "        return gnew"
   ]
  },
  {
   "cell_type": "markdown",
   "metadata": {},
   "source": [
    "Update the class Grid, so that it can refine the grid"
   ]
  },
  {
   "cell_type": "code",
   "execution_count": 22,
   "metadata": {},
   "outputs": [
    {
     "name": "stdout",
     "output_type": "stream",
     "text": [
      "Vegas parameters:\n",
      "       ndim = 3\n",
      "       unit = 3.141592653589793\n",
      "       maxeval = 200000\n",
      "       nstart = 10000\n",
      "       nincrease = 5000\n",
      "       nbins = 128\n",
      "       nbaths = 1000\n",
      "\n",
      "1.3566487320143834 +- 0.03253120196392669 exact= 1.3932\n"
     ]
    },
    {
     "data": {
      "image/png": "[encoded data removed]",
      "text/plain": [
       "<Figure size 432x288 with 1 Axes>"
      ]
     },
     "metadata": {
      "needs_background": "light"
     },
     "output_type": "display_data"
    }
   ],
   "source": [
    "from scipy import *\n",
    "from numpy import *\n",
    "\n",
    "unit=pi\n",
    "ndim=3\n",
    "maxeval=200000\n",
    "exact = 1.3932  # exact value of the integral\n",
    "    \n",
    "cum = Cumulants()\n",
    "    \n",
    "nbins=128\n",
    "nstart =10000\n",
    "nincrease=5000\n",
    "\n",
    "grid = Grid(ndim,nbins)\n",
    "\n",
    "fxbin = Vegas_step2(my_integrant2, pi, maxeval, nstart, nincrease, grid, cum)\n",
    "imp = Smoothen(fxbin)\n",
    "grid.RefineGrid(imp)\n",
    "print(cum.avg, '+-', cum.err, 'exact=', exact)\n",
    "\n",
    "plot(grid.g[0,:nbins])\n",
    "plot(grid.g[1,:nbins])\n",
    "plot(grid.g[2,:nbins])\n",
    "xlim([0,128])\n",
    "show()"
   ]
  },
  {
   "cell_type": "code",
   "execution_count": 23,
   "metadata": {},
   "outputs": [],
   "source": [
    "def Vegas_step3(integrant, unit, maxeval, nstart, nincrease, grid, cum):\n",
    "    ndim, nbins = grid.ndim,grid.nbins  # dimension of the integral, size of the grid for binning in each direction\n",
    "    unit_dim = unit**ndim   # converts from unit cube integration to generalized cube with unit length\n",
    "    nbatch=1000             # function will be evaluated in bacthes of 1000 evaluations at one time (for efficiency and storage issues)\n",
    "    neval=0\n",
    "    print (\"\"\"Vegas parameters:\n",
    "       ndim = \"\"\"+str(ndim)+\"\"\"\n",
    "       unit = \"\"\"+str(unit)+\"\"\"\n",
    "       maxeval = \"\"\"+str(maxeval)+\"\"\"\n",
    "       nstart = \"\"\"+str(nstart)+\"\"\"\n",
    "       nincrease = \"\"\"+str(nincrease)+\"\"\"\n",
    "       nbins = \"\"\"+str(nbins)+\"\"\"\n",
    "       nbaths = \"\"\"+str(nbatch)+\"\\n\")\n",
    "\n",
    "    bins = zeros((nbatch,ndim),dtype=int) # in which sampled bin does this point fall?\n",
    "    \n",
    "    \n",
    "    all_nsamples = nstart\n",
    "    for iter in range(1000):\n",
    "        wgh = zeros(nbatch)            # weights for each random point in the batch\n",
    "        fxbin = zeros((ndim,nbins))    # after each iteration we reset the average function being binned\n",
    "        for nsamples in range(all_nsamples,0,-nbatch):  # loop over all_nsample evaluations in batches of nbatch\n",
    "            n = min(nbatch,nsamples)  # How many evaluations in this pass?\n",
    "            # We are integrating f(g_1(x),g_2(y),g_3(z))*dg_1/dx*dg_2/dy*dg_3/dz dx*dy*dz\n",
    "            # This is represented as  1/all_nsamples \\sum_{x_i,y_i,z_i} f(g_1(x_i),g_2(y_i),g_3(z_i))*dg_1/dx*dg_2/dy*dg_3/dz\n",
    "            #  where dg_1/dx = diff*NBINS\n",
    "            xr = random.random((n,ndim)) # generates 2-d array of random numbers in the interval [0,1)\n",
    "            for i in range(n):\n",
    "                weight = 1.0/all_nsamples\n",
    "                for dim in range(ndim):\n",
    "                    # We want to evaluate the function f at point g(x), i.e, f(g_1(x),g_2(y),...)\n",
    "                    # Here we transform the points x,y,z -> g_1(x), g_2(y), g_3(z)\n",
    "                    # We hence want to evaluate g(x) ~ g(x[i]), where x is the random number and g is the grid function\n",
    "                    # The discretized g(t) is defined on the grid :\n",
    "                    #       t[-1]=0, t[0]=1/N, t[1]=2/N, t[2]=3/N ... t[N-1]=1.\n",
    "                    # We know that g(0)=0 and g(1)=1, so that g[-1]=0.0 and g[N-1]=1.0\n",
    "                    # To interpolate g at x, we first compute  i=int(x*N) and then we use linear interpolation\n",
    "                    # g(x) = g[i-1] + (g[i]-g[i-1])*(x*N-i)  ;  if i>0\n",
    "                    # g(x) =   0    + (g[0]-0)*(x*N-0)       ;  if i=0\n",
    "                    #\n",
    "                    pos = xr[i,dim]*nbins               # which grid would it fit ? (x*N)\n",
    "                    ipos = int(pos)                     # the grid position is ipos : int(x*N)==i\n",
    "                    diff = grid.g[dim,ipos] - grid.g[dim,ipos-1]  # g[i]-g[-1]\n",
    "                    # linear interpolation for g(x) : \n",
    "                    xr[i,dim] = (grid.g[dim,ipos-1] + (pos-ipos)*diff)*unit # g(xr) ~ ( g[i-1]+(g[i]-g[i-1])*(x*N-i) )*[units]\n",
    "                    bins[i,dim]=ipos                    # remember in which bin this random number falls.\n",
    "                    weight *= diff*nbins                #  weight for this dimension is dg/dx = (g[i]-g[i-1])*N\n",
    "                                                        # because dx = i/N - (i-1)/N = 1/N\n",
    "                wgh[i] = weight # total weight is  (df/dx)*(df/dy)*(df/dx).../N_{samples}\n",
    "            \n",
    "            # Here we evaluate function f on all randomly generated x points above\n",
    "            fx = integrant(xr)  # n function evaluations required in single call\n",
    "            neval += n  # We just added so many fuction evaluations\n",
    "\n",
    "            # Now we compute the integral as weighted average, namely, f(g(x))*dg/dx\n",
    "            wfun = wgh * fx           # weight * function ~ f_i*w_i            \n",
    "            cum.sum += sum(wfun)      # sum_i f_i*w_i = <fw>\n",
    "            wfun *= wfun              # carefull : this is like  (f_i * w_i/N)^2 hence  1/N (1/N (f_i*w_i)^2)\n",
    "            cum.sqsum += sum(wfun)    # sum_i (f_i*w_i)^2 = <fw^2>/all_nsamples\n",
    "                                      # \n",
    "            for dim in range(ndim):   #new2\n",
    "                # Here we make a better approximation for the function, which we are integrating.\n",
    "                for i in range(n):    #new2\n",
    "                    fxbin[dim, bins[i,dim] ] += wfun[i] #new2: just bin the function f. We saved the bin position before.\n",
    "\n",
    "        w0 = sqrt(cum.sqsum*all_nsamples)  # w0 = sqrt(<fw^2>)\n",
    "        w1 = (w0 + cum.sum)*(w0 - cum.sum) # w1 = (w0^2 - <fw>^2) = (<fw^2>-<fw>^2)\n",
    "        w = (all_nsamples-1)/w1            # w ~ 1/sigma_i^2 = (N-1)/(<fw^2>-<fw>^2)\n",
    "        # Note that variance of the MC sampling is Var(monte-f) = (<f^2>-<f>^2)/N == 1/sigma_i^2\n",
    "        cum.weightsum += w          # weightsum ~ \\sum_i 1/sigma_i^2\n",
    "        cum.avgsum += w*cum.sum     # avgsum    ~ \\sum_i <fw>_i / sigma_i^2\n",
    "        cum.avg2sum += w*cum.sum**2  # avg2cum   ~ \\sum_i <fw>_i^2/sigma_i^2\n",
    "        \n",
    "        cum.avg = cum.avgsum/cum.weightsum     # I_best = (\\sum_i <fw>_i/sigma_i^2 )/(\\sum_i 1/sigma_i^2)\n",
    "        cum.err = sqrt(1/cum.weightsum)        # err ~ sqrt(best sigma^2) = sqrt(1/(\\sum_i 1/sigma_i^2))\n",
    "     \n",
    "        # new in this step\n",
    "        if iter>0:\n",
    "            cum.chisq = (cum.avg2sum - 2*cum.avgsum*cum.avg + cum.weightsum*cum.avg**2)/iter\n",
    "    \n",
    "        print (\"Iteration {:3d}: I= {:10.8f} +- {:10.8f}  chisq= {:10.8f} number of evaluations = {:7d} \".format(iter+1, cum.avg*unit_dim, cum.err*unit_dim, cum.chisq, neval))\n",
    "        imp = Smoothen(fxbin)\n",
    "        grid.RefineGrid(imp)\n",
    "        \n",
    "        cum.sum=0                    # clear the partial sum for the next step\n",
    "        cum.sqsum=0\n",
    "        all_nsamples += nincrease    # for the next time, increase the number of steps a bit\n",
    "        if (neval>=maxeval): break\n",
    "        \n",
    "    cum.avg *= unit**ndim\n",
    "    cum.err *= unit**ndim"
   ]
  },
  {
   "cell_type": "code",
   "execution_count": 25,
   "metadata": {},
   "outputs": [
    {
     "name": "stdout",
     "output_type": "stream",
     "text": [
      "Vegas parameters:\n",
      "       ndim = 3\n",
      "       unit = 3.141592653589793\n",
      "       maxeval = 2000000\n",
      "       nstart = 100000\n",
      "       nincrease = 5000\n",
      "       nbins = 128\n",
      "       nbaths = 1000\n",
      "\n",
      "Iteration   1: I= 1.36762346 +- 0.01023309  chisq= 0.00000000 number of evaluations =  100000 \n",
      "Iteration   2: I= 1.38308994 +- 0.00488295  chisq= 2.95787653 number of evaluations =  205000 \n",
      "Iteration   3: I= 1.38903765 +- 0.00341085  chisq= 2.92764168 number of evaluations =  315000 \n",
      "Iteration   4: I= 1.39085420 +- 0.00271957  chisq= 2.21131183 number of evaluations =  430000 \n",
      "Iteration   5: I= 1.39235286 +- 0.00238578  chisq= 1.98798517 number of evaluations =  550000 \n",
      "Iteration   6: I= 1.39215278 +- 0.00209328  chisq= 1.59649946 number of evaluations =  675000 \n",
      "Iteration   7: I= 1.39187814 +- 0.00186075  chisq= 1.34408861 number of evaluations =  805000 \n",
      "Iteration   8: I= 1.39040546 +- 0.00167503  chisq= 1.62389166 number of evaluations =  940000 \n",
      "Iteration   9: I= 1.39098400 +- 0.00155755  chisq= 1.53107506 number of evaluations = 1080000 \n",
      "Iteration  10: I= 1.39152488 +- 0.00144974  chisq= 1.46121875 number of evaluations = 1225000 \n",
      "Iteration  11: I= 1.39101550 +- 0.00135470  chisq= 1.41244571 number of evaluations = 1375000 \n",
      "Iteration  12: I= 1.39111487 +- 0.00127230  chisq= 1.28818899 number of evaluations = 1530000 \n",
      "Iteration  13: I= 1.39172957 +- 0.00120599  chisq= 1.37245777 number of evaluations = 1690000 \n",
      "Iteration  14: I= 1.39195626 +- 0.00114625  chisq= 1.29501238 number of evaluations = 1855000 \n",
      "Iteration  15: I= 1.39272504 +- 0.00110407  chisq= 1.64730521 number of evaluations = 2025000 \n",
      "1.3927250368308894 +- 0.0011040731205297308 exact= 1.3932 real error= 0.00034091528072821835\n"
     ]
    },
    {
     "data": {
      "image/png": "[encoded data removed]",
      "text/plain": [
       "<Figure size 432x288 with 1 Axes>"
      ]
     },
     "metadata": {
      "needs_background": "light"
     },
     "output_type": "display_data"
    }
   ],
   "source": [
    "from scipy import *\n",
    "from numpy import *\n",
    "\n",
    "unit=pi\n",
    "ndim=3\n",
    "maxeval=2000000\n",
    "exact = 1.3932  # exact value of the integral\n",
    "    \n",
    "cum = Cumulants()\n",
    "    \n",
    "nbins=128\n",
    "nstart =100000\n",
    "nincrease=5000\n",
    "\n",
    "grid = Grid(ndim,nbins)\n",
    "\n",
    "random.seed(0)\n",
    "\n",
    "Vegas_step3(my_integrant2, pi, maxeval, nstart, nincrease, grid, cum)\n",
    "\n",
    "print (cum.avg, '+-', cum.err, 'exact=', exact, 'real error=', abs(cum.avg-exact)/exact)\n",
    "\n",
    "plot(grid.g[0,:nbins])\n",
    "plot(grid.g[1,:nbins])\n",
    "plot(grid.g[2,:nbins])\n",
    "show()"
   ]
  },
  {
   "cell_type": "code",
   "execution_count": null,
   "metadata": {
    "collapsed": true
   },
   "outputs": [],
   "source": []
  }
 ],
 "metadata": {
  "kernelspec": {
   "display_name": "Python 3",
   "language": "python",
   "name": "python3"
  },
  "language_info": {
   "codemirror_mode": {
    "name": "ipython",
    "version": 3
   },
   "file_extension": ".py",
   "mimetype": "text/x-python",
   "name": "python",
   "nbconvert_exporter": "python",
   "pygments_lexer": "ipython3",
   "version": "3.8.5"
  }
 },
 "nbformat": 4,
 "nbformat_minor": 2
}
