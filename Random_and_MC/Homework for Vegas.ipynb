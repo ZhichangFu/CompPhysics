{
 "cells": [
  {
   "cell_type": "code",
   "execution_count": 1,
   "id": "trying-israel",
   "metadata": {},
   "outputs": [],
   "source": [
    "from numba import jit"
   ]
  },
  {
   "cell_type": "code",
   "execution_count": 2,
   "id": "weekly-metro",
   "metadata": {},
   "outputs": [],
   "source": [
    "# simple class to take care of statistically determined quantities\n",
    "class Cumulants:\n",
    "    def __init__(self):\n",
    "        self.sum=0.0    # f_0 + f_1 +.... + f_N\n",
    "        self.sqsum=0.0  # f_0^2 + f_1^2 +....+ f_N^2\n",
    "        self.avg = 0.0  # I_best when many iterations, otherwise <f> = 1/N\\sum_i f_i\n",
    "        self.err = 0.0  # sigma of I_best when many iterations, otherwise sqrt( <f^2>-<f>^2 )/sqrt(N)\n",
    "        self.chisq = 0.0\n",
    "        self.weightsum=0.0 # \\sum_i 1/sigma_i^2\n",
    "        self.avgsum=0.0    # \\sum_i <f>_i/sigma_i^2\n",
    "        self.avg2sum=0.0   # \\sum_i <f>_i^2/sigma_i^2"
   ]
  },
  {
   "cell_type": "markdown",
   "id": "silent-rental",
   "metadata": {},
   "source": [
    "Numba is hard to use on the class. We will define a simple function `RefineGrid__` (not class member), which contains the part of the code that takes most time, and the class will call the external function `RefineGrid__`"
   ]
  },
  {
   "cell_type": "code",
   "execution_count": 3,
   "id": "geological-alexandria",
   "metadata": {},
   "outputs": [],
   "source": [
    "@jit(nopython=True)\n",
    "def RefineGrid__(imp, self_g):\n",
    "    (ndim,nbins) = shape(imp)\n",
    "    gnew = zeros((ndim,nbins+1))\n",
    "    for idim in range(ndim):\n",
    "        avgperbin = sum(imp[idim,:])/nbins\n",
    "        #**** redefine the size of each bin  ****\n",
    "        newgrid = zeros(nbins)\n",
    "        cur=0.0\n",
    "        newcur=0.0\n",
    "        thisbin = 0.0\n",
    "        ibin = -1\n",
    "        # we are trying to determine\n",
    "        #   Int[ f(g) dg, {g, g_{i-1},g_i}] == I/N_g\n",
    "        #   where I == avgperbin\n",
    "        for newbin in range(nbins-1):  # all but the last bin, which is 1.0\n",
    "            while (thisbin < avgperbin) :\n",
    "                ibin+=1\n",
    "                thisbin += imp[idim,ibin]\n",
    "                prev = cur\n",
    "                cur = self_g[idim,ibin]\n",
    "            # Explanation is in order : \n",
    "            #   prev    -- g^{old}_{l-1}\n",
    "            #   cur     -- g^{old}_l\n",
    "            #   thisbin -- Sm = f_{l-k}+.... +f_{l-2}+f_{l-1}+f_l\n",
    "            #   we know that  Sm is just a bit more than we need, i.e., I/N_g, hence we need to compute how much more\n",
    "            #   using linear interpolation :\n",
    "            #   g^{new} = g_l - (g_l-g_{l-1}) * (f_{l-k}+....+f_{l-2}+f_{l-1}+f_l - I/N_g)/f_l\n",
    "            #    clearly\n",
    "            #         if I/N_g == f_{l-k}+....+f_{l-2}+f_{l-1}+f_l\n",
    "            #            we will get g^{new} = g_l\n",
    "            #     and if I/N_g == f_{l-k}+....+f_{l-2}+f_{l-1}\n",
    "            #            we will get g^{new} = g_{l-1}\n",
    "            #     and if I/N_g  is between the two possibilities, we will get linear interpolation between\n",
    "            #     g_{l-1} and g_l\n",
    "            #     \n",
    "            thisbin -= avgperbin   # thisbin <- (f_{l-k}+....+f_{l-2}+f_{l-1}+f_l - I/N_g)\n",
    "            delta = (cur - prev)*thisbin # delta <-  (g_l-g_{l-1})*(f_{l-k}+....+f_{l-2}+f_{l-1}+f_l - I/N_g)\n",
    "            # cur is the closest point from the old mesh, while delta/imp is the correction using linear interpolation.\n",
    "            newgrid[newbin] = cur - delta/imp[idim,ibin]  \n",
    "\n",
    "        newgrid[nbins-1]=1.0\n",
    "        gnew[idim,:nbins]= newgrid\n",
    "    return gnew\n",
    "\n",
    "class Grid:\n",
    "    \"\"\"Contains the grid points g_n(x) with x=[0...1], and g=[0...1]\n",
    "       for Vegas integration. There are n-dim g_n functions.\n",
    "       Constraints : g(0)=0 and g(1)=1.\n",
    "    \"\"\"\n",
    "    def __init__(self, ndim, nbins):\n",
    "        self.g = zeros((ndim,nbins+1))  \n",
    "        # a bit dirty trick: We will later use also g[-1] in interpolation, which should be set to zero, hence\n",
    "        # we allocate dimension nbins+1, rather than nbinx\n",
    "        self.ndim=ndim\n",
    "        self.nbins=nbins\n",
    "        # At the beginning we set g(x)=x\n",
    "        # The grid-points are x_0 = 1/N, x_1 = 2/N, ... x_{N-1}=1.0. \n",
    "        # Note that g(0)=0, and we skip this point on the mesh.\n",
    "        for idim in range(ndim):\n",
    "            self.g[idim,:nbins] = arange(1,nbins+1)/float(nbins)\n",
    "       \n",
    "    def RefineGrid(self, imp): # Now just a call to external function, which handless class mmber self.g\n",
    "        self.g = RefineGrid__(imp, self.g)"
   ]
  },
  {
   "cell_type": "code",
   "execution_count": 4,
   "id": "operational-trance",
   "metadata": {},
   "outputs": [],
   "source": [
    "from numpy import *\n",
    "\n",
    "def smfun(x):\n",
    "    if (x>0):\n",
    "        return ((x-1.)/log(x))**(1.5)\n",
    "    else:\n",
    "        return 0.\n",
    "vsmfun = vectorize(smfun)\n",
    "\n",
    "def Smoothen(fxbin):\n",
    "    (ndim,nbins) = shape(fxbin)\n",
    "    final = zeros(shape(fxbin))\n",
    "    for idim in range(ndim):\n",
    "        fxb = copy(fxbin[idim,:])\n",
    "        #**** smooth the f^2 value stored for each bin ****\n",
    "        # f[i] <- (f[i+1]+f[i]+f[i-1])/3.\n",
    "        fxb[:nbins-1] += fxbin[idim,1:nbins]\n",
    "        fxb[1:nbins]  += fxbin[idim,:nbins-1]\n",
    "        fxb[1:nbins-1] *= 1/3.\n",
    "        fxb[0] *= 1/2.\n",
    "        fxb[nbins-1] *= 1/2.\n",
    "        norm = sum(fxb)\n",
    "        if( norm == 0 ):\n",
    "            print ('ERROR can not refine the grid with zero grid function')\n",
    "            return # can not refine the grid if the function is zero.\n",
    "        fxb *= 1.0/norm         # we normalize the function.\n",
    "        # Note that normalization is such that the sum is 1.\n",
    "        final[idim,:] = vsmfun(fxb)\n",
    "    return final"
   ]
  },
  {
   "cell_type": "markdown",
   "id": "aquatic-tragedy",
   "metadata": {},
   "source": [
    "To speed up the code, we will define external function `SetFxbin`, which iterates over large loop n=1000, and sets the projections of the function. This external function can be speed up by `numba`.\n",
    "\n",
    "In addition, we will generalize the code for complex functions, and generalized interval $[a,b]$."
   ]
  },
  {
   "cell_type": "code",
   "execution_count": 5,
   "id": "tender-depth",
   "metadata": {},
   "outputs": [],
   "source": [
    "@jit(nopython=True)\n",
    "def SetFxbin(fxbin,bins,wfun):\n",
    "    (n,ndim) = bins.shape\n",
    "    for dim in range(ndim):\n",
    "        # Here we make a better approximation for the function, which we are integrating.\n",
    "        for i in range(n):\n",
    "            fxbin[dim, bins[i,dim] ] += abs(wfun[i]) # just bin the function f. We saved the bin position before.                \n",
    "\n",
    "\n",
    "def Vegas_step4(integrant, ab, maxeval, nstart, nincrease, grid, cum):\n",
    "    ndim, nbins = grid.ndim,grid.nbins  # dimension of the integral, size of the grid for binning in each direction\n",
    "    unit_dim = (ab[1]-ab[0])**ndim   # CHANGED: converts from unit cube integration to generalized cube with unit length\n",
    "    nbatch=1000             # function will be evaluated in bacthes of 1000 evaluations at one time (for efficiency and storage issues)\n",
    "    neval=0\n",
    "    print (\"\"\"Vegas parameters:\n",
    "       ndim = \"\"\"+str(ndim)+\"\"\"\n",
    "       limits = \"\"\"+str(ab)+\"\"\"\n",
    "       maxeval = \"\"\"+str(maxeval)+\"\"\"\n",
    "       nstart = \"\"\"+str(nstart)+\"\"\"\n",
    "       nincrease = \"\"\"+str(nincrease)+\"\"\"\n",
    "       nbins = \"\"\"+str(nbins)+\"\"\"\n",
    "       nbaths = \"\"\"+str(nbatch)+\"\\n\")\n",
    "\n",
    "    bins = zeros((nbatch,ndim),dtype=int) # in which sampled bin does this point fall?\n",
    "    \n",
    "    all_nsamples = nstart\n",
    "    for iter in range(1000):\n",
    "        wgh = zeros(nbatch)            # weights for each random point in the batch\n",
    "        fxbin = zeros((ndim,nbins))    # after each iteration we reset the average function being binned\n",
    "        for nsamples in range(all_nsamples,0,-nbatch):  # loop over all_nsample evaluations in batches of nbatch\n",
    "            n = min(nbatch,nsamples)  # How many evaluations in this pass?\n",
    "            # We are integrating f(g_1(x),g_2(y),g_3(z))*dg_1/dx*dg_2/dy*dg_3/dz dx*dy*dz\n",
    "            # This is represented as  1/all_nsamples \\sum_{x_i,y_i,z_i} f(g_1(x_i),g_2(y_i),g_3(z_i))*dg_1/dx*dg_2/dy*dg_3/dz\n",
    "            #  where dg_1/dx = diff*NBINS\n",
    "            xr = random.random((n,ndim)) # generates 2-d array of random numbers in the interval [0,1)\n",
    "            pos = xr*nbins                   # (x*N)\n",
    "            bins = array(pos,dtype=int)      # which grid would it fit ? (x*N)\n",
    "            wgh = ones(nbatch)/all_nsamples\n",
    "            for dim in range(ndim):   \n",
    "                # We want to evaluate the function f at point g(x), i.e, f(g_1(x),g_2(y),...)\n",
    "                # Here we transform the points x,y,z -> g_1(x), g_2(y), g_3(z)\n",
    "                # We hence want to evaluate g(x) ~ g(x[i]), where x is the random number and g is the grid function\n",
    "                # The discretized g(t) is defined on the grid :\n",
    "                #       t[-1]=0, t[0]=1/N, t[1]=2/N, t[2]=3/N ... t[N-1]=1.\n",
    "                # We know that g(0)=0 and g(1)=1, so that g[-1]=0.0 and g[N-1]=1.0\n",
    "                # To interpolate g at x, we first compute  i=int(x*N) and then we use linear interpolation\n",
    "                # g(x) = g[i-1] + (g[i]-g[i-1])*(x*N-int(x*N))\n",
    "                gi = grid.g[dim,bins[:,dim]]            # g[i]\n",
    "                gm = grid.g[dim,bins[:,dim]-1]          # g[i-1]\n",
    "                diff = gi - gm                          # g[i]-g[i-1]\n",
    "                gx = gm + (pos[:,dim]-bins[:,dim])*diff # linear interpolation g(x)\n",
    "                xr[:,dim] = gx*(ab[1]-ab[0])+ab[0]      # xr [a,b] <- g(xr)\\in [0,1]\n",
    "                wgh *= diff*nbins                       # wgh = prod_{dim} dg/dx\n",
    "            \n",
    "            # Here we evaluate function f on all randomly generated x points above\n",
    "            fx = integrant(xr)  # n function evaluations required in single call\n",
    "            neval += n  # We just added so many fuction evaluations\n",
    "            \n",
    "            # Now we compute the integral as weighted average, namely, f(g(x))*dg/dx\n",
    "            wfun = wgh * fx             # weight * function ~ f_i*w_i            \n",
    "            cum.sum += sum(wfun)        # sum_i f_i*w_i = <fw>\n",
    "            wfun *= conj(wfun)          # CHANGED FOR COMPLEX carefull : this is like  (f_i * w_i/N)^2 hence  1/N (1/N (f_i*w_i)^2)\n",
    "            cum.sqsum += sum(wfun).real # sum_i (f_i*w_i)^2 = <fw^2>/all_nsamples\n",
    "            # \n",
    "            SetFxbin(fxbin,bins,wfun)\n",
    "                \n",
    "        w1 = cum.sqsum*all_nsamples-abs(cum.sum)**2   # w1 = <fw^2>-<fw>^2\n",
    "        w = (all_nsamples-1)/w1            # w ~ 1/sigma_i^2 = (N-1)/(<fw^2>-<fw>^2)\n",
    "        # Note that variance of the MC sampling is Var(monte-f) = (<f^2>-<f>^2)/N == 1/sigma_i^2\n",
    "        cum.weightsum += w          # weightsum ~ \\sum_i 1/sigma_i^2\n",
    "        cum.avgsum += w*cum.sum     # avgsum    ~ \\sum_i <fw>_i / sigma_i^2\n",
    "        #cum.avg2sum += w*abs(cum.sum)**2  # avg2cum   ~ \\sum_i <fw>_i^2/sigma_i^2\n",
    "        \n",
    "        cum.avg = cum.avgsum/cum.weightsum     # I_best = (\\sum_i <fw>_i/sigma_i^2 )/(\\sum_i 1/sigma_i^2)\n",
    "        cum.err = sqrt(1/cum.weightsum)        # err ~ sqrt(best sigma^2) = sqrt(1/(\\sum_i 1/sigma_i^2))\n",
    "        \n",
    "        chisq=0\n",
    "        if iter>0:\n",
    "            cum.chisq += abs(cum.sum - cum.avg)**2*w\n",
    "            chisq = cum.chisq/iter\n",
    "            #print('<f>/sigma^2',cum.avgsum, '1/sigma^2', cum.weightsum)\n",
    "            #print('<f^2>=', cum.sqsum*all_nsamples, '<f>^2=', abs(cum.sum)**2, '<f^2>-<f>^2=', cum.sqsum*all_nsamples-abs(cum.sum)**2)\n",
    "        print (\"Iteration {:3d}: I= {:10.8f} +- {:10.8f}  chisq= {:10.8f} number of evaluations = {:7d} \".format(iter+1, cum.avg*unit_dim, cum.err*unit_dim, chisq, neval))\n",
    "        imp = Smoothen(fxbin)\n",
    "        grid.RefineGrid(imp)\n",
    "        \n",
    "        cum.sum=0                    # clear the partial sum for the next step\n",
    "        cum.sqsum=0\n",
    "        all_nsamples += nincrease    # for the next time, increase the number of steps a bit\n",
    "        if (neval>=maxeval): break\n",
    "            \n",
    "    cum.chisq *= 1./(iter)\n",
    "    cum.avg *= (ab[1]-ab[0])**ndim\n",
    "    cum.err *= (ab[1]-ab[0])**ndim"
   ]
  },
  {
   "cell_type": "code",
   "execution_count": 6,
   "id": "opening-davis",
   "metadata": {},
   "outputs": [],
   "source": [
    "def my_integrant2(x):\n",
    "    \"\"\" For testing, we are integration the function\n",
    "       1/(1-cos(x)*cos(y)*cos(z))/pi^3\n",
    "       in the interval [0,pi]**3\n",
    "    \"\"\"\n",
    "    return 1.0/(1.0-cos(x[:,0])*cos(x[:,1])*cos(x[:,2]))/pi**3"
   ]
  },
  {
   "cell_type": "code",
   "execution_count": 13,
   "id": "local-endorsement",
   "metadata": {},
   "outputs": [
    {
     "name": "stdout",
     "output_type": "stream",
     "text": [
      "Vegas parameters:\n",
      "       ndim = 3\n",
      "       limits = [-3.141592653589793, 3.141592653589793]\n",
      "       maxeval = 2000000\n",
      "       nstart = 100000\n",
      "       nincrease = 5000\n",
      "       nbins = 128\n",
      "       nbaths = 1000\n",
      "\n",
      "Iteration   1: I= 11.08948981 +- 0.10589730  chisq= 0.00000000 number of evaluations =  100000 \n",
      "Iteration   2: I= 11.10184093 +- 0.04102108  chisq= 0.00240157 number of evaluations =  205000 \n",
      "Iteration   3: I= 11.11313548 +- 0.02881990  chisq= 0.03814671 number of evaluations =  315000 \n",
      "Iteration   4: I= 11.13454692 +- 0.02373830  chisq= 0.41362074 number of evaluations =  430000 \n",
      "Iteration   5: I= 11.13385261 +- 0.01985602  chisq= 0.31071376 number of evaluations =  550000 \n",
      "Iteration   6: I= 11.13725477 +- 0.01707352  chisq= 0.26522780 number of evaluations =  675000 \n",
      "Iteration   7: I= 11.14409943 +- 0.01547126  chisq= 0.34397730 number of evaluations =  805000 \n",
      "Iteration   8: I= 11.15196353 +- 0.01406965  chisq= 0.47130356 number of evaluations =  940000 \n",
      "Iteration   9: I= 11.14481266 +- 0.01294635  chisq= 0.59072738 number of evaluations = 1080000 \n",
      "Iteration  10: I= 11.13996225 +- 0.01203879  chisq= 0.62477510 number of evaluations = 1225000 \n",
      "Iteration  11: I= 11.14168762 +- 0.01158946  chisq= 0.58828273 number of evaluations = 1375000 \n",
      "Iteration  12: I= 11.14569691 +- 0.01094511  chisq= 0.62456410 number of evaluations = 1530000 \n",
      "Iteration  13: I= 11.14958431 +- 0.01032955  chisq= 0.65816680 number of evaluations = 1690000 \n",
      "Iteration  14: I= 11.14647136 +- 0.00972729  chisq= 0.66226276 number of evaluations = 1855000 \n",
      "Iteration  15: I= 11.14411617 +- 0.00921169  chisq= 0.65134494 number of evaluations = 2025000 \n",
      "11.144116174350085 +- 0.009211687791486727 exact= 11.1456 real error= 0.00013313106965215016\n"
     ]
    }
   ],
   "source": [
    "from scipy import *\n",
    "from numpy import *\n",
    "\n",
    "ndim=3\n",
    "maxeval=2000000\n",
    "exact = 1.3932*(2**3)  # exact value of the integral\n",
    "    \n",
    "cum = Cumulants()\n",
    "    \n",
    "nbins=128\n",
    "nstart =100000\n",
    "nincrease=5000\n",
    "\n",
    "grids = Grid(ndim,nbins)\n",
    "\n",
    "Vegas_step4(my_integrant2, [-pi,pi], maxeval, nstart, nincrease, grids, cum)\n",
    "\n",
    "print (cum.avg, '+-', cum.err, 'exact=', exact, 'real error=', abs(cum.avg-exact)/exact)"
   ]
  },
  {
   "cell_type": "code",
   "execution_count": 14,
   "id": "strategic-assets",
   "metadata": {},
   "outputs": [
    {
     "data": {
      "text/plain": [
       "[<matplotlib.lines.Line2D at 0x7fb6d87044c0>]"
      ]
     },
     "execution_count": 14,
     "metadata": {},
     "output_type": "execute_result"
    },
    {
     "data": {
      "image/png": "[encoded data removed]",
      "text/plain": [
       "<Figure size 432x288 with 1 Axes>"
      ]
     },
     "metadata": {
      "needs_background": "light"
     },
     "output_type": "display_data"
    }
   ],
   "source": [
    "from pylab import *\n",
    "%matplotlib inline\n",
    "\n",
    "plot(grids.g[0,:nbins])\n",
    "plot(grids.g[1,:nbins])\n",
    "plot(grids.g[2,:nbins])"
   ]
  },
  {
   "cell_type": "code",
   "execution_count": 15,
   "id": "surprised-chaos",
   "metadata": {},
   "outputs": [],
   "source": [
    "@jit(nopython=True)\n",
    "def ferm(x):\n",
    "    if x>700:\n",
    "        return 0.\n",
    "    else: \n",
    "        return 1./(exp(x)+1.)\n",
    "    \n",
    "\n",
    "@jit(nopython=True)\n",
    "def Linhard_inside(x, Omega, q, res, kF, T, broad, nrm):\n",
    "    # k[n,ndim]\n",
    "    for i in range(x.shape[0]):\n",
    "        k = x[i,0:3]\n",
    "        e_k_q = linalg.norm(k-q)**2 - kF*kF\n",
    "        e_k = linalg.norm(k)**2 - kF*kF\n",
    "        dfermi = (ferm(e_k_q/T)-ferm(e_k/T))\n",
    "        #print('e(k)=', e_k, 'e(k-q)=',e_k_q), 'dfermi=', dfermi\n",
    "        res[i] = -2*nrm*dfermi/(Omega-e_k_q+e_k+broad*1j)\n",
    "    return res\n",
    "\n",
    "class Linhard:\n",
    "    def __init__(self, Omega, q, kF, T, broad):\n",
    "        self.Omega = Omega\n",
    "        self.q = array([0,0,q])\n",
    "        self.kF = kF\n",
    "        self.T = T\n",
    "        self.broad = broad\n",
    "        self.nrm = 1/(2*pi)**3\n",
    "    def __call__(self, k):\n",
    "        res = zeros(k.shape[0], dtype=complex)\n",
    "        return Linhard_inside(k, self.Omega, self.q, res, self.kF, self.T, self.broad, self.nrm)"
   ]
  },
  {
   "cell_type": "code",
   "execution_count": 24,
   "id": "insured-barrier",
   "metadata": {},
   "outputs": [
    {
     "data": {
      "text/plain": [
       "array([-6.58584663e-149+1.17808667e-150j,\n",
       "       -2.18840891e-265+2.29625438e-267j,\n",
       "       -1.32196372e-263+2.34180620e-265j,\n",
       "       -4.53747045e-135+9.72676825e-137j])"
      ]
     },
     "execution_count": 24,
     "metadata": {},
     "output_type": "execute_result"
    }
   ],
   "source": [
    "from numpy import random\n",
    "\n",
    "kF=0.1\n",
    "lh = Linhard(0.0, 0.1*kF,kF,0.02*kF,0.002*kF)\n",
    "x = random.random((4,3))\n",
    "lh(x)"
   ]
  },
  {
   "cell_type": "code",
   "execution_count": 28,
   "id": "valid-boring",
   "metadata": {},
   "outputs": [
    {
     "name": "stdout",
     "output_type": "stream",
     "text": [
      "Vegas parameters:\n",
      "       ndim = 3\n",
      "       limits = [-2.878737439016269, 2.878737439016269]\n",
      "       maxeval = 10000000\n",
      "       nstart = 200000\n",
      "       nincrease = 100000\n",
      "       nbins = 128\n",
      "       nbaths = 1000\n",
      "\n",
      "Iteration   1: I= -0.04817395-0.00002083j +- 0.00157088  chisq= 0.00000000 number of evaluations =  200000 \n",
      "Iteration   2: I= -0.04800597-0.00002454j +- 0.00025669  chisq= 0.00031381 number of evaluations =  500000 \n",
      "Iteration   3: I= -0.04773526-0.00000932j +- 0.00016542  chisq= 0.39644113 number of evaluations =  900000 \n",
      "Iteration   4: I= -0.04777332+0.00000121j +- 0.00012622  chisq= 0.29077575 number of evaluations = 1400000 \n",
      "Iteration   5: I= -0.04779456+0.00001192j +- 0.00010513  chisq= 0.23818712 number of evaluations = 2000000 \n",
      "Iteration   6: I= -0.04773979+0.00000361j +- 0.00009050  chisq= 0.34939421 number of evaluations = 2700000 \n",
      "Iteration   7: I= -0.04774531+0.00000176j +- 0.00007896  chisq= 0.29336772 number of evaluations = 3500000 \n",
      "Iteration   8: I= -0.04776300-0.00000868j +- 0.00006969  chisq= 0.28552019 number of evaluations = 4400000 \n",
      "Iteration   9: I= -0.04777621-0.00000758j +- 0.00006236  chisq= 0.26797748 number of evaluations = 5400000 \n",
      "Iteration  10: I= -0.04774964-0.00001287j +- 0.00005643  chisq= 0.33306490 number of evaluations = 6500000 \n",
      "Iteration  11: I= -0.04774619-0.00001091j +- 0.00005158  chisq= 0.30227051 number of evaluations = 7700000 \n",
      "Iteration  12: I= -0.04777233-0.00001015j +- 0.00004756  chisq= 0.40750098 number of evaluations = 9000000 \n",
      "Iteration  13: I= -0.04780082-0.00000898j +- 0.00004409  chisq= 0.55677365 number of evaluations = 10400000 \n"
     ]
    }
   ],
   "source": [
    "from numpy import *\n",
    "\n",
    "# As required by the homework\n",
    "rs = 2.\n",
    "kF = pow( 9*pi/4., 1./3.) / rs\n",
    "nF = kF/(2*pi*pi)\n",
    "T = 0.02*kF**2\n",
    "broad = 0.002*kF**2\n",
    "cutoff = 3*kF\n",
    "Omega=0.0*kF**2\n",
    "q = 0.1*kF\n",
    "\n",
    "\n",
    "ndim=3\n",
    "FCT=1\n",
    "maxeval=int(10000000/FCT)\n",
    "nbins=128\n",
    "nstart =int(200000/FCT)\n",
    "nincrease=int(100000/FCT)\n",
    "\n",
    "cum = Cumulants()\n",
    "grids = Grid(ndim,nbins)\n",
    "lh = Linhard(Omega, q, kF, T, broad)\n",
    "Vegas_step4(lh, [-cutoff,cutoff], maxeval, nstart, nincrease, grids, cum)"
   ]
  },
  {
   "cell_type": "code",
   "execution_count": 29,
   "id": "floating-melissa",
   "metadata": {
    "scrolled": true
   },
   "outputs": [
    {
     "name": "stdout",
     "output_type": "stream",
     "text": [
      "(-0.9832961281977085-0.00018469022414319743j) +- 0.0009070416397151927\n"
     ]
    },
    {
     "data": {
      "text/plain": [
       "[<matplotlib.lines.Line2D at 0x7fb6d08093d0>]"
      ]
     },
     "execution_count": 29,
     "metadata": {},
     "output_type": "execute_result"
    },
    {
     "data": {
      "image/png": "[encoded data removed]",
      "text/plain": [
       "<Figure size 432x288 with 1 Axes>"
      ]
     },
     "metadata": {
      "needs_background": "light"
     },
     "output_type": "display_data"
    }
   ],
   "source": [
    "print (cum.avg/nF, '+-', cum.err/nF)\n",
    "\n",
    "plot(grids.g[0,:nbins],'o-')\n",
    "plot(grids.g[1,:nbins],'o-')\n",
    "plot(grids.g[2,:nbins],'o-')"
   ]
  },
  {
   "cell_type": "markdown",
   "id": "dimensional-liver",
   "metadata": {},
   "source": [
    "Defining Linhardt susceptibility, which evaluates polarization for the entire array of frequencies $\\Omega$."
   ]
  },
  {
   "cell_type": "code",
   "execution_count": 37,
   "id": "significant-birthday",
   "metadata": {},
   "outputs": [],
   "source": [
    "@jit(nopython=True)\n",
    "def Linhard2_inside(x, Omega, q, res, kF, T, broad, nrm):\n",
    "    for i in range(x.shape[0]):\n",
    "        k = x[i,0:3]\n",
    "        e_k_q = linalg.norm(k-q)**2 - kF*kF\n",
    "        e_k = linalg.norm(k)**2 - kF*kF\n",
    "        dfermi = (ferm(e_k_q/T)-ferm(e_k/T))\n",
    "        #print('e(k)=', e_k, 'e(k-q)=',e_k_q), 'dfermi=', dfermi\n",
    "        res[:,i] = -2*nrm*dfermi/(Omega-e_k_q+e_k+broad*1j)\n",
    "    return res\n",
    "\n",
    "class Linhard2:\n",
    "    def __init__(self, Omega, q, kF, T, broad):\n",
    "        self.Omega = Omega\n",
    "        self.q = array([0,0,q])\n",
    "        self.kF = kF\n",
    "        self.T = T\n",
    "        self.broad = broad\n",
    "        self.nrm = 1/(2*pi)**3\n",
    "    def __call__(self, x):\n",
    "        #print(x)\n",
    "        res = zeros((len(self.Omega),x.shape[0]), dtype=complex)\n",
    "        #print('shape(res)=', shape(res))\n",
    "        return Linhard2_inside(x, self.Omega, self.q, res, self.kF, self.T, self.broad, self.nrm)"
   ]
  },
  {
   "cell_type": "code",
   "execution_count": 38,
   "id": "funded-valuable",
   "metadata": {},
   "outputs": [
    {
     "name": "stdout",
     "output_type": "stream",
     "text": [
      "(10, 4)\n"
     ]
    },
    {
     "data": {
      "text/plain": [
       "array([[-1.33459558e-09+2.02275051e-10j, -1.11785302e-10+1.94131689e-12j,\n",
       "        -5.04589003e-20+5.61316075e-22j, -5.85411613e-04+1.15789909e-05j],\n",
       "       [-1.44891406e-10+2.33118733e-12j, -5.69065741e-11+5.02984814e-13j,\n",
       "        -3.11881164e-20+2.14425779e-22j, -2.79005034e-04+2.62930413e-06j],\n",
       "       [-7.65207716e-11+6.50084091e-13j, -3.81672445e-11+2.26252266e-13j,\n",
       "        -2.25685758e-20+1.12278663e-22j, -1.83137773e-04+1.13279324e-06j],\n",
       "       [-5.19871730e-11+3.00044992e-13j, -2.87121054e-11+1.28036790e-13j,\n",
       "        -1.76817518e-20+6.89184271e-23j, -1.36302339e-04+6.27471492e-07j],\n",
       "       [-3.93656958e-11+1.72037717e-13j, -2.30114408e-11+8.22411613e-14j,\n",
       "        -1.45345349e-20+4.65677135e-23j, -1.08543288e-04+3.97914676e-07j],\n",
       "       [-3.16754380e-11+1.11385881e-13j, -1.91994523e-11+5.72502786e-14j,\n",
       "        -1.23383877e-20+3.35581660e-23j, -9.01777662e-05+2.74650979e-07j],\n",
       "       [-2.64987646e-11+7.79533036e-14j, -1.64709316e-11+4.21342467e-14j,\n",
       "        -1.07187903e-20+2.53263237e-23j, -7.71277163e-05+2.00910238e-07j],\n",
       "       [-2.27764326e-11+5.75908773e-14j, -1.44214329e-11+3.23009333e-14j,\n",
       "        -9.47504723e-21+1.97898653e-23j, -6.73772213e-05+1.53322756e-07j],\n",
       "       [-1.99710552e-11+4.42775592e-14j, -1.28255336e-11+2.55475157e-14j,\n",
       "        -8.48992684e-21+1.58886718e-23j, -5.98153479e-05+1.20838469e-07j],\n",
       "       [-1.77809675e-11+3.50987768e-14j, -1.15476507e-11+2.07102210e-14j,\n",
       "        -7.69035977e-21+1.30368521e-23j, -5.37795602e-05+9.76819006e-08j]])"
      ]
     },
     "execution_count": 38,
     "metadata": {},
     "output_type": "execute_result"
    }
   ],
   "source": [
    "from numpy import random\n",
    "Omega = linspace(0,kF**2,10)\n",
    "lh2 = Linhard2(Omega, q, kF, T, broad)\n",
    "x = random.random((4,3))\n",
    "y=lh2(x)\n",
    "print(y.shape)\n",
    "y"
   ]
  },
  {
   "cell_type": "markdown",
   "id": "careful-jewel",
   "metadata": {},
   "source": [
    "Class for Cumulants has to be upgraded, so that allows arrays in frequency (for all values of $\\Omega$).\n",
    "Note that some quantities need to be complex arrays, and some real arrays."
   ]
  },
  {
   "cell_type": "code",
   "execution_count": 32,
   "id": "specific-occasion",
   "metadata": {},
   "outputs": [],
   "source": [
    "class CumulantsW:\n",
    "    def __init__(self, Om):\n",
    "        nOm = len(Om)\n",
    "        self.sum=zeros(nOm, dtype=complex)    # f_0 + f_1 +.... + f_N\n",
    "        self.sqsum=zeros(nOm)                 # |f_0|^2 + |f_1|^2 +....+ |f_N|^2\n",
    "        self.avg = zeros(nOm, dtype=complex)  # I_best when many iterations, otherwise <f> = 1/N\\sum_i f_i\n",
    "        self.err = zeros(nOm)                 # sigma of I_best when many iterations, otherwise sqrt( <f^2>-<f>^2 )/sqrt(N)\n",
    "        self.chisq = zeros(nOm)\n",
    "        self.weightsum=zeros(nOm)             # \\sum_i 1/sigma_i^2\n",
    "        self.avgsum=zeros(nOm, dtype=complex) # \\sum_i <f>_i/sigma_i^2\n",
    "        self.avg2sum=zeros(nOm)               # \\sum_i <f>_i^2/sigma_i^2\n",
    "        "
   ]
  },
  {
   "cell_type": "markdown",
   "id": "compact-prerequisite",
   "metadata": {},
   "source": [
    "Finally, Vegas is changed so that functions $f$ returns 2D-array $(\\Omega,n)$. All quantities in cumulants are now arrays in frequency."
   ]
  },
  {
   "cell_type": "code",
   "execution_count": 39,
   "id": "blond-cylinder",
   "metadata": {},
   "outputs": [],
   "source": [
    "def Vegas_step5(integrant, ab, maxeval, nstart, nincrease, grid, cum):\n",
    "    ndim, nbins = grid.ndim,grid.nbins  # dimension of the integral, size of the grid for binning in each direction\n",
    "    unit_dim = (ab[1]-ab[0])**ndim   # converts from unit cube integration to generalized cube with unit length\n",
    "    nbatch=1000             # function will be evaluated in bacthes of 1000 evaluations at one time (for efficiency and storage issues)\n",
    "    neval=0\n",
    "    print (\"\"\"Vegas parameters:\n",
    "       ndim = \"\"\"+str(ndim)+\"\"\"\n",
    "       limits = \"\"\"+str(ab)+\"\"\"\n",
    "       maxeval = \"\"\"+str(maxeval)+\"\"\"\n",
    "       nstart = \"\"\"+str(nstart)+\"\"\"\n",
    "       nincrease = \"\"\"+str(nincrease)+\"\"\"\n",
    "       nbins = \"\"\"+str(nbins)+\"\"\"\n",
    "       nbaths = \"\"\"+str(nbatch)+\"\\n\")\n",
    "\n",
    "    bins = zeros((nbatch,ndim),dtype=int) # in which sampled bin does this point fall?\n",
    "    \n",
    "    \n",
    "    all_nsamples = nstart\n",
    "    for iter in range(1000):\n",
    "        wgh = zeros(nbatch)            # weights for each random point in the batch\n",
    "        fxbin = zeros((ndim,nbins))    # after each iteration we reset the average function being binned\n",
    "        for nsamples in range(all_nsamples,0,-nbatch):  # loop over all_nsample evaluations in batches of nbatch\n",
    "            n = min(nbatch,nsamples)  # How many evaluations in this pass?\n",
    "            # We are integrating f(g_1(x),g_2(y),g_3(z))*dg_1/dx*dg_2/dy*dg_3/dz dx*dy*dz\n",
    "            # This is represented as  1/all_nsamples \\sum_{x_i,y_i,z_i} f(g_1(x_i),g_2(y_i),g_3(z_i))*dg_1/dx*dg_2/dy*dg_3/dz\n",
    "            #  where dg_1/dx = diff*NBINS\n",
    "            xr = random.random((n,ndim)) # generates 2-d array of random numbers in the interval [0,1)\n",
    "            pos = xr*nbins                   # (x*N)\n",
    "            bins = array(pos,dtype=int)      # which grid would it fit ? (x*N)\n",
    "            wgh = ones(nbatch)/all_nsamples\n",
    "            for dim in range(ndim):   \n",
    "                # We want to evaluate the function f at point g(x), i.e, f(g_1(x),g_2(y),...)\n",
    "                # Here we transform the points x,y,z -> g_1(x), g_2(y), g_3(z)\n",
    "                # We hence want to evaluate g(x) ~ g(x[i]), where x is the random number and g is the grid function\n",
    "                # The discretized g(t) is defined on the grid :\n",
    "                #       t[-1]=0, t[0]=1/N, t[1]=2/N, t[2]=3/N ... t[N-1]=1.\n",
    "                # We know that g(0)=0 and g(1)=1, so that g[-1]=0.0 and g[N-1]=1.0\n",
    "                # To interpolate g at x, we first compute  i=int(x*N) and then we use linear interpolation\n",
    "                # g(x) = g[i-1] + (g[i]-g[i-1])*(x*N-int(x*N))\n",
    "                gi = grid.g[dim,bins[:,dim]]            # g[i]\n",
    "                gm = grid.g[dim,bins[:,dim]-1]          # g[i-1]\n",
    "                diff = gi - gm                          # g[i]-g[i-1]\n",
    "                gx = gm + (pos[:,dim]-bins[:,dim])*diff # linear interpolation\n",
    "                xr[:,dim] = gx*(ab[1]-ab[0])+ab[0]      # xr <- g(xr)\n",
    "                wgh *= diff*nbins                       # wgh = prod_{dim} dg/dx\n",
    "            \n",
    "            # Here we evaluate function f on all randomly generated x points above\n",
    "            fx = integrant(xr)  # n function evaluations required in single call fx[Om,i]\n",
    "            neval += n  # We just added so many fuction evaluations\n",
    "            \n",
    "            # Now we compute the integral as weighted average, namely, f(g(x))*dg/dx\n",
    "            wfun = fx * wgh             # weight * function ~ wfun[om,i] = f[om,i]*w[i]            \n",
    "            cum.sum += sum(wfun,axis=1) # <fw>[om] = sum_i f[om,i]*w[i]\n",
    "            wfun2 = abs(wfun*conj(wfun))*all_nsamples # <fw^2>[om,i] = (|f[om,i]|^2*w[i]^2*N)\n",
    "            cum.sqsum += sum(wfun2, axis=1).real # <fw^2>[om] = sum_i <fw^2>[om,i]   \n",
    "            #\n",
    "            SetFxbin(fxbin,bins,wfun2[0,:])\n",
    "\n",
    "        w1 = cum.sqsum-abs(cum.sum)**2   # w1 = <fw^2>[om]-<fw>[om]^2\n",
    "        w = (all_nsamples-1)/w1            # w ~ 1/sigma_i^2 = (N-1)/(<fw^2>-<fw>^2)\n",
    "        # Note that variance of the MC sampling is Var(monte-f) = (<f^2>-<f>^2)/N == 1/sigma_i^2\n",
    "        cum.weightsum += w          # weightsum[om] ~ \\sum_i 1/sigma_i^2\n",
    "        cum.avgsum += w*cum.sum     # avgsum[om]    ~ \\sum_i <fw>_i / sigma_i^2\n",
    "        cum.avg2sum += w*abs(cum.sum)**2  # avg2cum[om]   ~ \\sum_i <fw>_i^2/sigma_i^2\n",
    "        \n",
    "        cum.avg = cum.avgsum/cum.weightsum     # I_best[om] = (\\sum_i <fw>_i/sigma_i^2 )/(\\sum_i 1/sigma_i^2)\n",
    "        cum.err = sqrt(1/cum.weightsum)        # err[om] ~ sqrt(best sigma^2) = sqrt(1/(\\sum_i 1/sigma_i^2))\n",
    "        \n",
    "        chisq=0\n",
    "        if iter>0:\n",
    "            cum.chisq += abs(cum.sum - cum.avg)**2*w\n",
    "            chisq = cum.chisq[0]/iter\n",
    "        print (\"Iteration {:3d}: I= {:10.8f} +- {:10.8f}  chisq= {:10.8f} number of evaluations = {:7d} \".format(iter+1, cum.avg[0]*unit_dim, cum.err[0]*unit_dim, chisq, neval))\n",
    "        imp = Smoothen(fxbin)\n",
    "        grid.RefineGrid(imp)\n",
    "        \n",
    "        cum.sum[:]=0                    # clear the partial sum for the next step\n",
    "        cum.sqsum[:]=0\n",
    "        all_nsamples += nincrease    # for the next time, increase the number of steps a bit\n",
    "        if (neval>=maxeval): break\n",
    "            \n",
    "    cum.chisq *= 1./(iter)\n",
    "    cum.avg *= unit_dim\n",
    "    cum.err *= unit_dim"
   ]
  },
  {
   "cell_type": "code",
   "execution_count": 40,
   "id": "other-professor",
   "metadata": {},
   "outputs": [
    {
     "name": "stdout",
     "output_type": "stream",
     "text": [
      "Vegas parameters:\n",
      "       ndim = 3\n",
      "       limits = [-2.878737439016269, 2.878737439016269]\n",
      "       maxeval = 10000000\n",
      "       nstart = 200000\n",
      "       nincrease = 100000\n",
      "       nbins = 128\n",
      "       nbaths = 1000\n",
      "\n",
      "Iteration   1: I= -0.04772948-0.00008652j +- 0.00157365  chisq= 0.00000000 number of evaluations =  200000 \n",
      "Iteration   2: I= -0.04809082+0.00000631j +- 0.00025791  chisq= 0.00155136 number of evaluations =  500000 \n",
      "Iteration   3: I= -0.04798252+0.00000708j +- 0.00016431  chisq= 0.06101368 number of evaluations =  900000 \n",
      "Iteration   4: I= -0.04784380+0.00000038j +- 0.00012617  chisq= 0.38293118 number of evaluations = 1400000 \n",
      "Iteration   5: I= -0.04779470+0.00000648j +- 0.00010462  chisq= 0.37174841 number of evaluations = 2000000 \n",
      "Iteration   6: I= -0.04786105+0.00001268j +- 0.00009039  chisq= 0.53631704 number of evaluations = 2700000 \n",
      "Iteration   7: I= -0.04780991+0.00001434j +- 0.00007898  chisq= 0.61942510 number of evaluations = 3500000 \n",
      "Iteration   8: I= -0.04784314+0.00001455j +- 0.00007017  chisq= 0.62558149 number of evaluations = 4400000 \n",
      "Iteration   9: I= -0.04790571+0.00001490j +- 0.00006289  chisq= 0.95371607 number of evaluations = 5400000 \n",
      "Iteration  10: I= -0.04790340+0.00001108j +- 0.00005690  chisq= 0.85027192 number of evaluations = 6500000 \n",
      "Iteration  11: I= -0.04787806+0.00000907j +- 0.00005189  chisq= 0.86390145 number of evaluations = 7700000 \n",
      "Iteration  12: I= -0.04791222+0.00000631j +- 0.00004782  chisq= 1.00857301 number of evaluations = 9000000 \n",
      "Iteration  13: I= -0.04786712+0.00000593j +- 0.00004426  chisq= 1.36702113 number of evaluations = 10400000 \n"
     ]
    }
   ],
   "source": [
    "from numpy import *\n",
    "\n",
    "Omega = linspace(0,0.5*kF**2,100)\n",
    "lh2 = Linhard2(Omega, q, kF, T, broad)\n",
    "cum = CumulantsW(Omega)\n",
    "ndim=3\n",
    "grids = Grid(ndim,nbins)\n",
    "\n",
    "Vegas_step5(lh2, [-cutoff,cutoff], maxeval, nstart, nincrease, grids, cum)"
   ]
  },
  {
   "cell_type": "code",
   "execution_count": 35,
   "id": "instructional-photographer",
   "metadata": {},
   "outputs": [
    {
     "data": {
      "image/png": "[encoded data removed]",
      "text/plain": [
       "<Figure size 432x288 with 1 Axes>"
      ]
     },
     "metadata": {
      "needs_background": "light"
     },
     "output_type": "display_data"
    }
   ],
   "source": [
    "import matplotlib.pyplot as plt\n",
    "%matplotlib inline\n",
    "errorbar(Omega,cum.avg.real/nF, yerr=cum.err)\n",
    "errorbar(Omega,cum.avg.imag/nF, yerr=cum.err);"
   ]
  },
  {
   "cell_type": "code",
   "execution_count": 36,
   "id": "handmade-cleaner",
   "metadata": {},
   "outputs": [
    {
     "name": "stdout",
     "output_type": "stream",
     "text": [
      "(-0.9835836744083016-5.9723154387385916e-05j) +- 0.0009153277374235508\n"
     ]
    },
    {
     "data": {
      "text/plain": [
       "[<matplotlib.lines.Line2D at 0x7fb6d8a71400>]"
      ]
     },
     "execution_count": 36,
     "metadata": {},
     "output_type": "execute_result"
    },
    {
     "data": {
      "image/png": "[encoded data removed]",
      "text/plain": [
       "<Figure size 432x288 with 1 Axes>"
      ]
     },
     "metadata": {
      "needs_background": "light"
     },
     "output_type": "display_data"
    }
   ],
   "source": [
    "print (cum.avg[0]/nF, '+-', cum.err[0]/nF)\n",
    "\n",
    "plot(grids.g[0,:nbins],'o-')\n",
    "plot(grids.g[1,:nbins],'o-')\n",
    "plot(grids.g[2,:nbins],'o-')"
   ]
  },
  {
   "cell_type": "code",
   "execution_count": null,
   "id": "champion-terrain",
   "metadata": {},
   "outputs": [],
   "source": []
  }
 ],
 "metadata": {
  "kernelspec": {
   "display_name": "Python 3",
   "language": "python",
   "name": "python3"
  },
  "language_info": {
   "codemirror_mode": {
    "name": "ipython",
    "version": 3
   },
   "file_extension": ".py",
   "mimetype": "text/x-python",
   "name": "python",
   "nbconvert_exporter": "python",
   "pygments_lexer": "ipython3",
   "version": "3.8.5"
  }
 },
 "nbformat": 4,
 "nbformat_minor": 5
}
