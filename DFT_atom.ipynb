{
 "cells": [
  {
   "cell_type": "code",
   "execution_count": 1,
   "id": "dfb034bf-5af9-4692-9b99-dbdde3297e17",
   "metadata": {},
   "outputs": [],
   "source": [
    " import numpy as np"
   ]
  },
  {
   "cell_type": "code",
   "execution_count": 8,
   "id": "2a7f2bb8-e097-4970-9bf2-039cfa7840a2",
   "metadata": {},
   "outputs": [],
   "source": [
    "from numba import jit"
   ]
  },
  {
   "cell_type": "code",
   "execution_count": 35,
   "id": "3ec02fed-2cb2-4965-8654-be57093b6748",
   "metadata": {},
   "outputs": [],
   "source": [
    "from scipy import integrate"
   ]
  },
  {
   "cell_type": "code",
   "execution_count": 125,
   "id": "7f7d506b-e4ba-4bb1-a5ff-acbc53091b14",
   "metadata": {},
   "outputs": [],
   "source": [
    "import numpy as np\n",
    "from numba import jit\n",
    "@jit(nopython=True)\n",
    "def Numerov(f,u,x0,dx,h):\n",
    "    \"\"\"calculate the second order linear differential equation:\n",
    "    x''(t)=f(t)x(t)+u(t),\n",
    "    the input f,u are 1D array in numpy, they must be the same length.\n",
    "    x0 = x(t=0), and dx = dx/dt(t=0)\n",
    "    h is the spacing of t, the grid need be equal-spaced.\n",
    "    \"\"\"     \n",
    "    x=np.zeros(len(f))\n",
    "    \n",
    "    x[0]=x0\n",
    "    x[1]=x0+dx*h\n",
    "    h2=h*h\n",
    "    h12=h2/12\n",
    "    w0=x[0]*(1-h12*f[0])-h12*u[0]\n",
    "    w1=x[1]*(1-h12*f[1])-h12*u[1]\n",
    "\n",
    "    for i in range(2,len(f)):\n",
    "        w2=2*w1-w0+h2*f[i-1]*x[i-1]+u[i-1]*h2\n",
    "        x[i]=(w2+h12*u[i])/(1-h12*f[i])\n",
    "        (w0,w1)=(w1,w2)\n",
    "              \n",
    "    return x"
   ]
  },
  {
   "cell_type": "code",
   "execution_count": 132,
   "id": "cb1cf5ba-1852-459e-8018-2e9b9a1bb5fa",
   "metadata": {},
   "outputs": [],
   "source": [
    "def get_f(l,r,E,V_KS):\n",
    "    \"\"\"\n",
    "    r must be array in numpy\n",
    "    \"\"\"\n",
    "    return l*(l+1)/r**2+V_KS-E"
   ]
  },
  {
   "cell_type": "markdown",
   "id": "f1562117-6af6-422e-a8ac-63a4edd73200",
   "metadata": {},
   "source": [
    "插值的个数或许可以改变，调节，有数据之后可以尝试"
   ]
  },
  {
   "cell_type": "code",
   "execution_count": 141,
   "id": "bae31dfb-a24c-476d-97f3-9e62d76b80a4",
   "metadata": {},
   "outputs": [],
   "source": [
    "from scipy import interpolate\n",
    "#help(interpolate.UnivariateSpline)\n",
    "def get_approx_u_0(u,r):\n",
    "    \"\"\"\n",
    "    \"\"\"\n",
    "    spl=interpolate.UnivariateSpline(r[:4],u[:4],k=3,s=0)\n",
    "    u_0=spl(0)\n",
    "    return u_0"
   ]
  },
  {
   "cell_type": "code",
   "execution_count": null,
   "id": "4cc53922-8cff-4d58-8969-9eeafba34423",
   "metadata": {},
   "outputs": [],
   "source": [
    "def get_bound_state(E_range,l,V_KS,r,num_max):\n",
    "    \"\"\"\n",
    "    \"\"\"\n",
    "    band=[]\n",
    "    f=get_f(l,r,E,V_KS)\n",
    "    u=Numerov(f,np.zeros(len(f)),0,-1e-5,r[1]-r[0])\n",
    "    u_0=get_approx_u_0(u,r)\n",
    "    for E in E_range:\n",
    "        f=get_f(l,r,E,V_KS)\n",
    "        u=Numerov(f,np.zeros(len(f)),0,-1e-5,r[1]-r[0])\n",
    "        u_0=get_approx_u_0(u,r)\n",
    "    \n",
    "    \n",
    "    return band"
   ]
  },
  {
   "cell_type": "code",
   "execution_count": null,
   "id": "fbb72658-fc59-4041-8c0e-006c01c85fae",
   "metadata": {},
   "outputs": [],
   "source": []
  },
  {
   "cell_type": "code",
   "execution_count": null,
   "id": "bcd72e18-566c-4700-a2a3-25e0626caf1c",
   "metadata": {},
   "outputs": [],
   "source": []
  }
 ],
 "metadata": {
  "kernelspec": {
   "display_name": "Python 3 (ipykernel)",
   "language": "python",
   "name": "python3"
  },
  "language_info": {
   "codemirror_mode": {
    "name": "ipython",
    "version": 3
   },
   "file_extension": ".py",
   "mimetype": "text/x-python",
   "name": "python",
   "nbconvert_exporter": "python",
   "pygments_lexer": "ipython3",
   "version": "3.8.11"
  }
 },
 "nbformat": 4,
 "nbformat_minor": 5
}
