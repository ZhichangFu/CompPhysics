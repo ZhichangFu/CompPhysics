{
 "cells": [
  {
   "cell_type": "markdown",
   "metadata": {},
   "source": [
    "# Numpy - multidimensional data arrays\n",
    "\n",
    "Based on lectures from http://github.com/jrjohansson/scientific-python-lectures\n"
   ]
  },
  {
   "cell_type": "markdown",
   "metadata": {},
   "source": [
    "The `numpy` package (module) is used in almost all numerical computation using Python. It is a package that provide high-performance vector, matrix and higher-dimensional data structures for Python. It is implemented in C and Fortran so when calculations are vectorized (formulated with vectors and matrices), performance is very good."
   ]
  },
  {
   "cell_type": "code",
   "execution_count": 1,
   "metadata": {},
   "outputs": [],
   "source": [
    "from numpy import *"
   ]
  },
  {
   "cell_type": "markdown",
   "metadata": {},
   "source": [
    "## Creating `numpy` arrays"
   ]
  },
  {
   "cell_type": "markdown",
   "metadata": {},
   "source": [
    "There are a number of ways to initialize new numpy arrays, for example from\n",
    "\n",
    "* a Python list or tuples\n",
    "* using functions that are dedicated to generating numpy arrays, such as `arange`, `linspace`, `zeros`, `ones`, etc.\n",
    "* reading data from files"
   ]
  },
  {
   "cell_type": "code",
   "execution_count": 2,
   "metadata": {},
   "outputs": [
    {
     "data": {
      "text/plain": [
       "((2, 2), 4, dtype('int64'))"
      ]
     },
     "execution_count": 2,
     "metadata": {},
     "output_type": "execute_result"
    }
   ],
   "source": [
    "M = array([[1,2],[3,4]])  # from list\n",
    "M.shape, M.size, M.dtype"
   ]
  },
  {
   "cell_type": "code",
   "execution_count": 3,
   "metadata": {},
   "outputs": [
    {
     "name": "stdout",
     "output_type": "stream",
     "text": [
      "[[1.+0.j 2.+0.j]\n",
      " [3.+0.j 4.+0.j]]\n"
     ]
    },
    {
     "data": {
      "text/plain": [
       "((2, 2), 4, dtype('complex128'))"
      ]
     },
     "execution_count": 3,
     "metadata": {},
     "output_type": "execute_result"
    }
   ],
   "source": [
    "M = array([[1,2],[3,4]], dtype=complex)  # from list\n",
    "print(M)\n",
    "M.shape, M.size, M.dtype"
   ]
  },
  {
   "cell_type": "code",
   "execution_count": 4,
   "metadata": {},
   "outputs": [
    {
     "name": "stdout",
     "output_type": "stream",
     "text": [
      "[0.  0.5 1.  1.5 2.  2.5 3.  3.5 4.  4.5 5.  5.5 6.  6.5 7.  7.5 8.  8.5\n",
      " 9.  9.5]\n",
      "[ 0.   0.5  1.   1.5  2.   2.5  3.   3.5  4.   4.5  5.   5.5  6.   6.5\n",
      "  7.   7.5  8.   8.5  9.   9.5 10. ]\n",
      "[1.00000000e-03 2.78255940e-02 7.74263683e-01 2.15443469e+01\n",
      " 5.99484250e+02 1.66810054e+04 4.64158883e+05 1.29154967e+07\n",
      " 3.59381366e+08 1.00000000e+10]\n"
     ]
    }
   ],
   "source": [
    "x = arange(0,10,0.5)  # linear mesh start:stop:increment\n",
    "print(x)\n",
    "y = linspace(0,10,21) # linear mesh start,stop,number of points\n",
    "print(y)\n",
    "z = logspace(-3,10,10) # log mesh, 10^start, 10^stop, number of points\n",
    "print(z)"
   ]
  },
  {
   "cell_type": "code",
   "execution_count": 5,
   "metadata": {},
   "outputs": [
    {
     "data": {
      "text/plain": [
       "array([[0., 0., 0.],\n",
       "       [0., 0., 0.],\n",
       "       [0., 0., 0.]])"
      ]
     },
     "execution_count": 5,
     "metadata": {},
     "output_type": "execute_result"
    }
   ],
   "source": [
    "zeros((3,3))"
   ]
  },
  {
   "cell_type": "code",
   "execution_count": 6,
   "metadata": {},
   "outputs": [
    {
     "data": {
      "text/plain": [
       "array([[1., 1., 1.],\n",
       "       [1., 1., 1.],\n",
       "       [1., 1., 1.]])"
      ]
     },
     "execution_count": 6,
     "metadata": {},
     "output_type": "execute_result"
    }
   ],
   "source": [
    "ones((3,3))"
   ]
  },
  {
   "cell_type": "markdown",
   "metadata": {},
   "source": [
    "### Random number generators"
   ]
  },
  {
   "cell_type": "code",
   "execution_count": 7,
   "metadata": {},
   "outputs": [
    {
     "data": {
      "text/plain": [
       "array([[ 2.02416659, -0.43260055,  0.77905335, -1.92192505,  0.05204534],\n",
       "       [-0.87642261, -0.54946837, -0.30366629, -0.18542414, -0.72348251],\n",
       "       [-2.26955186,  0.26564121, -0.23948125, -0.67817216, -0.36464496],\n",
       "       [ 1.41053231,  0.47934518,  1.57847616, -2.48520635,  0.99547316],\n",
       "       [-1.81677266, -0.40041586, -0.45344461, -1.81366793, -0.72364658]])"
      ]
     },
     "execution_count": 7,
     "metadata": {},
     "output_type": "execute_result"
    }
   ],
   "source": [
    "from numpy import random\n",
    "random.rand(5,5)  # uniform distributed (5x5) matrix\n",
    "random.randn(5,5) # standard normal distribution random matrix"
   ]
  },
  {
   "cell_type": "markdown",
   "metadata": {},
   "source": [
    "## File I/O\n",
    "\n",
    "Very common form is comma-separated values (CSV) or tab-separated values (TSV). To read data from such files into Numpy arrays we can use the `numpy.loadtxt` or `numpy.genfromtxt`\n",
    "\n",
    "File `stockholm_td_adj.dat.txt` contains Stockholm temperature over the years. The columns are [$year$,$month$,$day$,$T_{average}$,$T_{min}$,$T_{max}$]"
   ]
  },
  {
   "cell_type": "code",
   "execution_count": 8,
   "metadata": {},
   "outputs": [
    {
     "name": "stdout",
     "output_type": "stream",
     "text": [
      "2011 12 22    -0.4    -1.0    -1.0 1\r\n",
      "2011 12 23     3.7     3.1     3.1 1\r\n",
      "2011 12 24     3.2     2.6     2.6 1\r\n",
      "2011 12 25     4.2     3.5     3.5 1\r\n",
      "2011 12 26     8.2     7.5     7.5 1\r\n",
      "2011 12 27     8.3     7.6     7.6 1\r\n",
      "2011 12 28     2.6     1.9     1.9 1\r\n",
      "2011 12 29     4.9     4.2     4.2 1\r\n",
      "2011 12 30     0.6    -0.1    -0.1 1\r\n",
      "2011 12 31    -2.6    -3.3    -3.3 1"
     ]
    }
   ],
   "source": [
    "## Check if file exists\n",
    "!tail stockholm_td_adj.dat.txt"
   ]
  },
  {
   "cell_type": "code",
   "execution_count": 9,
   "metadata": {},
   "outputs": [
    {
     "data": {
      "text/plain": [
       "(77431, 7)"
      ]
     },
     "execution_count": 9,
     "metadata": {},
     "output_type": "execute_result"
    }
   ],
   "source": [
    "data = loadtxt('stockholm_td_adj.dat.txt')\n",
    "data.shape"
   ]
  },
  {
   "cell_type": "code",
   "execution_count": 10,
   "metadata": {},
   "outputs": [],
   "source": [
    "# inline figures from matplotlib\n",
    "%matplotlib inline\n",
    "import matplotlib.pyplot as plt"
   ]
  },
  {
   "cell_type": "code",
   "execution_count": 11,
   "metadata": {},
   "outputs": [],
   "source": [
    "# time in years when we have year/month/day\n",
    "t = data[:,0]+data[:,1]/12.+data[:,2]/365"
   ]
  },
  {
   "cell_type": "code",
   "execution_count": 12,
   "metadata": {},
   "outputs": [
    {
     "data": {
      "text/plain": [
       "[<matplotlib.lines.Line2D at 0x7f8f906fea90>]"
      ]
     },
     "execution_count": 12,
     "metadata": {},
     "output_type": "execute_result"
    },
    {
     "data": {
      "image/png": "[encoded data removed]",
      "text/plain": [
       "<Figure size 432x288 with 1 Axes>"
      ]
     },
     "metadata": {
      "needs_background": "light"
     },
     "output_type": "display_data"
    }
   ],
   "source": [
    "plt.plot(t, data[:,3])"
   ]
  },
  {
   "cell_type": "code",
   "execution_count": 13,
   "metadata": {},
   "outputs": [
    {
     "data": {
      "image/png": "[encoded data removed]",
      "text/plain": [
       "<Figure size 1008x288 with 1 Axes>"
      ]
     },
     "metadata": {
      "needs_background": "light"
     },
     "output_type": "display_data"
    }
   ],
   "source": [
    "# a bit more extended in x-direction\n",
    "plt.figure(figsize=(14,4))\n",
    "plt.plot(t, data[:,3])\n",
    "plt.title('temperature in Stockholm')\n",
    "plt.xlabel('year')\n",
    "plt.ylabel('temperature [C]');"
   ]
  },
  {
   "cell_type": "markdown",
   "metadata": {},
   "source": [
    "Lets save the data in the form [t,$T_{average}$]"
   ]
  },
  {
   "cell_type": "code",
   "execution_count": 14,
   "metadata": {},
   "outputs": [
    {
     "data": {
      "text/plain": [
       "(77431, 2)"
      ]
     },
     "execution_count": 14,
     "metadata": {},
     "output_type": "execute_result"
    }
   ],
   "source": [
    "vstack((t,data[:,3])).T.shape"
   ]
  },
  {
   "cell_type": "code",
   "execution_count": 15,
   "metadata": {},
   "outputs": [],
   "source": [
    "savetxt('StockholmT.dat', vstack((t,data[:,3])).T)"
   ]
  },
  {
   "cell_type": "code",
   "execution_count": 16,
   "metadata": {},
   "outputs": [
    {
     "name": "stdout",
     "output_type": "stream",
     "text": [
      "2.012060273972602772e+03 -4.000000000000000222e-01\r\n",
      "2.012063013698630130e+03 3.700000000000000178e+00\r\n",
      "2.012065753424657487e+03 3.200000000000000178e+00\r\n",
      "2.012068493150684844e+03 4.200000000000000178e+00\r\n",
      "2.012071232876712429e+03 8.199999999999999289e+00\r\n",
      "2.012073972602739786e+03 8.300000000000000711e+00\r\n",
      "2.012076712328767144e+03 2.600000000000000089e+00\r\n",
      "2.012079452054794501e+03 4.900000000000000355e+00\r\n",
      "2.012082191780821859e+03 5.999999999999999778e-01\r\n",
      "2.012084931506849216e+03 -2.600000000000000089e+00\r\n"
     ]
    }
   ],
   "source": [
    "!tail StockholmT.dat"
   ]
  },
  {
   "cell_type": "markdown",
   "metadata": {},
   "source": [
    "### More efficient binary storage of data to the disc"
   ]
  },
  {
   "cell_type": "code",
   "execution_count": 17,
   "metadata": {},
   "outputs": [
    {
     "name": "stdout",
     "output_type": "stream",
     "text": [
      "total 32672\r\n",
      "-rw-r--r--@ 1 haule  staff  2864946 Dec 31 22:57 stockholm_td_adj.dat.txt\r\n",
      "-rw-r--r--  1 haule  staff  3891176 Dec 31 23:15 tt.dat\r\n",
      "-rw-r--r--  1 haule  staff      928 Dec 31 23:19 random-matrix.npy\r\n",
      "-rw-r--r--  1 haule  staff      168 Jan  8 23:36 www\r\n",
      "-rw-r--r--  1 haule  staff     2500 Jan 10 00:13 bb.dat\r\n",
      "-rw-r--r--  1 haule  staff      736 Jan 19 18:16 mymodule.py\r\n",
      "drwxr-xr-x  3 haule  staff       96 Jan 19 18:17 \u001b[1m\u001b[34m__pycache__\u001b[m\u001b[m\r\n",
      "-rw-r--r--  1 haule  staff    26604 Jan 19 18:20 00 Introduction.ipynb\r\n",
      "-rw-r--r--  1 haule  staff    15439 Jan 19 20:19 01 Basic Python.ipynb\r\n",
      "-rw-r--r--  1 haule  staff   152216 Jan 19 23:49 003 Numpy.ipynb\r\n",
      "-rw-r--r--  1 haule  staff  3889864 Jan 20 00:19 StockholmT.dat\r\n",
      "-rw-r--r--  1 haule  staff  4336264 Jan 20 00:19 ST_data.npy\r\n"
     ]
    }
   ],
   "source": [
    "save('ST_data',data)\n",
    "!ls -ltr"
   ]
  },
  {
   "cell_type": "code",
   "execution_count": 18,
   "metadata": {},
   "outputs": [],
   "source": [
    "data2=load('ST_data.npy')"
   ]
  },
  {
   "cell_type": "code",
   "execution_count": 19,
   "metadata": {},
   "outputs": [
    {
     "data": {
      "text/plain": [
       "True"
      ]
     },
     "execution_count": 19,
     "metadata": {},
     "output_type": "execute_result"
    }
   ],
   "source": [
    "allclose(data,data2)  # how close are the two sets of data"
   ]
  },
  {
   "cell_type": "markdown",
   "metadata": {},
   "source": [
    "## Manipulating data\n",
    "\n",
    "### Indexing and slicing\n",
    "\n",
    "data[lower:upper:step, lower:upper:step]"
   ]
  },
  {
   "cell_type": "code",
   "execution_count": 20,
   "metadata": {},
   "outputs": [
    {
     "name": "stdout",
     "output_type": "stream",
     "text": [
      "[ 1.8e+03  1.0e+00  1.0e+00 -6.1e+00 -6.1e+00 -6.1e+00  1.0e+00]\n",
      "[1800. 1800. 1800. ... 2011. 2011. 2011.]\n"
     ]
    },
    {
     "data": {
      "text/plain": [
       "array([2002, 2003, 2004, 2005, 2006, 2007, 2008, 2009, 2010, 2011])"
      ]
     },
     "execution_count": 20,
     "metadata": {},
     "output_type": "execute_result"
    }
   ],
   "source": [
    "print(data[0])    # first row from the file\n",
    "print(data[:,0])  # years\n",
    "array(data[-3650::365,0],dtype=int) # the years with 365 spacings, and then last years"
   ]
  },
  {
   "cell_type": "markdown",
   "metadata": {},
   "source": [
    "**Fancy indexing**\n",
    "Index is itself an array of integer numbers, i.e, which rows or columns?\n"
   ]
  },
  {
   "cell_type": "code",
   "execution_count": 21,
   "metadata": {},
   "outputs": [
    {
     "data": {
      "text/plain": [
       "array([1800., 1801., 1802., 1803.])"
      ]
     },
     "execution_count": 21,
     "metadata": {},
     "output_type": "execute_result"
    }
   ],
   "source": [
    "data[[0,365,2*365,3*365],0]"
   ]
  },
  {
   "cell_type": "markdown",
   "metadata": {},
   "source": [
    "**Using mask to pick data***\n",
    "\n",
    "Create a mask of `[True,....False....]` values, and pick from the array only columns/rows where `True`. \n",
    "\n",
    "How to compute average temperature in the year of 1973?"
   ]
  },
  {
   "cell_type": "code",
   "execution_count": 22,
   "metadata": {},
   "outputs": [],
   "source": [
    "# Create mask for the year 1973\n",
    "mask = logical_and(data[:,0] >= 1973, data[:,0] < 1974)"
   ]
  },
  {
   "cell_type": "code",
   "execution_count": 23,
   "metadata": {},
   "outputs": [],
   "source": [
    "data[mask,0];  # All should have 1973"
   ]
  },
  {
   "cell_type": "code",
   "execution_count": 24,
   "metadata": {},
   "outputs": [
    {
     "name": "stdout",
     "output_type": "stream",
     "text": [
      "Average temperature in 1973= 7.414794520547944\n"
     ]
    }
   ],
   "source": [
    "T1973 = data[mask,3]\n",
    "print('Average temperature in 1973=', sum(T1973)/len(T1973))"
   ]
  },
  {
   "cell_type": "code",
   "execution_count": 25,
   "metadata": {},
   "outputs": [],
   "source": [
    "# where tells you the index where True\n",
    "indices = where(mask)\n",
    "X = data[indices,0]; # This gives similar data in 1973, but not identical"
   ]
  },
  {
   "cell_type": "code",
   "execution_count": 26,
   "metadata": {},
   "outputs": [
    {
     "ename": "NameError",
     "evalue": "name 'X1973' is not defined",
     "output_type": "error",
     "traceback": [
      "\u001b[0;31m---------------------------------------------------------------------------\u001b[0m",
      "\u001b[0;31mNameError\u001b[0m                                 Traceback (most recent call last)",
      "\u001b[0;32m<ipython-input-26-ba757e8aae6a>\u001b[0m in \u001b[0;36m<module>\u001b[0;34m\u001b[0m\n\u001b[0;32m----> 1\u001b[0;31m \u001b[0mprint\u001b[0m\u001b[0;34m(\u001b[0m\u001b[0mT1973\u001b[0m\u001b[0;34m.\u001b[0m\u001b[0mshape\u001b[0m\u001b[0;34m,\u001b[0m \u001b[0mX1973\u001b[0m\u001b[0;34m.\u001b[0m\u001b[0mshape\u001b[0m\u001b[0;34m)\u001b[0m\u001b[0;34m\u001b[0m\u001b[0;34m\u001b[0m\u001b[0m\n\u001b[0m\u001b[1;32m      2\u001b[0m \u001b[0mprint\u001b[0m\u001b[0;34m(\u001b[0m\u001b[0;34m'Average temperature in 1973='\u001b[0m\u001b[0;34m,\u001b[0m \u001b[0msum\u001b[0m\u001b[0;34m(\u001b[0m\u001b[0mX1973\u001b[0m\u001b[0;34m[\u001b[0m\u001b[0;36m0\u001b[0m\u001b[0;34m,\u001b[0m\u001b[0;34m:\u001b[0m\u001b[0;34m]\u001b[0m\u001b[0;34m)\u001b[0m\u001b[0;34m/\u001b[0m\u001b[0mlen\u001b[0m\u001b[0;34m(\u001b[0m\u001b[0mX1973\u001b[0m\u001b[0;34m[\u001b[0m\u001b[0;36m0\u001b[0m\u001b[0;34m,\u001b[0m\u001b[0;34m:\u001b[0m\u001b[0;34m]\u001b[0m\u001b[0;34m)\u001b[0m\u001b[0;34m)\u001b[0m\u001b[0;34m\u001b[0m\u001b[0;34m\u001b[0m\u001b[0m\n",
      "\u001b[0;31mNameError\u001b[0m: name 'X1973' is not defined"
     ]
    }
   ],
   "source": [
    "print(T1973.shape, X1973.shape)\n",
    "print('Average temperature in 1973=', sum(X1973[0,:])/len(X1973[0,:]))"
   ]
  },
  {
   "cell_type": "markdown",
   "metadata": {},
   "source": [
    "**What is the mean monthly temperatures for each month of the year?**"
   ]
  },
  {
   "cell_type": "markdown",
   "metadata": {},
   "source": [
    "Let's do Ferbrurary first"
   ]
  },
  {
   "cell_type": "code",
   "execution_count": 27,
   "metadata": {},
   "outputs": [
    {
     "data": {
      "text/plain": [
       "-3.212109570736596"
      ]
     },
     "execution_count": 27,
     "metadata": {},
     "output_type": "execute_result"
    }
   ],
   "source": [
    "Febr=data[:,1]==2\n",
    "mean(data[Febr,3])"
   ]
  },
  {
   "cell_type": "markdown",
   "metadata": {},
   "source": [
    "Now loop for all months"
   ]
  },
  {
   "cell_type": "code",
   "execution_count": 28,
   "metadata": {},
   "outputs": [],
   "source": [
    "monthly_mean=[mean(data[data[:,1]==month,3]) for month in range(1,13)]"
   ]
  },
  {
   "cell_type": "code",
   "execution_count": 29,
   "metadata": {},
   "outputs": [
    {
     "data": {
      "text/plain": [
       "Text(0, 0.5, 'average temperature')"
      ]
     },
     "execution_count": 29,
     "metadata": {},
     "output_type": "execute_result"
    },
    {
     "data": {
      "image/png": "[encoded data removed]",
      "text/plain": [
       "<Figure size 432x288 with 1 Axes>"
      ]
     },
     "metadata": {
      "needs_background": "light"
     },
     "output_type": "display_data"
    }
   ],
   "source": [
    "plt.bar(range(1,13),monthly_mean);\n",
    "plt.xlabel('month')\n",
    "plt.ylabel('average temperature')"
   ]
  },
  {
   "cell_type": "markdown",
   "metadata": {},
   "source": [
    "## Linear Algebra\n",
    "\n",
    "It is implemented in low level fortran/C code, and is much more efficient than code written in Python."
   ]
  },
  {
   "cell_type": "code",
   "execution_count": 30,
   "metadata": {},
   "outputs": [
    {
     "name": "stdout",
     "output_type": "stream",
     "text": [
      "[[0.04555081 0.76134273 0.27983383]\n",
      " [0.5978349  0.57132726 0.90666559]\n",
      " [0.08238817 0.01148468 0.03638785]]\n"
     ]
    },
    {
     "data": {
      "text/plain": [
       "array([[2.07487674e-03, 5.79642756e-01, 7.83069727e-02],\n",
       "       [3.57406568e-01, 3.26414839e-01, 8.22042488e-01],\n",
       "       [6.78781129e-03, 1.31897898e-04, 1.32407588e-03]])"
      ]
     },
     "execution_count": 30,
     "metadata": {},
     "output_type": "execute_result"
    }
   ],
   "source": [
    "A = random.rand(3,3)\n",
    "print(A)\n",
    "A*A  # It is not matrix-matrix product, but element-wise product"
   ]
  },
  {
   "cell_type": "markdown",
   "metadata": {},
   "source": [
    "Matrix product or matrix-vector product can be performed by `dot` command"
   ]
  },
  {
   "cell_type": "code",
   "execution_count": 31,
   "metadata": {},
   "outputs": [
    {
     "data": {
      "text/plain": [
       "array([[0.48028713, 0.47286944, 0.71321247],\n",
       "       [0.44348977, 0.79198486, 0.71828881],\n",
       "       [0.01361672, 0.06970505, 0.03479184]])"
      ]
     },
     "execution_count": 31,
     "metadata": {},
     "output_type": "execute_result"
    }
   ],
   "source": [
    "dot(A,A)"
   ]
  },
  {
   "cell_type": "code",
   "execution_count": 32,
   "metadata": {},
   "outputs": [
    {
     "name": "stdout",
     "output_type": "stream",
     "text": [
      "[0.11528416 0.99530108 0.39497281]\n",
      "[0.87354329 0.99567179 0.03530098]\n",
      "1.1599181975535275\n"
     ]
    }
   ],
   "source": [
    "v1 = random.rand(3)\n",
    "print(v1)\n",
    "print( dot(A,v1) ) # matrix.vector product\n",
    "print( dot(v1,v1) ) # length of vector^2"
   ]
  },
  {
   "cell_type": "code",
   "execution_count": 33,
   "metadata": {},
   "outputs": [
    {
     "data": {
      "text/plain": [
       "array([[0.00525129, 0.75776524, 0.11052676],\n",
       "       [0.0689209 , 0.56864264, 0.35810826],\n",
       "       [0.00949805, 0.01143072, 0.01437221]])"
      ]
     },
     "execution_count": 33,
     "metadata": {},
     "output_type": "execute_result"
    }
   ],
   "source": [
    "A*v1"
   ]
  },
  {
   "cell_type": "markdown",
   "metadata": {},
   "source": [
    "Slightly less efficient, but nicer code can be obtained by `matrix` clas"
   ]
  },
  {
   "cell_type": "code",
   "execution_count": 34,
   "metadata": {},
   "outputs": [],
   "source": [
    "M = matrix(A)\n",
    "v = matrix(v1).T # create a column vector"
   ]
  },
  {
   "cell_type": "code",
   "execution_count": 35,
   "metadata": {},
   "outputs": [
    {
     "data": {
      "text/plain": [
       "matrix([[0.48028713, 0.47286944, 0.71321247],\n",
       "        [0.44348977, 0.79198486, 0.71828881],\n",
       "        [0.01361672, 0.06970505, 0.03479184]])"
      ]
     },
     "execution_count": 35,
     "metadata": {},
     "output_type": "execute_result"
    }
   ],
   "source": [
    "M*M  # this is now matrix-matrix product"
   ]
  },
  {
   "cell_type": "code",
   "execution_count": 36,
   "metadata": {},
   "outputs": [
    {
     "data": {
      "text/plain": [
       "matrix([[0.87354329],\n",
       "        [0.99567179],\n",
       "        [0.03530098]])"
      ]
     },
     "execution_count": 36,
     "metadata": {},
     "output_type": "execute_result"
    }
   ],
   "source": [
    "M*v # this is matrix*vector product"
   ]
  },
  {
   "cell_type": "code",
   "execution_count": 37,
   "metadata": {},
   "outputs": [
    {
     "data": {
      "text/plain": [
       "matrix([[0.6328181 , 0.66094953, 0.94903786]])"
      ]
     },
     "execution_count": 37,
     "metadata": {},
     "output_type": "execute_result"
    }
   ],
   "source": [
    "v.T*M # vector*matrix product"
   ]
  },
  {
   "cell_type": "code",
   "execution_count": 38,
   "metadata": {},
   "outputs": [
    {
     "data": {
      "text/plain": [
       "matrix([[1.1599182]])"
      ]
     },
     "execution_count": 38,
     "metadata": {},
     "output_type": "execute_result"
    }
   ],
   "source": [
    "v.T*v # inner-product"
   ]
  },
  {
   "cell_type": "markdown",
   "metadata": {},
   "source": [
    "**Array/Matrix transformations**\n",
    "\n",
    "* `.T` or  `transpose(M)` transposes matrix\n",
    "* `.H` hermitian conjugate\n",
    "* `conjugate(M)` conjugates\n",
    "* `real(M)` and `imag(M)` takes real and imaginary part of the matrix"
   ]
  },
  {
   "cell_type": "markdown",
   "metadata": {},
   "source": [
    "### More advanced linear algebra operations\n",
    "\n",
    "Library `linalg`:\n",
    "\n",
    "* `linalg.det(A)`\n",
    "* `linalg.inv(A)` or just `M.I`\n",
    "* `linalg.eig`, `linalg.eigvals`, `linalg.eigh`\n",
    "* `linalg.svd()`\n",
    "* `linalg.solve()`\n",
    "* `linalg.cholesky()`"
   ]
  },
  {
   "cell_type": "code",
   "execution_count": 39,
   "metadata": {},
   "outputs": [],
   "source": [
    "from numpy import linalg"
   ]
  },
  {
   "cell_type": "code",
   "execution_count": 40,
   "metadata": {},
   "outputs": [
    {
     "name": "stdout",
     "output_type": "stream",
     "text": [
      "0.029531018752294295\n"
     ]
    },
    {
     "data": {
      "text/plain": [
       "array([[  0.35137994,  -0.82929159,  17.96099771],\n",
       "       [  1.79284685,  -0.72457717,   4.26653326],\n",
       "       [ -1.36143853,   2.10634458, -14.531596  ]])"
      ]
     },
     "execution_count": 40,
     "metadata": {},
     "output_type": "execute_result"
    }
   ],
   "source": [
    "print( linalg.det(A) )\n",
    "linalg.inv(A)"
   ]
  },
  {
   "cell_type": "code",
   "execution_count": 41,
   "metadata": {},
   "outputs": [
    {
     "data": {
      "text/plain": [
       "matrix([[  0.35137994,  -0.82929159,  17.96099771],\n",
       "        [  1.79284685,  -0.72457717,   4.26653326],\n",
       "        [ -1.36143853,   2.10634458, -14.531596  ]])"
      ]
     },
     "execution_count": 41,
     "metadata": {},
     "output_type": "execute_result"
    }
   ],
   "source": [
    "M.I"
   ]
  },
  {
   "cell_type": "markdown",
   "metadata": {},
   "source": [
    "The eigenvalue problem for a matrix $A$:\n",
    "\n",
    "$\\displaystyle A v_n = \\lambda_n v_n$\n",
    "\n",
    "where $v_n$ is the $n$th eigenvector and $\\lambda_n$ is the $n$th eigenvalue.\n",
    "\n",
    "To calculate eigenvalues of a matrix, use the `eigvals` (symmetric/hermitian `eigvalsh`) and for calculating both eigenvalues and eigenvectors, use the function `eig` (or `eigh`):"
   ]
  },
  {
   "cell_type": "code",
   "execution_count": 58,
   "metadata": {},
   "outputs": [
    {
     "data": {
      "text/plain": [
       "array([10.05094136,  0.53193003,  0.02484373])"
      ]
     },
     "execution_count": 58,
     "metadata": {},
     "output_type": "execute_result"
    }
   ],
   "source": [
    "linalg.eigvals(A)"
   ]
  },
  {
   "cell_type": "code",
   "execution_count": 65,
   "metadata": {},
   "outputs": [
    {
     "name": "stdout",
     "output_type": "stream",
     "text": [
      "[-0.23333333  0.46666667  0.1       ]\n"
     ]
    },
    {
     "data": {
      "text/plain": [
       "array([ 0.00000000e+00, -2.22044605e-16,  0.00000000e+00])"
      ]
     },
     "execution_count": 65,
     "metadata": {},
     "output_type": "execute_result"
    }
   ],
   "source": [
    "A = array([[1,2,3], [4,5,6], [7,8,9]])\n",
    "b = array([1,2,3])\n",
    "x = linalg.solve(A,b)\n",
    "print(x)\n",
    "dot(A,x)-b"
   ]
  },
  {
   "cell_type": "markdown",
   "metadata": {},
   "source": [
    "### sum, cumsum, trace, diag"
   ]
  },
  {
   "cell_type": "code",
   "execution_count": 43,
   "metadata": {},
   "outputs": [
    {
     "name": "stdout",
     "output_type": "stream",
     "text": [
      "1.505558054386877\n",
      "[0.11528416 1.11058524 1.50555805]\n",
      "0.6532659291244824\n",
      "[0.04555081 0.57132726 0.03638785]\n",
      "0.6532659291244824\n"
     ]
    }
   ],
   "source": [
    "print( sum(v1) )\n",
    "print( cumsum(v1) )\n",
    "print( trace(A) )\n",
    "print( diag(A) )\n",
    "print( sum(diag(A)) )"
   ]
  },
  {
   "cell_type": "markdown",
   "metadata": {},
   "source": [
    "## Reshaping, resizing, and stacking arrays"
   ]
  },
  {
   "cell_type": "code",
   "execution_count": 44,
   "metadata": {},
   "outputs": [],
   "source": [
    "A.shape\n",
    "Ag = reshape(A, (9,1))  # this is not new data"
   ]
  },
  {
   "cell_type": "code",
   "execution_count": 45,
   "metadata": {},
   "outputs": [
    {
     "data": {
      "text/plain": [
       "array([[10.        ,  0.76134273,  0.27983383],\n",
       "       [ 0.5978349 ,  0.57132726,  0.90666559],\n",
       "       [ 0.08238817,  0.01148468,  0.03638785]])"
      ]
     },
     "execution_count": 45,
     "metadata": {},
     "output_type": "execute_result"
    }
   ],
   "source": [
    "Ag[0]=10\n",
    "A        # we change A when we change Ag"
   ]
  },
  {
   "cell_type": "code",
   "execution_count": 46,
   "metadata": {},
   "outputs": [
    {
     "name": "stdout",
     "output_type": "stream",
     "text": [
      "[[10.          0.76134273  0.27983383]\n",
      " [ 0.5978349   0.57132726  0.90666559]\n",
      " [ 0.08238817  0.01148468  0.03638785]]\n"
     ]
    }
   ],
   "source": [
    "Ax = A.flatten()  # flatten creates 1D array of all data, but creates a copy\n",
    "Ax[0]=100         # changing a copy\n",
    "print(A)"
   ]
  },
  {
   "cell_type": "markdown",
   "metadata": {},
   "source": [
    "## Vectorizing functions"
   ]
  },
  {
   "cell_type": "markdown",
   "metadata": {},
   "source": [
    "Every function written in Python is very slow. However numpy type operations are fast, because they are written in fortran/C"
   ]
  },
  {
   "cell_type": "code",
   "execution_count": 47,
   "metadata": {},
   "outputs": [
    {
     "data": {
      "text/plain": [
       "array([ 37.21, 237.16, 225.  , ...,  24.01,   0.36,   6.76])"
      ]
     },
     "execution_count": 47,
     "metadata": {},
     "output_type": "execute_result"
    }
   ],
   "source": [
    "Temp = data[:,3]\n",
    "\n",
    "Temp**2  #  this is fast, written in C"
   ]
  },
  {
   "cell_type": "code",
   "execution_count": 48,
   "metadata": {},
   "outputs": [
    {
     "data": {
      "text/plain": [
       "array([ 37.21, 237.16, 225.  , ...,  24.01,   0.36,   6.76])"
      ]
     },
     "execution_count": 48,
     "metadata": {},
     "output_type": "execute_result"
    }
   ],
   "source": [
    "array([Temp[i]**2 for i in range(len(Temp))])  # This is slow, written in Python"
   ]
  },
  {
   "cell_type": "markdown",
   "metadata": {},
   "source": [
    "What if we have a function that can not simply work on arrays?\n",
    "\n",
    "For example, theta function?"
   ]
  },
  {
   "cell_type": "code",
   "execution_count": 49,
   "metadata": {},
   "outputs": [],
   "source": [
    "def Theta(x):\n",
    "    if x>=0:\n",
    "        return 1\n",
    "    else:\n",
    "        return 0"
   ]
  },
  {
   "cell_type": "code",
   "execution_count": 50,
   "metadata": {},
   "outputs": [
    {
     "ename": "ValueError",
     "evalue": "The truth value of an array with more than one element is ambiguous. Use a.any() or a.all()",
     "output_type": "error",
     "traceback": [
      "\u001b[0;31m---------------------------------------------------------------------------\u001b[0m",
      "\u001b[0;31mValueError\u001b[0m                                Traceback (most recent call last)",
      "\u001b[0;32m<ipython-input-50-c725ebf5277f>\u001b[0m in \u001b[0;36m<module>\u001b[0;34m\u001b[0m\n\u001b[1;32m      1\u001b[0m \u001b[0;31m# Does not work on array\u001b[0m\u001b[0;34m\u001b[0m\u001b[0;34m\u001b[0m\u001b[0;34m\u001b[0m\u001b[0m\n\u001b[0;32m----> 2\u001b[0;31m \u001b[0mTheta\u001b[0m\u001b[0;34m(\u001b[0m\u001b[0mTemp\u001b[0m\u001b[0;34m)\u001b[0m\u001b[0;34m\u001b[0m\u001b[0;34m\u001b[0m\u001b[0m\n\u001b[0m",
      "\u001b[0;32m<ipython-input-49-fbdf5e6f3a99>\u001b[0m in \u001b[0;36mTheta\u001b[0;34m(x)\u001b[0m\n\u001b[1;32m      1\u001b[0m \u001b[0;32mdef\u001b[0m \u001b[0mTheta\u001b[0m\u001b[0;34m(\u001b[0m\u001b[0mx\u001b[0m\u001b[0;34m)\u001b[0m\u001b[0;34m:\u001b[0m\u001b[0;34m\u001b[0m\u001b[0;34m\u001b[0m\u001b[0m\n\u001b[0;32m----> 2\u001b[0;31m     \u001b[0;32mif\u001b[0m \u001b[0mx\u001b[0m\u001b[0;34m>=\u001b[0m\u001b[0;36m0\u001b[0m\u001b[0;34m:\u001b[0m\u001b[0;34m\u001b[0m\u001b[0;34m\u001b[0m\u001b[0m\n\u001b[0m\u001b[1;32m      3\u001b[0m         \u001b[0;32mreturn\u001b[0m \u001b[0;36m1\u001b[0m\u001b[0;34m\u001b[0m\u001b[0;34m\u001b[0m\u001b[0m\n\u001b[1;32m      4\u001b[0m     \u001b[0;32melse\u001b[0m\u001b[0;34m:\u001b[0m\u001b[0;34m\u001b[0m\u001b[0;34m\u001b[0m\u001b[0m\n\u001b[1;32m      5\u001b[0m         \u001b[0;32mreturn\u001b[0m \u001b[0;36m0\u001b[0m\u001b[0;34m\u001b[0m\u001b[0;34m\u001b[0m\u001b[0m\n",
      "\u001b[0;31mValueError\u001b[0m: The truth value of an array with more than one element is ambiguous. Use a.any() or a.all()"
     ]
    }
   ],
   "source": [
    "# Does not work on array\n",
    "Theta(Temp)"
   ]
  },
  {
   "cell_type": "markdown",
   "metadata": {},
   "source": [
    "We can vectorize Theta, to make it applicable to arrays. \n",
    "\n",
    "This is simply achieved by call to numpy function `vectorize`, which will create low-level routine from your function"
   ]
  },
  {
   "cell_type": "code",
   "execution_count": 51,
   "metadata": {},
   "outputs": [],
   "source": [
    "Theta_vec = vectorize(Theta)"
   ]
  },
  {
   "cell_type": "code",
   "execution_count": 52,
   "metadata": {},
   "outputs": [
    {
     "data": {
      "text/plain": [
       "array([0, 0, 0, ..., 1, 1, 0])"
      ]
     },
     "execution_count": 52,
     "metadata": {},
     "output_type": "execute_result"
    }
   ],
   "source": [
    "# This is very fast now, and creates 0 or ones\n",
    "positive_temperatures=Theta_vec(Temp)\n",
    "positive_temperatures"
   ]
  },
  {
   "cell_type": "markdown",
   "metadata": {},
   "source": [
    "**How to calculate number of days in a year with positive temperatures?**"
   ]
  },
  {
   "cell_type": "code",
   "execution_count": 53,
   "metadata": {},
   "outputs": [],
   "source": [
    "# Boolean array to select data with positive temperatures\n",
    "positives = array(positive_temperatures, dtype=bool)\n",
    "# keeps data with positive temperatures only\n",
    "kept = data[positives,0]\n",
    "# now we just need to check how many of these data are in each year"
   ]
  },
  {
   "cell_type": "code",
   "execution_count": 54,
   "metadata": {},
   "outputs": [],
   "source": [
    "years = list(range(1800,2013,1))\n",
    "hist = histogram(kept, bins=years)"
   ]
  },
  {
   "cell_type": "code",
   "execution_count": 55,
   "metadata": {},
   "outputs": [
    {
     "data": {
      "image/png": "[encoded data removed]",
      "text/plain": [
       "<Figure size 432x288 with 1 Axes>"
      ]
     },
     "metadata": {
      "needs_background": "light"
     },
     "output_type": "display_data"
    }
   ],
   "source": [
    "plt.plot(hist[1][:-1], hist[0]);"
   ]
  }
 ],
 "metadata": {
  "kernelspec": {
   "display_name": "Python 3",
   "language": "python",
   "name": "python3"
  },
  "language_info": {
   "codemirror_mode": {
    "name": "ipython",
    "version": 3
   },
   "file_extension": ".py",
   "mimetype": "text/x-python",
   "name": "python",
   "nbconvert_exporter": "python",
   "pygments_lexer": "ipython3",
   "version": "3.8.5"
  }
 },
 "nbformat": 4,
 "nbformat_minor": 4
}
