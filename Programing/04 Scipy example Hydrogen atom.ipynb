{
 "cells": [
  {
   "cell_type": "markdown",
   "metadata": {},
   "source": [
    "# Schroedinger Equation for Hydrogen Atom\n",
    "\n",
    "\n",
    "The Schroedinger equation is:\n",
    "\n",
    "\\begin{eqnarray}\n",
    "(-\\frac{\\hbar^2}{2m}\\nabla^2-\\frac{Z e^2}{4\\pi\\varepsilon_0 r})\\psi(\\vec{r})=E \\psi(\\vec{r})\n",
    "\\end{eqnarray}\n",
    "\n",
    "using ansatz:\n",
    "\n",
    "$\\psi(\\vec{r}) = Y_{lm}(\\hat{r})\\; u(r)/r$\n",
    "\n",
    "and introducing dimensionless variables:\n",
    "\n",
    "\\begin{eqnarray}\n",
    "x = \\frac{r}{r_B}\\\\\n",
    "\\varepsilon = \\frac{E}{E_0}\n",
    "\\end{eqnarray}\n",
    "where\n",
    "\\begin{eqnarray}\n",
    "&& r_B = \\frac{4\\pi\\varepsilon_0 \\hbar^2}{m e^2} \\approx 0.529 A\\\\\n",
    "&& E_0 = \\frac{\\hbar^2}{2 m r_B^2} == Ry \\approx 13.6 eV\n",
    "\\end{eqnarray}\n",
    "\n",
    "we get the differential equation\n",
    "\n",
    "\\begin{eqnarray}\n",
    "u''(x)-\n",
    "\\left(\\frac{l(l+1)}{x^2}-\\frac{2Z}{x}-\\varepsilon\\right)u(x)=0\n",
    "\\end{eqnarray}\n",
    "\n",
    "Next we rewrite into the system of first order equations:\n",
    "\n",
    "\\begin{eqnarray}\n",
    "y = \\left(u(x),u'(x)\\right)\\\\\n",
    "\\frac{dy}{dx} = \\left(u'(x),u''(x)\\right)\n",
    "\\end{eqnarray}\n",
    "\n",
    "with boundary conditions\n",
    "\\begin{eqnarray}\n",
    "&&u(0) = 0 \\rightarrow \\psi(0)<\\infty\\\\\n",
    "&&u(\\infty)=0 \\rightarrow \\int |\\psi(r)|^2 r^2 dr \\propto \\int u^2(r)dr < \\infty\n",
    "\\end{eqnarray}\n",
    "\n",
    "Because boundary conditions are given at the two ends, we need so-called shooting method"
   ]
  },
  {
   "cell_type": "markdown",
   "metadata": {},
   "source": [
    "**Shooting algorithm:**\n",
    "\n",
    "Suppose the two boundary condistions are given at $a$ and $b$, i.e., $u(a)=u(b)=0$. Then\n",
    "\n",
    "* Choose $u(a)=0$ and $u'(a)=c$, with $c$ some constant.\n",
    "* Solve for $u(x)$ to the other end, and check if $u(b)=0$.\n",
    "* Using root finding routine find energy $\\varepsilon$ for which u(b)=0. This is the bound state.\n",
    "* Continue with increasing energy $\\varepsilon$ until sufficient number of bound states is found"
   ]
  },
  {
   "cell_type": "markdown",
   "metadata": {},
   "source": [
    "**Some remarks**\n",
    "\n",
    "* It turns out that forward integration of the radial Sch. Eq. is unstable. It is better to start integrating from infinity, and then continue down to zero.\n",
    "* It is better to use logarithmic mesh for radial variable rather than linear. Radial functions need smaller number of points in logarithmic mesh"
   ]
  },
  {
   "cell_type": "markdown",
   "metadata": {},
   "source": [
    "**The implementation will follow these steps**\n",
    "\n",
    "<ol>\n",
    "<li>call SciPy routine <pre>integrate.odeint</pre>  to integrate the one-electron Schroedinger equation. Note that the distance is measured in units of bohr radius and energy units is Rydberg ($1 Ry = 13.6058...eV$)\n",
    "</li>\n",
    "<p>\n",
    "<li> The boundary conditions are $u(0)=0$ and $u(\\infty)=0$. \n",
    "\n",
    "Use shooting method to obtain  wave functions:\n",
    "    <ol>\n",
    "      <li> Use  logarithmic mesh of radial points for integration. Start integrating\n",
    "        from a large distance ($R_{max} \\sim 100$). At $R_{max}$ choose\n",
    "        $u=0$ and some nonzero (not too large) derivative.</li>\n",
    "      <li> Integrate the Schroedinger equation down to $r=0$. If\n",
    "        your choice for the energy $\\varepsilon$ corresponds to the bound state, the wave function at $u(r=0)$ will be zero.</li>\n",
    "    </ol>\n",
    "\n",
    "<p>\n",
    "<li>Start searching for the first bound state at sufficiently negative energy (for example $\\sim -1.2 Z^2$) and increase energy in sufficiently small steps to bracket all necessary bound states. Ones the wave function at $r=0$ changes sign, use root finding routine, for example  <pre>optimize.brentq,</pre>  to compute zero to very high precision. Store the index and the energy of the bound state for further processing.</li>\n",
    "\n",
    "<li> Ones bound state energies are found, recompute $u(r)$ for all bound states. Normalize $u(r)$ and plot them.</li>\n",
    "\n",
    "<li> Compute electron density for various atoms (for example He, Li, ..)  neglecting Coulomb repulsion:\n",
    "   <p>\n",
    "     Populate first $Z$ lowest laying electron states and\n",
    "       compute \n",
    "       $\\rho = \\sum_{lm\\in occupied} u_{lm}^2(r)/(4\\pi r^2)$. \n",
    "       Each state with quantum number $l$ can take $2(2l+1)$\n",
    "       electrons. Be carefull, if atom is not one of the Nobel gases\n",
    "       (He, Ne, ...) the last orbital is only partially filled.\n",
    "\n",
    "</ol>"
   ]
  },
  {
   "cell_type": "markdown",
   "metadata": {},
   "source": [
    "Recall: \n",
    "\n",
    "\\begin{eqnarray}\n",
    "&& y = (u(r), u'(r) )\\\\\n",
    "&& dy/dr = (u'(r), u''(r))\n",
    "\\end{eqnarray}\n",
    "\n",
    "\\begin{eqnarray}\n",
    "u''(r)=\n",
    "\\left(\\frac{l(l+1)}{r^2}-\\frac{2Z}{r}-\\varepsilon\\right)u(r)\n",
    "\\end{eqnarray}"
   ]
  },
  {
   "cell_type": "code",
   "execution_count": null,
   "metadata": {},
   "outputs": [],
   "source": [
    "from scipy import *\n",
    "from numpy import *\n",
    "from scipy import integrate\n",
    "from scipy import optimize\n",
    "from numba import jit  # This is the new line with numba\n",
    "\n",
    "@jit(nopython=True)\n",
    "def Schroed_deriv(y,r,l,En):\n",
    "    \"Given y=[u,u'] returns dy/dr=[u',u''] \"\n",
    "    (u,up) = y\n",
    "    return array([up, (l*(l+1)/r**2-2/r-En)*u])"
   ]
  },
  {
   "cell_type": "markdown",
   "metadata": {},
   "source": [
    "First we try linear mesh and forward integration. It is supposed to be unstable.\n",
    "We know the ground state has energy $E_0=-1 Ry$ and we should get $1s$ state with integrating Scroedinger equation. "
   ]
  },
  {
   "cell_type": "code",
   "execution_count": null,
   "metadata": {},
   "outputs": [],
   "source": [
    "R = linspace(1e-10,20,500)\n",
    "l=0\n",
    "E0=-1.0\n",
    "\n",
    "ur = integrate.odeint(Schroed_deriv, [0.0, 1.0], R, args=(l,E0))"
   ]
  },
  {
   "cell_type": "code",
   "execution_count": null,
   "metadata": {},
   "outputs": [],
   "source": [
    "from pylab import *\n",
    "%matplotlib inline\n",
    "\n",
    "plot(R,ur[:,0])\n",
    "plot(R,R*exp(-R)) # expected solution u = r * exp(-r)\n",
    "show()"
   ]
  },
  {
   "cell_type": "markdown",
   "metadata": {},
   "source": [
    "Recal `Euler's method` and `Runge Kutta` method"
   ]
  },
  {
   "cell_type": "code",
   "execution_count": null,
   "metadata": {},
   "outputs": [],
   "source": [
    "from IPython.display import Image\n",
    "Image('https://upload.wikimedia.org/wikipedia/commons/thumb/1/10/Euler_method.svg/2560px-Euler_method.svg.png')\n"
   ]
  },
  {
   "cell_type": "code",
   "execution_count": null,
   "metadata": {},
   "outputs": [],
   "source": [
    "Image('https://upload.wikimedia.org/wikipedia/commons/thumb/7/7e/Runge-Kutta_slopes.svg/1920px-Runge-Kutta_slopes.svg.png')"
   ]
  },
  {
   "cell_type": "markdown",
   "metadata": {},
   "source": [
    "Indeed the integration is unstable, and needs to be done in opposite direction. Let's try from large R."
   ]
  },
  {
   "cell_type": "code",
   "execution_count": null,
   "metadata": {},
   "outputs": [],
   "source": [
    "R = linspace(1e-10,20,500)\n",
    "l=0\n",
    "E0=-1.0\n",
    "Rb=R[::-1] # invert the mesh\n",
    "\n",
    "urb = integrate.odeint(Schroed_deriv, [0.0, -1e-5], Rb, args=(l,E0))\n",
    "ur = urb[:,0][::-1] # we take u(r) and invert it in R.\n",
    "\n",
    "norm=integrate.simps(ur**2,x=R)\n",
    "ur *= 1./sqrt(norm)"
   ]
  },
  {
   "cell_type": "code",
   "execution_count": null,
   "metadata": {},
   "outputs": [],
   "source": [
    "plot(R,ur)\n",
    "plot(R, R*exp(-R)*2) # with proper normalization, exact solution is 2*r*exp(-r)\n",
    "show()\n",
    "\n",
    "plot(R,ur)\n",
    "plot(R, R*exp(-R)*2)\n",
    "xlim(0,0.01)\n",
    "ylim(0,0.01)\n",
    "show()"
   ]
  },
  {
   "cell_type": "markdown",
   "metadata": {},
   "source": [
    "Clearly the integration from infinity is stable, and we will use it here.\n",
    "\n",
    "Logarithmic mesh is better suited for higher excited states, as they extend far away.\n",
    "\n",
    "Lets create a subroutine of what we learned up to now:"
   ]
  },
  {
   "cell_type": "code",
   "execution_count": null,
   "metadata": {},
   "outputs": [],
   "source": [
    "def SolveSchroedinger(En,l,R):\n",
    "    Rb=R[::-1]\n",
    "    du0=-1e-5\n",
    "    urb=integrate.odeint(Schroed_deriv, [0.0,du0], Rb, args=(l,En))\n",
    "    ur=urb[:,0][::-1]\n",
    "    norm=integrate.simps(ur**2,x=R)\n",
    "    ur *= 1./sqrt(norm)\n",
    "    return ur"
   ]
  },
  {
   "cell_type": "code",
   "execution_count": null,
   "metadata": {},
   "outputs": [],
   "source": [
    "l=1\n",
    "n=3\n",
    "En=-1./(n**2)  # 2p orbital\n",
    "\n",
    "\n",
    "Ri = linspace(1e-6,100,100)   # linear mesh already fails for this case\n",
    "ui = SolveSchroedinger(En,l,Ri)\n",
    "\n",
    "\n",
    "R = logspace(-6,2.,100)\n",
    "ur = SolveSchroedinger(En,l,R)\n",
    "\n",
    "\n",
    "#ylim([0,0.5])\n",
    "plot(R,ur/R,'o-')\n",
    "plot(Ri,ui/Ri,'s-')\n",
    "xlim([0,20])"
   ]
  },
  {
   "cell_type": "code",
   "execution_count": null,
   "metadata": {},
   "outputs": [],
   "source": [
    "def Shoot(En,R,l):\n",
    "    Rb=R[::-1]\n",
    "    du0=-1e-5\n",
    "    ub=integrate.odeint(Schroed_deriv, [0.0,du0], Rb, args=(l,En))\n",
    "    ur=ub[:,0][::-1]\n",
    "    norm=integrate.simps(ur**2,x=R)\n",
    "    ur *= 1./sqrt(norm)\n",
    "    # we know that u(r)~ A r^(l+1), hence, u(r)/r^l ~ A r\n",
    "    ur = ur/R**l\n",
    "    # extrapolate to r=0\n",
    "    f0 = ur[0]\n",
    "    f1 = ur[1]\n",
    "    f_at_0 = f0 + (f1-f0)*(0.0-R[0])/(R[1]-R[0])\n",
    "    return f_at_0"
   ]
  },
  {
   "cell_type": "code",
   "execution_count": null,
   "metadata": {},
   "outputs": [],
   "source": [
    "R = logspace(-6,2.2,500)\n",
    "\n",
    "Shoot(-1.,R,0)"
   ]
  },
  {
   "cell_type": "code",
   "execution_count": null,
   "metadata": {},
   "outputs": [],
   "source": [
    "def FindBoundStates(R,l,nmax,Esearch):\n",
    "    n=0\n",
    "    Ebnd=[]\n",
    "    u0 = Shoot(Esearch[0],R,l)\n",
    "    for i in range(1,len(Esearch)):\n",
    "        u1 = Shoot(Esearch[i],R,l)\n",
    "        if u0*u1<0:\n",
    "            Ebound = optimize.brentq(Shoot,Esearch[i-1],Esearch[i],xtol=1e-16,args=(R,l))\n",
    "            Ebnd.append((l,Ebound))\n",
    "            if len(Ebnd)>nmax: break\n",
    "            n+=1\n",
    "            print('Found bound state at E=%14.9f E_exact=%14.9f l=%d' % (Ebound, -1.0/(n+l)**2,l))\n",
    "        u0=u1\n",
    "    \n",
    "    return Ebnd"
   ]
  },
  {
   "cell_type": "code",
   "execution_count": null,
   "metadata": {},
   "outputs": [],
   "source": [
    "Esearch = -1.2/arange(1,20,0.2)**2\n",
    "\n",
    "R = logspace(-6,2.2,500)\n",
    "\n",
    "nmax=7\n",
    "Bnd=[]\n",
    "for l in range(nmax-1):\n",
    "    Bnd += FindBoundStates(R,l,nmax-l,Esearch)"
   ]
  },
  {
   "cell_type": "code",
   "execution_count": null,
   "metadata": {},
   "outputs": [],
   "source": [
    "def cmpKey(x):\n",
    "    return x[1]*1000 + x[0]  # energy has large wait, but degenerate energy states are sorted by l\n",
    "\n",
    "Bnd = sorted(Bnd, key=cmpKey)"
   ]
  },
  {
   "cell_type": "code",
   "execution_count": null,
   "metadata": {},
   "outputs": [],
   "source": [
    "Bnd"
   ]
  },
  {
   "cell_type": "code",
   "execution_count": null,
   "metadata": {},
   "outputs": [],
   "source": [
    "Z=28 # like Ni\n",
    "N=0\n",
    "rho=zeros(len(R))\n",
    "for (l,En) in Bnd:\n",
    "    ur = SolveSchroedinger(En,l,R)\n",
    "    dN = 2*(2*l+1)\n",
    "    if N+dN<=Z:\n",
    "        ferm = 1.\n",
    "    else:\n",
    "        ferm = (Z-N)/float(dN)\n",
    "    drho = ur**2 * ferm * dN/(4*pi*R**2)\n",
    "    rho += drho\n",
    "    N += dN\n",
    "    print('adding state (%2d,%14.9f) with fermi=%4.2f and current N=%5.1f' % (l,En,ferm,N))\n",
    "    if N>=Z: break"
   ]
  },
  {
   "cell_type": "markdown",
   "metadata": {},
   "source": [
    "Resulting charge density for a Ni-like Hydrogen atom"
   ]
  },
  {
   "cell_type": "code",
   "execution_count": null,
   "metadata": {},
   "outputs": [],
   "source": [
    "from pylab import *\n",
    "%matplotlib inline\n",
    "\n",
    "plot(R,rho*(4*pi*R**2),label='charge density')\n",
    "xlim([0,25])\n",
    "show()"
   ]
  },
  {
   "cell_type": "markdown",
   "metadata": {},
   "source": [
    "## Numerov algorithm\n",
    "\n",
    "The general purpose integration routine is not the best method for solving the Schroedinger equation, which does not have first derivative terms. \n",
    "\n",
    "Numerov algorithm is better fit for such equations, and its algorithm is summarized below. "
   ]
  },
  {
   "cell_type": "markdown",
   "metadata": {},
   "source": [
    "The second order linear differential equation (DE) of the form\n",
    "\n",
    "\\begin{eqnarray}\n",
    " x''(t) = f(t) x(t) + u(t)\n",
    "\\end{eqnarray}\n",
    "\n",
    "is a target of Numerov algorithm.\n",
    "\n",
    "Due to a special structure of the DE, the fourth order error cancels\n",
    "and leads to sixth order algorithm using second order integration\n",
    "scheme.\n",
    "\n",
    "\n",
    "If we expand x(t) to some higher power and take into account the time\n",
    "reversal symmetry of the equation, all odd term cancel\n",
    "\n",
    "\\begin{eqnarray}\n",
    "  x(h) = x(0)+h x'(0)+\\frac{1}{2}h^2 x''(0)+\\frac{1}{3!}h^3\n",
    "  x^{(3)}(0)+\\frac{1}{4!}h^4 x^{(4)}(0)+\\frac{1}{5!}h^5 x^{(5)}(0)+...\\\\\n",
    "  x(-h) = x(0)-h x'(0)+\\frac{1}{2}h^2 x''(0)-\\frac{1}{3!}h^3\n",
    "  x^{(3)}(0)+\\frac{1}{4!}h^4 x^{(4)}(0)-\\frac{1}{5!}h^5\n",
    "  x^{(5)}(0)+...\n",
    "\\end{eqnarray}\n",
    "\n",
    "hence \n",
    "\n",
    "\\begin{eqnarray}\n",
    "  x(h)+x(-h) = 2x(0)+h^2 (f(0)x(0)+u(0))+\\frac{2}{4!}h^4 x^{(4)}(0)+O(h^6)\n",
    "\\end{eqnarray}\n",
    "\n",
    "\n",
    "If we are happy with $O(h^4)$ algorithm, we can neglect $x^{(4)}$ term and\n",
    "get the following recursion relation\n",
    "\n",
    "\\begin{equation}\n",
    "  x_{i+1}-2 x_i + x_{i-1} = h^2 (f_i x_i+u_i) .\n",
    "\\end{equation}\n",
    "\n",
    "\n"
   ]
  },
  {
   "cell_type": "markdown",
   "metadata": {},
   "source": [
    "But we know from the differential equation that\n",
    "\n",
    "\\begin{equation}\n",
    "  x^{(4)} = \\frac{d^2 x''(t)}{dt^2} = \\frac{d^2}{dt^2}(f(t) x(t)+u(t))\n",
    "\\end{equation}\n",
    "\n",
    "which can be approximated by\n",
    "\n",
    "\\begin{equation}\n",
    "  x^{(4)}\\sim \\frac{f_{i+1}x_{i+1}+u_{i+1}-2 f_i x_i -2 u_i+ f_{i-1}x_{i-1}+u_{i-1}}{h^2}\n",
    "\\end{equation}\n",
    "\n",
    "Inserting the fourth order derivative into the above recursive equation (forth equation in his chapter), we\n",
    "get\n",
    "\n",
    "\\begin{equation}\n",
    "  x_{i+1}-2 x_i+x_{i-1}=h^2(f_i x_i+u_i)+\\frac{h^2}{12}(f_{i+1}x_{i+1}+u_{i+1}-2 f_i x_i -2 u_i+ f_{i-1}x_{i-1}+u_{i-1})\n",
    "\\end{equation}\n",
    "\n",
    "If we switch to a new variable $w_i=x_i(1-\\frac{h^2}{12} f_i)-\\frac{h^2}{12}u_i$\n",
    "we are left with the following\n",
    "equation\n",
    "\n",
    "\\begin{equation}\n",
    "  w_{i+1} -2 w_i + w_{i-1} = h^2 (f_i x_i + u_i)+O(h^6)\n",
    "\\end{equation}\n",
    "\n",
    "The variable $x$ needs to be recomputed at each step with\n",
    "$x_i=(w_i+\\frac{h^2}{12}u_i)/(1-\\frac{h^2}{12}f_i)$.\n",
    "\n",
    "\n"
   ]
  },
  {
   "cell_type": "code",
   "execution_count": null,
   "metadata": {},
   "outputs": [],
   "source": [
    "@jit(nopython=True)\n",
    "def Numerov(f, x0, dx, dh):\n",
    "    \"\"\"Given precomputed function f(x), solves for x(t), which satisfies:\n",
    "          x''(t) = f(t) x(t)\n",
    "    \"\"\"\n",
    "    x = zeros(len(f))\n",
    "    x[0] = x0\n",
    "    x[1] = x0+dh*dx\n",
    "    \n",
    "    h2 = dh**2\n",
    "    h12 = h2/12.\n",
    "\n",
    "    w0=x0*(1-h12*f[0])\n",
    "    w1=x[1]*(1-h12*f[1])\n",
    "    xi = x[1]\n",
    "    fi = f[1]\n",
    "    for i in range(2,len(f)):\n",
    "        w2 = 2*w1-w0+h2*fi*xi  # here fi=f1\n",
    "        fi = f[i]  # fi=f2\n",
    "        xi = w2/(1-h12*fi)\n",
    "        x[i]=xi\n",
    "        w0 = w1\n",
    "        w1 = w2\n",
    "    return x"
   ]
  },
  {
   "cell_type": "code",
   "execution_count": null,
   "metadata": {},
   "outputs": [],
   "source": [
    "def fSchrod(En, l, R):\n",
    "    return l*(l+1.)/R**2-2./R-En"
   ]
  },
  {
   "cell_type": "code",
   "execution_count": null,
   "metadata": {},
   "outputs": [],
   "source": [
    "Rl = linspace(1e-7,50,1000)\n",
    "l=0\n",
    "En=-1.\n",
    "f = fSchrod(En,l,Rl[::-1])\n",
    "ur = Numerov(f,0.0,1e-7,Rl[1]-Rl[0])[::-1]\n",
    "norm = integrate.simps(ur**2,x=Rl)\n",
    "ur *= 1/sqrt(abs(norm))"
   ]
  },
  {
   "cell_type": "code",
   "execution_count": null,
   "metadata": {},
   "outputs": [],
   "source": [
    "from pylab import *\n",
    "%matplotlib inline\n",
    "\n",
    "plot(Rl,ur)\n",
    "plot(Rl,exp(-Rl)*Rl*2.);"
   ]
  },
  {
   "cell_type": "code",
   "execution_count": null,
   "metadata": {},
   "outputs": [],
   "source": [
    "@jit(nopython=True)    # This is the second new line with numba\n",
    "def Numerovc(f, x0, dx, dh):\n",
    "    x = zeros(len(f))\n",
    "    x[0]=x0\n",
    "    x[1]=x0+dh*dx\n",
    "    h2 = dh*dh;\n",
    "    h12 = h2/12.;\n",
    "    w0 = x[0]*(1-h12*f[0])\n",
    "    w1 = x[1]*(1-h12*f[1])\n",
    "    xi = x[1]\n",
    "    fi = f[1]\n",
    "    for i in range(2,f.size):\n",
    "        w2 = 2*w1-w0+h2*fi*xi  # here fi=f1\n",
    "        fi = f[i]              # fi=f2\n",
    "        xi = w2/(1-h12*fi)\n",
    "        x[i]=xi;\n",
    "        w0 = w1\n",
    "        w1 = w2\n",
    "    return x"
   ]
  },
  {
   "cell_type": "code",
   "execution_count": null,
   "metadata": {},
   "outputs": [],
   "source": [
    "Rl = linspace(1e-7,50,1000)\n",
    "l=0\n",
    "En=-1.\n",
    "f = fSchrod(En,l,Rl[::-1])\n",
    "ur = Numerovc(f,0.0,1e-7,Rl[1]-Rl[0])[::-1]\n",
    "norm = integrate.simps(ur**2,x=Rl)\n",
    "ur *= 1/sqrt(abs(norm))\n",
    "\n",
    "plot(Rl,ur)\n",
    "show()"
   ]
  },
  {
   "cell_type": "markdown",
   "metadata": {},
   "source": [
    "Put it all together"
   ]
  },
  {
   "cell_type": "code",
   "execution_count": null,
   "metadata": {},
   "outputs": [],
   "source": [
    "@jit(nopython=True)    # This is the second new line with numba\n",
    "def Numerovc(f, x0, dx, dh):\n",
    "    x = zeros(len(f))\n",
    "    x[0]=x0\n",
    "    x[1]=x0+dh*dx\n",
    "    h2 = dh*dh;\n",
    "    h12 = h2/12.;\n",
    "    w0 = x[0]*(1-h12*f[0])\n",
    "    w1 = x[1]*(1-h12*f[1])\n",
    "    xi = x[1]\n",
    "    fi = f[1]\n",
    "    for i in range(2,f.size):\n",
    "        w2 = 2*w1-w0+h2*fi*xi  # here fi=f1\n",
    "        fi = f[i]              # fi=f2\n",
    "        xi = w2/(1-h12*fi)\n",
    "        x[i]=xi;\n",
    "        w0 = w1\n",
    "        w1 = w2\n",
    "    return x\n",
    "\n",
    "def fSchrod(En, l, R):\n",
    "    return l*(l+1.)/R**2-2./R-En\n",
    "\n",
    "def ComputeSchrod(En,R,l):\n",
    "    \"Computes Schrod Eq.\" \n",
    "    f = fSchrod(En,l,R[::-1])\n",
    "    ur = Numerovc(f,0.0,-1e-7,-R[1]+R[0])[::-1]\n",
    "    norm = integrate.simps(ur**2,x=R)\n",
    "    return ur*1/sqrt(abs(norm))\n",
    "\n",
    "def Shoot(En,R,l):\n",
    "    ur = ComputeSchrod(En,R,l)\n",
    "    ur = ur/R**l\n",
    "    f0 = ur[0]\n",
    "    f1 = ur[1]\n",
    "    f_at_0 = f0 + (f1-f0)*(0.0-R[0])/(R[1]-R[0])\n",
    "    return f_at_0\n",
    "\n",
    "def FindBoundStates(R,l,nmax,Esearch):\n",
    "    n=0\n",
    "    Ebnd=[]\n",
    "    u0 = Shoot(Esearch[0],R,l)\n",
    "    for i in range(1,len(Esearch)):\n",
    "        u1 = Shoot(Esearch[i],R,l)\n",
    "        if u0*u1<0:\n",
    "            Ebound = optimize.brentq(Shoot,Esearch[i-1],Esearch[i],xtol=1e-16,args=(R,l))\n",
    "            Ebnd.append((l,Ebound))\n",
    "            if len(Ebnd)>nmax: break\n",
    "            n+=1\n",
    "            print('Found bound state at E=%14.9f E_exact=%14.9f l=%d' % (Ebound, -1.0/(n+l)**2,l))\n",
    "        u0=u1\n",
    "    \n",
    "    return Ebnd\n",
    "\n",
    "def cmpKey(x):\n",
    "    return x[1]*1000 + x[0]  # energy has large wait, but degenerate energy states are sorted by l\n"
   ]
  },
  {
   "cell_type": "code",
   "execution_count": null,
   "metadata": {},
   "outputs": [],
   "source": [
    "Esearch = -1.2/arange(1,20,0.2)**2\n",
    "\n",
    "R = linspace(1e-8,100,2000)\n",
    "\n",
    "nmax=5\n",
    "Bnd=[]\n",
    "for l in range(nmax-1):\n",
    "    Bnd += FindBoundStates(R,l,nmax-l,Esearch)\n",
    "    \n",
    "Bnd = sorted(Bnd, key=cmpKey)\n",
    "\n",
    "Z=28  # Like Ni ion\n",
    "\n",
    "N=0\n",
    "rho=zeros(len(R))\n",
    "for (l,En) in Bnd:\n",
    "    #ur = SolveSchroedinger(En,l,R)\n",
    "    ur = ComputeSchrod(En,R,l)\n",
    "    dN = 2*(2*l+1)\n",
    "    if N+dN<=Z:\n",
    "        ferm=1.\n",
    "    else:\n",
    "        ferm=(Z-N)/float(dN)\n",
    "    drho = ur**2 * ferm * dN/(4*pi*R**2)\n",
    "    rho += drho\n",
    "    N += dN\n",
    "    print ('adding state', (l,En), 'with fermi=', ferm)\n",
    "    plot(R, drho*(4*pi*R**2))\n",
    "    if N>=Z: break\n",
    "xlim([0,25])\n",
    "show()\n",
    "\n",
    "plot(R,rho*(4*pi*R**2),label='charge density')\n",
    "xlim([0,25])\n",
    "show()\n",
    "\n"
   ]
  },
  {
   "cell_type": "code",
   "execution_count": null,
   "metadata": {},
   "outputs": [],
   "source": []
  }
 ],
 "metadata": {
  "kernelspec": {
   "display_name": "Python 3",
   "language": "python",
   "name": "python3"
  },
  "language_info": {
   "codemirror_mode": {
    "name": "ipython",
    "version": 3
   },
   "file_extension": ".py",
   "mimetype": "text/x-python",
   "name": "python",
   "nbconvert_exporter": "python",
   "pygments_lexer": "ipython3",
   "version": "3.8.5"
  }
 },
 "nbformat": 4,
 "nbformat_minor": 4
}
