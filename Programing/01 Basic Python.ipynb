{
 "cells": [
  {
   "cell_type": "markdown",
   "metadata": {},
   "source": [
    "## Basics of Python language\n"
   ]
  },
  {
   "cell_type": "markdown",
   "metadata": {},
   "source": [
    "## Variables and type\n",
    "\n",
    "### Symbol names\n",
    "\n",
    "There are a number of Python keywords that cannot be used as variable names. These keywords are:\n",
    " \n",
    "    and, as, assert, break, class, continue, def, del, elif, else, except, exec, finally, for, from, global, if, import, in, is, lambda, not, or, pass, print, raise, return, try, while, with, yield\n",
    "    \n",
    "Note: Be aware of the keyword `lambda`, which could easily be a natural variable name in a scientific program. But being a keyword, it cannot be used as a variable name.    "
   ]
  },
  {
   "cell_type": "markdown",
   "metadata": {},
   "source": [
    "## Fundamental types / lists / touples"
   ]
  },
  {
   "cell_type": "code",
   "execution_count": null,
   "metadata": {},
   "outputs": [],
   "source": [
    "x=1\n",
    "print (type(x))\n",
    "x=1.0\n",
    "print (type(x))\n",
    "x=True\n",
    "print (type(x))\n",
    "x=1.0+1.j\n",
    "print (type(x))\n",
    "x = 'my string'\n",
    "print (type(x), len(x))\n",
    "x = [1,2,3.0,2.+3j]\n",
    "y = (1,2,3.0,2.+3j)\n",
    "print(type(x))\n",
    "print(type(y))\n",
    "\n",
    "x[2]='ss'\n",
    "print([type(i) for i in x], [type(i) for i in y])\n",
    "\n"
   ]
  },
  {
   "cell_type": "markdown",
   "metadata": {},
   "source": [
    "## Formating strings and print statement"
   ]
  },
  {
   "cell_type": "code",
   "execution_count": null,
   "metadata": {},
   "outputs": [],
   "source": [
    "from math import *\n",
    "print('This is old', 'type',pi,1)"
   ]
  },
  {
   "cell_type": "code",
   "execution_count": null,
   "metadata": {},
   "outputs": [],
   "source": [
    "print('This is old %10s %12.10f %d' % ('type',pi, pi))"
   ]
  },
  {
   "cell_type": "code",
   "execution_count": null,
   "metadata": {},
   "outputs": [],
   "source": [
    "print(1.0, 'str1', 'str2', 'str3'+'str4')"
   ]
  },
  {
   "cell_type": "markdown",
   "metadata": {},
   "source": [
    "**Python2 type of printing, still very useful**"
   ]
  },
  {
   "cell_type": "code",
   "execution_count": null,
   "metadata": {},
   "outputs": [],
   "source": [
    "from math import *\n",
    "print( 'value of pi is %6.4f and integer part %d' % (pi, pi) )"
   ]
  },
  {
   "cell_type": "markdown",
   "metadata": {},
   "source": [
    "**More Python3 oriented printing**"
   ]
  },
  {
   "cell_type": "code",
   "execution_count": null,
   "metadata": {},
   "outputs": [],
   "source": [
    "print('value of pi is {0:6.4f} and integer part {1:d}'.format(pi, int(pi)))"
   ]
  },
  {
   "cell_type": "code",
   "execution_count": null,
   "metadata": {},
   "outputs": [],
   "source": [
    "print('value of pi is {1:6.4f} and integer part {0:d}'.format(int(pi),pi))"
   ]
  },
  {
   "cell_type": "markdown",
   "metadata": {},
   "source": [
    "We can also skip default values, like position argument or types"
   ]
  },
  {
   "cell_type": "code",
   "execution_count": null,
   "metadata": {},
   "outputs": [],
   "source": [
    "print('value of pi is {:6.4f} and integer part {:}'.format(pi,int(pi)))"
   ]
  },
  {
   "cell_type": "markdown",
   "metadata": {},
   "source": [
    "## Lists"
   ]
  },
  {
   "cell_type": "markdown",
   "metadata": {},
   "source": [
    "The syntax for creating list is [..,..,]\n",
    "\n",
    "The index starts with 0, like in C (not like in Fortran). Negative indices allowed.\n",
    "\n",
    "List can contain different types, and can be nested\n",
    "\n",
    "Slicing works just as with strings or arrays. Notation **[start:end:step]**, defaults can be omitted"
   ]
  },
  {
   "cell_type": "code",
   "execution_count": null,
   "metadata": {},
   "outputs": [],
   "source": [
    "l1=[1,'a',1.0,-1.1]\n",
    "print(l1[0], l1[-1])\n",
    "l2=[1,[1,[2,3]]]        # nested list\n",
    "print(l1[1::2] )        # start with 1st, and take every second till the end\n",
    "print(list(range(10)))  # range used in loops\n",
    "print(list(range(1,10,2))) # similar sintax: start,end,step"
   ]
  },
  {
   "cell_type": "code",
   "execution_count": null,
   "metadata": {},
   "outputs": [],
   "source": [
    "l1[1:-1:2]"
   ]
  },
  {
   "cell_type": "code",
   "execution_count": null,
   "metadata": {},
   "outputs": [],
   "source": [
    "list(range(1,10,2))"
   ]
  },
  {
   "cell_type": "code",
   "execution_count": null,
   "metadata": {},
   "outputs": [],
   "source": [
    "from numpy import *\n",
    "array([[1.,2],[3,4]])"
   ]
  },
  {
   "cell_type": "markdown",
   "metadata": {},
   "source": [
    "Modifying a list: \n",
    "* append\n",
    "* insert\n",
    "* remove\n",
    "* del\n"
   ]
  },
  {
   "cell_type": "code",
   "execution_count": null,
   "metadata": {},
   "outputs": [],
   "source": [
    "l=[] # empty list\n",
    "l.append('A')  # add at the end\n",
    "l.append('d')\n",
    "l.append('f')\n",
    "print(l)\n",
    "l[1]='e'       # modify\n",
    "print(l)\n",
    "l.insert(1,'k') # insert at specific location to extent the list\n",
    "print(l)\n",
    "l.remove('f')   # remove specific element, which must exist\n",
    "print(l)\n",
    "del l[1]        # remove an element at specific location\n",
    "print(l)"
   ]
  },
  {
   "cell_type": "markdown",
   "metadata": {},
   "source": [
    "## Tuples\n",
    "\n",
    "Are like lists, except non-modifiable. \n",
    "\n",
    "Most important use in returning from a function, and use in print statement."
   ]
  },
  {
   "cell_type": "code",
   "execution_count": null,
   "metadata": {},
   "outputs": [],
   "source": [
    "point=(10,20,30)\n",
    "# point[0]=1 # can not be done\n",
    "point=(1,20,30) # modifying the entire tuple is allowed, i.e., it is not a constant\n",
    "#unpack it\n",
    "x,y,z = point\n",
    "print(x,y)\n",
    "\n",
    "print('I want nice printout %10.3f' % (pi,))\n",
    "\n",
    "def Simple():\n",
    "    # need to return several things\n",
    "    return ('a','b','c')\n",
    "\n",
    "x,y,z = Simple()\n",
    "print(x,y,z)"
   ]
  },
  {
   "cell_type": "markdown",
   "metadata": {},
   "source": [
    "## Dictionaries\n",
    "\n",
    "Dictionaries are like lists, but their keys are not integers, rather key can be any scalar type or tuple of scalar types\n",
    "\n",
    "Dictionary is constructed by {...}"
   ]
  },
  {
   "cell_type": "code",
   "execution_count": null,
   "metadata": {},
   "outputs": [],
   "source": [
    "a=[3,4,7,8,9]\n",
    "\n",
    "if 10 in a:\n",
    "    print(a)"
   ]
  },
  {
   "cell_type": "code",
   "execution_count": null,
   "metadata": {},
   "outputs": [],
   "source": [
    "# This acts just like list\n",
    "di={}\n",
    "di[0]='a'\n",
    "di[1]='b'\n",
    "di[2]='c'\n",
    "#print(di) \n",
    "print(di[0], di[1], di[2])\n",
    "\n",
    "# Generic keys\n",
    "dj={}\n",
    "dj[300]='c'\n",
    "dj[600]='d'\n",
    "dj['cde']=1\n",
    "dj[(1,2)]=5\n",
    "print(dj)\n",
    "\n",
    "print(dj[(1,2)])\n",
    "\n",
    "if (3,4) in dj:\n",
    "    print(dj[(3,4)])\n",
    "else:\n",
    "    dj[(3,4)]='something'\n",
    "\n",
    "print(dj)\n",
    "\n",
    "\n",
    "\n",
    "# can also construct all at once\n",
    "dk={300:'c', 600:'d', 'cde':1, (1,2):5}\n",
    "\n",
    "\n",
    "# print it out by iterating over keys\n",
    "for k in dk.keys():\n",
    "    print(k, dk[k])\n",
    "print()    \n",
    "\n",
    "\n",
    "# print by iterating over (key,value) pairs\n",
    "for k,v in dk.items():\n",
    "    print(k,v)"
   ]
  },
  {
   "cell_type": "code",
   "execution_count": null,
   "metadata": {},
   "outputs": [],
   "source": [
    "list(dk.keys())\n",
    "list(dk.items())"
   ]
  },
  {
   "cell_type": "code",
   "execution_count": null,
   "metadata": {},
   "outputs": [],
   "source": [
    "from math import *\n",
    "\n",
    "di={}\n",
    "di={(100,100):pi,(100,300):2*pi}\n",
    "print(di)"
   ]
  },
  {
   "cell_type": "markdown",
   "metadata": {},
   "source": [
    "## Control flow\n",
    "\n",
    "* if, else, elif\n",
    "\n",
    "* loops using for & while\n",
    "\n",
    "* List comprehensions: inline for statement\n",
    "   \n",
    "   [ < do something with i > for i in data]"
   ]
  },
  {
   "cell_type": "code",
   "execution_count": null,
   "metadata": {},
   "outputs": [],
   "source": [
    "statement1=statement2=statement3=True\n",
    "statement2=False\n",
    "\n",
    "if (statement1):\n",
    "    if (statement2):\n",
    "        print ('both statements are true')\n",
    "    elif (statement3):\n",
    "        print ('statement2 is wrong but statement3 is true')\n"
   ]
  },
  {
   "cell_type": "code",
   "execution_count": null,
   "metadata": {},
   "outputs": [],
   "source": [
    "bool(100)"
   ]
  },
  {
   "cell_type": "code",
   "execution_count": null,
   "metadata": {},
   "outputs": [],
   "source": [
    "for x in range(-3,3,1):\n",
    "    print(x)\n",
    "    \n",
    "ls=['scientific','computing','in','Python']\n",
    "for word in ls:\n",
    "    print(word)\n",
    "    \n",
    "for i,word in enumerate(ls):\n",
    "    print('At index',i, 'we have string',word)\n",
    "    \n",
    "for i in range(len(ls)):\n",
    "    word = ls[i]\n",
    "    print('At index',i, 'we have string',word)       "
   ]
  },
  {
   "cell_type": "code",
   "execution_count": null,
   "metadata": {},
   "outputs": [],
   "source": [
    "list(enumerate(ls))"
   ]
  },
  {
   "cell_type": "code",
   "execution_count": null,
   "metadata": {},
   "outputs": [],
   "source": [
    "i=0\n",
    "while i<5:\n",
    "    print(i)\n",
    "    i=i+1"
   ]
  },
  {
   "cell_type": "code",
   "execution_count": null,
   "metadata": {},
   "outputs": [],
   "source": [
    "for i in range(10000):\n",
    "    if i>=5: break\n",
    "    print(i)"
   ]
  },
  {
   "cell_type": "code",
   "execution_count": null,
   "metadata": {},
   "outputs": [],
   "source": [
    "l1=[]\n",
    "for x in range(5):\n",
    "    l1.append(x**2)\n",
    "print(l1)"
   ]
  },
  {
   "cell_type": "code",
   "execution_count": null,
   "metadata": {},
   "outputs": [],
   "source": [
    "l1=[x**2 for x in range(5)]\n",
    "print(l1)"
   ]
  },
  {
   "cell_type": "code",
   "execution_count": null,
   "metadata": {},
   "outputs": [],
   "source": [
    "[(j,i) for j in range(5) for i in range(5)]"
   ]
  },
  {
   "cell_type": "code",
   "execution_count": null,
   "metadata": {},
   "outputs": [],
   "source": [
    "for i in range(5):\n",
    "    for j in range(5):\n",
    "        print (i,j)"
   ]
  },
  {
   "cell_type": "markdown",
   "metadata": {},
   "source": [
    "## Functions\n",
    "\n",
    "* A functions starts with keyword `def`\n",
    "* Very useful is the `docstring`, i.e., a string at the begining, which explains what the function does\n",
    "* Multiple things (classes or values) can be returned by tuples\n",
    "* function can have default and keyword arguments"
   ]
  },
  {
   "cell_type": "code",
   "execution_count": null,
   "metadata": {},
   "outputs": [],
   "source": [
    "def funca(s):\n",
    "    \"\"\"Print a string and tell how many characters it has.\n",
    "       Returns the length\n",
    "    \"\"\"\n",
    "    \n",
    "    print(s,'has',len(s),'characters')\n",
    "    return (len(s),s)\n",
    "    \n",
    "l,s = funca('something')\n",
    "\n",
    "print(funca('This string'))\n",
    "help(funca)"
   ]
  },
  {
   "cell_type": "markdown",
   "metadata": {},
   "source": [
    "If we explicitly list the name of the arguments in the function calls, they do not need to come in the same order as in the function definition. This is called keyword arguments, and is often very useful in functions that takes a lot of optional arguments."
   ]
  },
  {
   "cell_type": "code",
   "execution_count": null,
   "metadata": {},
   "outputs": [],
   "source": [
    "def funca(s,prnt=False,extra='p'):\n",
    "    \"\"\"Print a string with extra attached, \n",
    "    and returns new string.\n",
    "    \"\"\"\n",
    "    sn = s+extra\n",
    "    if prnt:\n",
    "        print(sn,'has',len(sn),'characters')\n",
    "    return sn\n",
    "\n",
    "funca('This str',extra='q')"
   ]
  },
  {
   "cell_type": "code",
   "execution_count": null,
   "metadata": {},
   "outputs": [],
   "source": [
    "from scipy import integrate\n",
    "help(integrate.quad)"
   ]
  },
  {
   "cell_type": "markdown",
   "metadata": {},
   "source": [
    "## Unnamed functions (lambda function)\n",
    "\n",
    "In Python we can also create unnamed functions, using the lambda keyword:"
   ]
  },
  {
   "cell_type": "code",
   "execution_count": null,
   "metadata": {},
   "outputs": [],
   "source": [
    "def f2(x):\n",
    "    return x**2\n",
    "\n",
    "# is equivalent to\n",
    "\n",
    "f1 = lambda x: x**2\n"
   ]
  },
  {
   "cell_type": "code",
   "execution_count": null,
   "metadata": {},
   "outputs": [],
   "source": [
    "f1(3), f2(3)"
   ]
  },
  {
   "cell_type": "markdown",
   "metadata": {},
   "source": [
    "This technique is useful for example when we want to pass a simple function as an argument to another function, like this:"
   ]
  },
  {
   "cell_type": "code",
   "execution_count": null,
   "metadata": {},
   "outputs": [],
   "source": [
    "help(integrate.quad)"
   ]
  },
  {
   "cell_type": "code",
   "execution_count": null,
   "metadata": {},
   "outputs": [],
   "source": [
    "from scipy import integrate\n",
    "\n",
    "def square(x):\n",
    "    return x**2\n",
    "\n",
    "\n",
    "integrate.quad(lambda x: sin(x)/x,0,1)\n",
    "integrate.quad(square, 0,1,)"
   ]
  },
  {
   "cell_type": "markdown",
   "metadata": {},
   "source": [
    "## Classes\n",
    "\n",
    "A class can contain attributes (variables) and methods (functions).\n",
    "\n",
    "A class is defined by `class` keyword, and the class can contains a number of class method definitions (a function in a class).\n",
    "\n",
    "* Each class method should have an argument self as its first argument. This object is a self-reference.\n",
    "* Some class method names have special meaning, for example:\n",
    "    * `__init__` : Constructor, i.e., the name of the method that is invoked when the object is first created.\n",
    "    * `__str__` : A method that is invoked when a simple string representation of the class is needed, as for example when printed.\n",
    "    * `__repr__` : Representation of the class when printed\n",
    "    * `__call__` : Functor, i.e, called when the instance is “called” as a function\n",
    "    * There are many more, see http://docs.python.org/2/reference/datamodel.html#special-method-names"
   ]
  },
  {
   "cell_type": "code",
   "execution_count": null,
   "metadata": {},
   "outputs": [],
   "source": [
    "class Point:\n",
    "    \"\"\"\n",
    "    Simple class for representing a point in a Cartesian coordinate system.\n",
    "    \"\"\"\n",
    "    def __init__(self, x, y):\n",
    "        \"\"\"\n",
    "        Create a new Point at x, y.\n",
    "        \"\"\"\n",
    "        self.x = x\n",
    "        self.y = y\n",
    "        #print('you gave me x and y=', x, y)\n",
    "    def translate(self, dx, dy):\n",
    "        \"\"\"\n",
    "        Translate the point by dx and dy in the x and y direction.\n",
    "        \"\"\"\n",
    "        self.x += dx\n",
    "        self.y += dy\n",
    "    def __str__(self):        \n",
    "        return(\"Point at [%f, %f]\" % (self.x, self.y))\n",
    "    def __call__(self,z):\n",
    "        return self.x,self.y,z"
   ]
  },
  {
   "cell_type": "code",
   "execution_count": null,
   "metadata": {
    "scrolled": true
   },
   "outputs": [],
   "source": [
    "q = Point(2.,3.)\n",
    "\n",
    "q.translate(1,1)\n",
    "\n",
    "print(q.x, q.y)\n",
    "\n",
    "q(4.5)"
   ]
  },
  {
   "cell_type": "code",
   "execution_count": null,
   "metadata": {},
   "outputs": [],
   "source": [
    "p = Point(1.,2.)\n",
    "\n",
    "print( p )\n",
    "\n",
    "p.translate(1,1)\n",
    "\n",
    "print(p)\n",
    "\n",
    "print(p(1.0))\n",
    "\n",
    "print(p.x,p.y)"
   ]
  },
  {
   "cell_type": "markdown",
   "metadata": {},
   "source": [
    "## Modules\n",
    "\n",
    "For additional modularity, modules are provided in Python.\n",
    "\n",
    "The modularity in Python is:\n",
    "* variables, functions\n",
    "* classes, which combine variables and functions\n",
    "* modules, which combine classes, variables and functions into a unit, usually a file\n",
    "\n",
    "Module is a python file (`*.py`) or a module created by compiler (`*.so`)\n",
    "\n",
    "Outside jupyter (in regular python) we just create a file with the code, and call it a module.\n",
    "\n",
    "Within jupyter, we need to write code into a file, and than load the module (file)."
   ]
  },
  {
   "cell_type": "code",
   "execution_count": null,
   "metadata": {},
   "outputs": [],
   "source": [
    "%%file mymodule.py  \n",
    "# This will write the following content into a file\n",
    "\"\"\"\n",
    "Example of a python module. Contains a variable called my_variable,\n",
    "a function called my_function, and a class called MyClass.\n",
    "\"\"\"\n",
    "\n",
    "my_variable = 0\n",
    "\n",
    "def my_function():\n",
    "    \"\"\"\n",
    "    Example function\n",
    "    \"\"\"\n",
    "    return my_variable\n",
    "    \n",
    "class MyClass:\n",
    "    \"\"\"\n",
    "    Example class.\n",
    "    \"\"\"\n",
    "\n",
    "    def __init__(self):\n",
    "        self.variable = my_variable\n",
    "        \n",
    "    def set_variable(self, new_value):\n",
    "        \"\"\"\n",
    "        Set self.variable to a new value\n",
    "        \"\"\"\n",
    "        self.variable = new_value\n",
    "        \n",
    "    def get_variable(self):\n",
    "        return self.variable\n",
    "   \n",
    "print(__name__)\n",
    "\n",
    "if __name__ == '__main__':\n",
    "    \"test the module\"\n",
    "    m = MyClass()\n",
    "    m.set_variable(1.)\n",
    "    print(m.get_variable())"
   ]
  },
  {
   "cell_type": "code",
   "execution_count": null,
   "metadata": {},
   "outputs": [],
   "source": [
    "!cat mymodule.py"
   ]
  },
  {
   "cell_type": "code",
   "execution_count": null,
   "metadata": {},
   "outputs": [],
   "source": [
    "import mymodule as my\n",
    "import scipy as sy\n",
    "#help(mymodule)"
   ]
  },
  {
   "cell_type": "code",
   "execution_count": null,
   "metadata": {},
   "outputs": [],
   "source": [
    "m = my.MyClass()\n",
    "m.set_variable(10)\n",
    "m.get_variable()"
   ]
  },
  {
   "cell_type": "code",
   "execution_count": null,
   "metadata": {},
   "outputs": [],
   "source": []
  }
 ],
 "metadata": {
  "kernelspec": {
   "display_name": "Python 3",
   "language": "python",
   "name": "python3"
  },
  "language_info": {
   "codemirror_mode": {
    "name": "ipython",
    "version": 3
   },
   "file_extension": ".py",
   "mimetype": "text/x-python",
   "name": "python",
   "nbconvert_exporter": "python",
   "pygments_lexer": "ipython3",
   "version": "3.8.5"
  }
 },
 "nbformat": 4,
 "nbformat_minor": 4
}
