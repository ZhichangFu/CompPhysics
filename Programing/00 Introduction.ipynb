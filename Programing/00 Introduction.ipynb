{
 "cells": [
  {
   "cell_type": "markdown",
   "metadata": {},
   "source": [
    "## Introduction: The basics of Notebook\n",
    "\n",
    "You can write standard Python:"
   ]
  },
  {
   "cell_type": "code",
   "execution_count": null,
   "metadata": {},
   "outputs": [],
   "source": [
    "from math import *\n",
    "cos(pi)"
   ]
  },
  {
   "cell_type": "code",
   "execution_count": null,
   "metadata": {},
   "outputs": [],
   "source": [
    "import math\n",
    "print(dir(math))\n",
    "help(math.log)\n",
    "log(2,10)"
   ]
  },
  {
   "cell_type": "markdown",
   "metadata": {},
   "source": [
    "## Two modes\n",
    "\n",
    "**Command Mode** and **Edit Mode**\n",
    "\n",
    "\"Return\" and \"Esc\" to switch between **Command** and **Edit** modes\n",
    "\n",
    "**To Execute** : \"Shift Return\"\n",
    "\n",
    "**To return to Edit mode** : \"Return/double click\"\n",
    "\n",
    "**hide long cell output** double click"
   ]
  },
  {
   "cell_type": "code",
   "execution_count": null,
   "metadata": {},
   "outputs": [],
   "source": [
    "import requests\n",
    "resp = requests.get(\"http://www.physics.rutgers.edu/grad/509/\")\n",
    "resp.content"
   ]
  },
  {
   "cell_type": "markdown",
   "metadata": {},
   "source": [
    "## Two (main) cell types\n",
    "\n",
    "In a different type of cell, you can:\n",
    "\n",
    "* write Markdown\n",
    "* embed LaTex equation in it\n",
    "\n",
    "So you can add comments to your code explaining that, to calculate your cycling speed, you must make use of the fact that\n",
    "\n",
    "$[x,p_x]=i \\hbar$."
   ]
  },
  {
   "cell_type": "markdown",
   "metadata": {},
   "source": [
    "## Some basic operations and keystrokes:\n",
    "\n",
    "Toggling toolbars.\n",
    "\n",
    "* Return and Esc\n",
    "* A (new cell before) and B (new cell after)\n",
    "* X (cut cell), C (copy cell), V (paste cell)\n",
    "* DD (delete cell)\n",
    "\n",
    "The different types of Return:\n",
    "* Shift-Return\n",
    "* Ctrl-Return\n",
    "* Alt-Return\n",
    "\n",
    "Choosing cell type:\n",
    "* M (for Markdown)\n",
    "* Y (for code)"
   ]
  },
  {
   "cell_type": "markdown",
   "metadata": {},
   "source": [
    "Use ! to use shell comman right inside notebook"
   ]
  },
  {
   "cell_type": "code",
   "execution_count": null,
   "metadata": {},
   "outputs": [],
   "source": [
    "!ls -ltr"
   ]
  },
  {
   "cell_type": "markdown",
   "metadata": {},
   "source": [
    "## Sharing your notebooks\n",
    "\n",
    "You can just send people the .ipynb files; they'll contain your input and (optionally) your output.\n",
    "\n",
    "Other ways to view and run:\n",
    "\n",
    "* **nbconvert** - e.g. convert to static HTML, LaTeX, PDF, Python script, etc\n",
    "* **Github & Bitbucket** - rendered, but static, e.g. for [qhue](https://github.com/quentinsf/qhue)\n",
    "* **nbviewer** - http://nbviewer.jupyter.org\n",
    "* **binder** or **Azure notebooks** - take a github repo with notebooks, and run them in a Docker session   \\[mybinder.org\\]\n",
    "* **jupyterhub** - run locally to make jupyter environments available to users\n",
    "\n",
    "---"
   ]
  },
  {
   "cell_type": "markdown",
   "metadata": {},
   "source": [
    "## Understanding the kernel setting\n",
    "\n",
    "The running Python environment is determined by the *kernel setting* of your notebook and not, for example, by the virtualenv you happen to be in.\n",
    "\n",
    "Here's where your shell environment will find python, pip etc:"
   ]
  },
  {
   "cell_type": "code",
   "execution_count": null,
   "metadata": {},
   "outputs": [],
   "source": [
    "!which python"
   ]
  },
  {
   "cell_type": "markdown",
   "metadata": {},
   "source": [
    "That's often the Python that's running the notebook server."
   ]
  },
  {
   "cell_type": "markdown",
   "metadata": {},
   "source": [
    "And here's the Python running *this notebook*, defined by the choice of kernel:"
   ]
  },
  {
   "cell_type": "code",
   "execution_count": null,
   "metadata": {},
   "outputs": [],
   "source": [
    "import sys\n",
    "sys.executable"
   ]
  },
  {
   "cell_type": "markdown",
   "metadata": {},
   "source": [
    "## And lastly...\n",
    "\n",
    "Close and Halt\n"
   ]
  },
  {
   "cell_type": "code",
   "execution_count": null,
   "metadata": {},
   "outputs": [],
   "source": [
    "from scipy import *\n",
    "from numpy import *"
   ]
  },
  {
   "cell_type": "code",
   "execution_count": null,
   "metadata": {},
   "outputs": [],
   "source": [
    "import scipy.linalg as la"
   ]
  },
  {
   "cell_type": "code",
   "execution_count": null,
   "metadata": {},
   "outputs": [],
   "source": [
    "from scipy.special import jn, yn, jn_zeros, yn_zeros"
   ]
  },
  {
   "cell_type": "code",
   "execution_count": null,
   "metadata": {},
   "outputs": [],
   "source": [
    "%matplotlib inline\n",
    "import matplotlib.pyplot as plt"
   ]
  },
  {
   "cell_type": "code",
   "execution_count": null,
   "metadata": {},
   "outputs": [],
   "source": [
    "x=linspace(0,4*pi,200)\n",
    "plt.plot(x, jn(0,x), label='$j_0$')\n",
    "plt.plot(x, jn(2,x), label='$j_2$')\n",
    "plt.plot(x, jn(4,x), label='$j_4$')\n",
    "plt.legend()"
   ]
  },
  {
   "cell_type": "code",
   "execution_count": null,
   "metadata": {},
   "outputs": [],
   "source": [
    "n=1.0\n",
    "x=0.3\n",
    "print(\"J_%d(%f) = %f\" % (n, x, jn(n, x)))"
   ]
  },
  {
   "cell_type": "code",
   "execution_count": null,
   "metadata": {},
   "outputs": [],
   "source": [
    "from scipy.integrate import quad, dblquad, tplquad"
   ]
  },
  {
   "cell_type": "code",
   "execution_count": null,
   "metadata": {},
   "outputs": [],
   "source": [
    "val, abserr=quad(lambda x,n: jn(n,x), 0,1, args=(0,))\n",
    "print ('val=', val, 'err=', abserr)"
   ]
  },
  {
   "cell_type": "code",
   "execution_count": null,
   "metadata": {},
   "outputs": [],
   "source": [
    "quad(lambda x: exp(-x*x)/sqrt(pi), -Inf,Inf)"
   ]
  },
  {
   "cell_type": "code",
   "execution_count": null,
   "metadata": {},
   "outputs": [],
   "source": [
    "dblquad(lambda x,y: (exp(-x*x)*exp(-y*y))/pi, -Inf,Inf, lambda x: -Inf, lambda x: Inf)"
   ]
  },
  {
   "cell_type": "code",
   "execution_count": null,
   "metadata": {},
   "outputs": [],
   "source": [
    "from scipy.integrate import odeint, ode"
   ]
  },
  {
   "cell_type": "code",
   "execution_count": null,
   "metadata": {},
   "outputs": [],
   "source": [
    "help(odeint)"
   ]
  },
  {
   "cell_type": "code",
   "execution_count": null,
   "metadata": {},
   "outputs": [],
   "source": [
    "def dx(x,t):\n",
    "    \" x=[x1,x2,x3,x4]\"\n",
    "    g, L, m = 9.82, 0.5, 0.1\n",
    "    \n",
    "    x1,x2,x3,x4 = x\n",
    "    c1 = 1/(m*L**2)\n",
    "    dx1 = 6.*c1 * (2*x3-3*cos(x1-x2)*x4)/(16.-9.*cos(x1-x2)**2)\n",
    "    dx2 = 6.*c1 * (8*x4-3*cos(x1-x2)*x3)/(16.-9.*cos(x1-x2)**2)\n",
    "    dx3 = -0.5/c1 * (dx1*dx2 * sin(x1-x2) + 3*g/L * sin(x1))\n",
    "    dx4 = -0.5/c1 * (-dx1*dx2 * sin(x1-x2)+ g/L * sin(x2))\n",
    "    return array([dx1,dx2,dx3,dx4])"
   ]
  },
  {
   "cell_type": "code",
   "execution_count": null,
   "metadata": {},
   "outputs": [],
   "source": [
    "x0=[pi/4,pi/2,0,0]\n",
    "t = linspace(0,10,250)"
   ]
  },
  {
   "cell_type": "code",
   "execution_count": null,
   "metadata": {},
   "outputs": [],
   "source": [
    "x = odeint(dx, x0, t)"
   ]
  },
  {
   "cell_type": "code",
   "execution_count": null,
   "metadata": {},
   "outputs": [],
   "source": [
    "plt.plot(t, x[:,0], label='theta1')\n",
    "plt.plot(t, x[:,1], label='theta2')\n",
    "plt.legend(loc='best')"
   ]
  },
  {
   "cell_type": "code",
   "execution_count": null,
   "metadata": {},
   "outputs": [],
   "source": [
    "L=0.5\n",
    "x1 = L * sin(x[:,0])\n",
    "y1 = -L * cos(x[:,0])\n",
    "x2 = x1 + L * sin(x[:,1])\n",
    "y2 = y1 - L * cos(x[:,1])\n",
    "\n",
    "plt.plot(x1,y1, label='pendulum1')\n",
    "plt.plot(x2,y2, label='pendulum2')\n"
   ]
  },
  {
   "cell_type": "code",
   "execution_count": null,
   "metadata": {},
   "outputs": [],
   "source": [
    "import time\n",
    "from IPython.display import clear_output\n",
    "\n",
    "fig, ax = plt.subplots(figsize=(4,4))\n",
    "\n",
    "for t_idx, tt in enumerate(t[:200]):\n",
    "\n",
    "    x1 = + L * sin(x[t_idx, 0])\n",
    "    y1 = - L * cos(x[t_idx, 0])\n",
    "\n",
    "    x2 = x1 + L * sin(x[t_idx, 1])\n",
    "    y2 = y1 - L * cos(x[t_idx, 1])\n",
    "    \n",
    "    ax.cla()    \n",
    "    ax.plot([0, x1], [0, y1], 'r.-')\n",
    "    ax.plot([x1, x2], [y1, y2], 'b.-')\n",
    "    ax.set_ylim([-1.5, 0.5])\n",
    "    ax.set_xlim([1, -1])\n",
    "\n",
    "    clear_output() \n",
    "    display(fig)\n",
    "\n",
    "    time.sleep(0.1)\n"
   ]
  },
  {
   "cell_type": "code",
   "execution_count": null,
   "metadata": {},
   "outputs": [],
   "source": [
    "def dy(y, t, zeta, w0):\n",
    "    x, p = y\n",
    "    dx = p\n",
    "    dp = -2*zeta*w0*p - w0**2 * x\n",
    "    return array([dx,dp])"
   ]
  },
  {
   "cell_type": "code",
   "execution_count": null,
   "metadata": {},
   "outputs": [],
   "source": [
    "y0 = [1.0,0.0]\n",
    "t = linspace(0,10,1000)\n",
    "w0 = 2*pi"
   ]
  },
  {
   "cell_type": "code",
   "execution_count": null,
   "metadata": {},
   "outputs": [],
   "source": [
    "y1 = odeint(dy, y0, t, args=(0.0,w0)) # undamped\n",
    "y2 = odeint(dy, y0, t, args=(0.2,w0)) # under damped\n",
    "y3 = odeint(dy, y0, t, args=(1.0,w0)) # critical damping\n",
    "y4 = odeint(dy, y0, t, args=(5.0,w0)) # over damped"
   ]
  },
  {
   "cell_type": "code",
   "execution_count": null,
   "metadata": {},
   "outputs": [],
   "source": [
    "plt.plot(t, y1[:,0], label='undamped')\n",
    "plt.plot(t, y2[:,0], label='under damped')\n",
    "plt.plot(t, y3[:,0], label='critical damping')\n",
    "plt.plot(t, y4[:,0], label='over damped')\n",
    "plt.legend(loc='best')"
   ]
  },
  {
   "cell_type": "code",
   "execution_count": null,
   "metadata": {},
   "outputs": [],
   "source": []
  }
 ],
 "metadata": {
  "kernelspec": {
   "display_name": "Python 3",
   "language": "python",
   "name": "python3"
  },
  "language_info": {
   "codemirror_mode": {
    "name": "ipython",
    "version": 3
   },
   "file_extension": ".py",
   "mimetype": "text/x-python",
   "name": "python",
   "nbconvert_exporter": "python",
   "pygments_lexer": "ipython3",
   "version": "3.8.5"
  }
 },
 "nbformat": 4,
 "nbformat_minor": 4
}
